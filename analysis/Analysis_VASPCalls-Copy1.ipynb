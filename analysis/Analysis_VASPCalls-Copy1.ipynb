{
 "cells": [
  {
   "cell_type": "code",
   "execution_count": 1,
   "id": "a0d1a007",
   "metadata": {},
   "outputs": [],
   "source": [
    "from ase.io import read, write, Trajectory\n",
    "import numpy as np"
   ]
  },
  {
   "cell_type": "code",
   "execution_count": 2,
   "id": "ca3fc447",
   "metadata": {},
   "outputs": [],
   "source": [
    "def CoM(clus):\n",
    "    \"\"\"\n",
    "    Support function to set the origin of the cluster at the centre of the mass\n",
    "    \"\"\"\n",
    "    (cx, cy, cz) = clus.get_center_of_mass()\n",
    "    new_xyz = []\n",
    "    for i, a in enumerate(clus):\n",
    "        x, y, z = a.position\n",
    "        x -= cx\n",
    "        y -= cy\n",
    "        z -= cz\n",
    "        new_xyz.append((x, y, z))\n",
    "    clus.set_positions(new_xyz)\n",
    "    return clus"
   ]
  },
  {
   "cell_type": "code",
   "execution_count": 3,
   "id": "ac80b48d",
   "metadata": {},
   "outputs": [],
   "source": [
    "def checkSimilar(clus1, clus2):\n",
    "\n",
    "    \"\"\"Check whether two clusters are similar or not by comparing their moments of inertia\"\"\"\n",
    "    Inertia1 = clus1.get_moments_of_inertia()\n",
    "    Inertia2 = clus2.get_moments_of_inertia()\n",
    "    # print(Inertia1, Inertia2, 'diff: ', Inertia1-Inertia2)\n",
    "\n",
    "    tol = 0.01\n",
    "    if (\n",
    "        Inertia1[0] * (1 - tol) <= Inertia2[0] <= Inertia1[0] * (1 + tol)\n",
    "        and Inertia1[1] * (1 - tol) <= Inertia2[1] <= Inertia1[1] * (1 + tol)\n",
    "        and Inertia1[2] * (1 - tol) <= Inertia2[2] <= Inertia1[2] * (1 + tol)\n",
    "    ):\n",
    "        similar = True\n",
    "    else:\n",
    "        similar = False\n",
    "\n",
    "    return similar"
   ]
  },
  {
   "cell_type": "code",
   "execution_count": 4,
   "id": "ce2e5ce2",
   "metadata": {},
   "outputs": [],
   "source": [
    "gen = 25"
   ]
  },
  {
   "cell_type": "code",
   "execution_count": 5,
   "id": "25f240e2",
   "metadata": {},
   "outputs": [
    {
     "name": "stdout",
     "output_type": "stream",
     "text": [
      "230\n",
      "18\n",
      "248\n",
      "[10, 10, 10, 10, 10, 10, 10, 10, 10, 10, 10, 10, 10, 10, 10, 9, 10, 10, 10, 10, 10, 10, 10, 10, 9]\n",
      "[10, 10, 10, 10, 10, 10, 10, 10, 10, 10, 10, 10, 10, 10, 10, 10, 10, 10, 10, 10, 10, 10, 10, 10, 9]\n"
     ]
    }
   ],
   "source": [
    "num_check_similar = 0\n",
    "diff_dist_abs_sum_list = []\n",
    "\n",
    "non_similar_clus = []\n",
    "similar_clus = []\n",
    "non_similar_clus_ene_list = []\n",
    "similar_clus_ene_list = []\n",
    "non_similar_clus_diff_dist = []\n",
    "similar_clus_diff_dist = []\n",
    "\n",
    "n_traj1_list = []\n",
    "n_traj2_list = []\n",
    "\n",
    "for k in range(gen):\n",
    "    file1  = 'mut_after_relax_gen'+str(k+1)+'.traj'\n",
    "    file2  = 'vasp_mut_after_relax_gen'+str(k+1)+'.traj'\n",
    "\n",
    "    traj1 = Trajectory(file1)\n",
    "    traj2 = Trajectory(file2)\n",
    "    \n",
    "    n_traj1 = len(traj1)\n",
    "    n_traj2 = len(traj2)\n",
    "    n_traj1_list.append(n_traj1)\n",
    "    n_traj2_list.append(n_traj2)\n",
    "    \n",
    "    for i in range(len(traj1)):\n",
    "        num_check_similar = num_check_similar + 1\n",
    "        clus1 = traj1[i]\n",
    "        clus2 = traj2[i]\n",
    "        \n",
    "        ene1 = clus1.get_potential_energy()\n",
    "        ene2 = clus2.get_potential_energy()\n",
    "        diff_ene = ene1 - ene2\n",
    "        \n",
    "        dist1 = clus1.get_all_distances() \n",
    "        dist2 = clus2.get_all_distances()\n",
    "        diff_dist = dist1 - dist2\n",
    "        diff_dist_abs = np.absolute(diff_dist)\n",
    "        diff_dist_avg = np.sum(diff_dist_abs) / len(diff_dist)**2\n",
    "        \n",
    "        inertia1 = clus1.get_moments_of_inertia()\n",
    "        inertia2 = clus2.get_moments_of_inertia()\n",
    "        diff_inertia = inertia1 - inertia2\n",
    "              \n",
    "        if checkSimilar(clus1, clus2) == True:\n",
    "            if diff_dist_avg > 0.02:\n",
    "                if abs(diff_ene) > 0.02:\n",
    "                    non_similar_clus.append((k,i))\n",
    "                    non_similar_clus_ene_list.append(diff_ene)\n",
    "                    non_similar_clus_diff_dist.append(diff_dist_avg)\n",
    "                    print((k, i),diff_dist_avg, diff_ene, diff_inertia )\n",
    "                else:\n",
    "                    similar_clus.append((k,i))\n",
    "                    similar_clus_ene_list.append(diff_ene)\n",
    "                    similar_clus_diff_dist.append(diff_dist_avg)\n",
    "                    #print((k, i),diff_dist_avg, diff_ene, diff_inertia )  \n",
    "                    \n",
    "            else:\n",
    "                similar_clus.append((k,i))\n",
    "                similar_clus_ene_list.append(diff_ene)\n",
    "                similar_clus_diff_dist.append(diff_dist_avg)\n",
    "                #print((k, i),diff_dist_avg, diff_ene, diff_inertia )  \n",
    "                \n",
    "        else:\n",
    "            if diff_dist_avg < 0.02:\n",
    "                if abs(diff_ene) < 0.02:\n",
    "                    similar_clus.append((k,i))\n",
    "                    similar_clus_ene_list.append(diff_ene)\n",
    "                    similar_clus_diff_dist.append(diff_dist_avg)\n",
    "                    #print((k, i),diff_dist_avg, diff_ene, diff_inertia )\n",
    "                else: \n",
    "                    non_similar_clus.append((k,i))\n",
    "                    non_similar_clus_ene_list.append(diff_ene)\n",
    "                    non_similar_clus_diff_dist.append(diff_dist_avg)\n",
    "                    print((k, i),diff_dist_avg, diff_ene, diff_inertia )\n",
    "            else:\n",
    "                non_similar_clus.append((k,i))\n",
    "                non_similar_clus_ene_list.append(diff_ene)\n",
    "                non_similar_clus_diff_dist.append(diff_dist_avg)\n",
    "                #print((k, i),diff_dist_avg, diff_ene, diff_inertia )\n",
    "\n",
    "print(len(non_similar_clus))\n",
    "print(len(similar_clus))\n",
    "print(num_check_similar)\n",
    "\n",
    "#print(sorted(non_similar_clus_ene_list))\n",
    "#print(non_similar_clus)\n",
    "#print(sorted(non_similar_clus_ene_list))\n",
    "#print(sorted(non_similar_clus_diff_dist))\n",
    "\n",
    "print(n_traj1_list)\n",
    "print(n_traj2_list)"
   ]
  },
  {
   "cell_type": "code",
   "execution_count": 7,
   "id": "d19a02bd",
   "metadata": {},
   "outputs": [
    {
     "name": "stdout",
     "output_type": "stream",
     "text": [
      "[37, 7, 27, 67, 21, 33, 13, 30, 47, 11]\n",
      "[28, 40, 11, 31, 24, 27, 44, 25, 25, 42]\n",
      "[23, 18, 13, 38, 12, 30, 35, 41, 33, 21]\n",
      "[33, 28, 18, 49, 30, 30, 17, 27, 24, 22]\n",
      "[21, 26, 30, 34, 39, 29, 32, 34, 27, 34]\n",
      "[19, 22, 24, 47, 28, 28, 52, 54, 21, 24]\n",
      "[29, 29, 14, 12, 21, 35, 22, 42, 24, 33]\n",
      "[40, 29, 37, 33, 26, 22, 26, 33, 46, 21]\n",
      "[27, 15, 43, 28, 31, 35, 32, 24, 20, 32]\n",
      "[26, 36, 23, 33, 41, 21, 21, 28, 33, 19]\n",
      "[29, 30, 30, 19, 18, 41, 32, 29, 31, 13]\n",
      "[30, 21, 30, 31, 24, 41, 34, 26, 36, 23]\n",
      "[39, 17, 23, 30, 43, 30, 16, 29, 32, 24]\n",
      "[31, 37, 27, 38, 18, 26, 6, 31, 32, 23]\n",
      "[4, 39, 30, 34, 28, 34, 35, 36, 52, 27]\n",
      "[10, 30, 28, 23, 39, 28, 38, 37, 21, 30]\n",
      "[30, 24, 33, 41, 10, 26, 23, 35, 48, 27]\n",
      "[32, 36, 22, 28, 36, 28, 6, 27, 35]\n",
      "[22, 24, 37, 39, 26, 59, 22, 23, 20, 11]\n",
      "[19, 34, 31, 18, 9, 30, 31, 35, 29, 31]\n",
      "[21, 39, 24, 49, 28, 31, 29, 11, 38, 47]\n",
      "[32, 32, 28, 36, 30, 25, 37, 16, 35, 13]\n",
      "[7, 52, 24, 37, 25, 42, 21, 4, 19, 24]\n",
      "[26, 32, 24, 23, 18, 26, 25, 7, 17, 27]\n",
      "[40, 41, 24, 33, 31, 27, 27, 18, 42, 29]\n",
      "[7, 21, 35, 26, 25, 31, 32, 19, 41, 21]\n",
      "[51, 35, 30, 23, 37, 49, 23, 24, 25, 32]\n",
      "[39, 33, 27, 29, 26, 24, 37, 54, 37]\n"
     ]
    }
   ],
   "source": [
    "filename=\"clus_Ni6Pd4.log\"\n",
    "\n",
    "parent_calls_list = []\n",
    "with open(filename, 'r') as fh:\n",
    "    for line in fh:\n",
    "        if line.startswith(\"Parent\"):\n",
    "            line = line.strip()\n",
    "            words = line.split(':')\n",
    "            words[1] = words[1].lstrip()\n",
    "            parent_calls_list.append(words[1])\n",
    "#print(parent_calls_list)\n",
    "#print((parent_calls_list[0]))\n",
    "\n",
    "item_split = []\n",
    "for item in parent_calls_list:\n",
    "    print(item)\n",
    "    item_split.append(item.split(\",\"))\n",
    "#print(item_split)\n",
    "\n",
    "#print(item_split[0])\n"
   ]
  },
  {
   "cell_type": "code",
   "execution_count": 8,
   "id": "7fc02ce7",
   "metadata": {},
   "outputs": [
    {
     "name": "stdout",
     "output_type": "stream",
     "text": [
      "[[37, 7, 27, 67, 21, 33, 13, 30, 47, 11], [28, 40, 11, 31, 24, 27, 44, 25, 25, 42], [23, 18, 13, 38, 12, 30, 35, 41, 33, 21], [33, 28, 18, 49, 30, 30, 17, 27, 24, 22], [21, 26, 30, 34, 39, 29, 32, 34, 27, 34], [19, 22, 24, 47, 28, 28, 52, 54, 21, 24], [29, 29, 14, 12, 21, 35, 22, 42, 24, 33], [40, 29, 37, 33, 26, 22, 26, 33, 46, 21], [27, 15, 43, 28, 31, 35, 32, 24, 20, 32], [26, 36, 23, 33, 41, 21, 21, 28, 33, 19], [29, 30, 30, 19, 18, 41, 32, 29, 31, 13], [30, 21, 30, 31, 24, 41, 34, 26, 36, 23], [39, 17, 23, 30, 43, 30, 16, 29, 32, 24], [31, 37, 27, 38, 18, 26, 6, 31, 32, 23], [4, 39, 30, 34, 28, 34, 35, 36, 52, 27], [10, 30, 28, 23, 39, 28, 38, 37, 21, 30], [30, 24, 33, 41, 10, 26, 23, 35, 48, 27], [32, 36, 22, 28, 36, 28, 6, 27, 35], [22, 24, 37, 39, 26, 59, 22, 23, 20, 11], [19, 34, 31, 18, 9, 30, 31, 35, 29, 31], [21, 39, 24, 49, 28, 31, 29, 11, 38, 47], [32, 32, 28, 36, 30, 25, 37, 16, 35, 13], [7, 52, 24, 37, 25, 42, 21, 4, 19, 24], [26, 32, 24, 23, 18, 26, 25, 7, 17, 27], [40, 41, 24, 33, 31, 27, 27, 18, 42, 29], [7, 21, 35, 26, 25, 31, 32, 19, 41, 21], [51, 35, 30, 23, 37, 49, 23, 24, 25, 32], [39, 33, 27, 29, 26, 24, 37, 54, 37]]\n",
      "28\n",
      "[10, 10, 10, 10, 10, 10, 10, 10, 10, 10, 10, 10, 10, 10, 10, 10, 10, 9, 10, 10, 10, 10, 10, 10, 10, 10, 10, 9]\n",
      "278\n"
     ]
    }
   ],
   "source": [
    "new_vasp_calls = []\n",
    "len_new_vasp_calls = []\n",
    "for i in range(len(item_split)):\n",
    "    k=len(item_split[i])\n",
    "    new_int_list = []\n",
    "    \n",
    "    a = list(item_split[i][0].lstrip())\n",
    "    del a[0] \n",
    "    a = int(''.join(a))\n",
    "    new_int_list.append(a)\n",
    "    #print(a)\n",
    "    for k in range(1,(len(item_split[i])-1)):\n",
    "        b = int(item_split[i][k])\n",
    "        new_int_list.append(b)\n",
    "        #print(b)  \n",
    "    c = list(item_split[i][-1].lstrip())\n",
    "    del c[-1]\n",
    "    c = int(''.join(c))\n",
    "    new_int_list.append(c)\n",
    "    #print(c)\n",
    "    #print(new_int_list)\n",
    "    len_new_list = len(new_int_list)\n",
    "    new_vasp_calls.append(new_int_list)\n",
    "    len_new_vasp_calls.append(len_new_list)\n",
    "print(new_vasp_calls)\n",
    "print(len(new_vasp_calls))\n",
    "print(len_new_vasp_calls)\n",
    "print(sum(len_new_vasp_calls))"
   ]
  },
  {
   "cell_type": "code",
   "execution_count": 9,
   "id": "70de20cb",
   "metadata": {},
   "outputs": [
    {
     "name": "stdout",
     "output_type": "stream",
     "text": [
      "18\n",
      "[(0, 9), (2, 1), (5, 0), (6, 1), (6, 2), (7, 9), (8, 2), (10, 3), (10, 4), (11, 3), (12, 3), (13, 0), (14, 8), (18, 2), (19, 0), (19, 7), (22, 2), (22, 9)]\n"
     ]
    }
   ],
   "source": [
    "print(len(similar_clus))\n",
    "print(similar_clus)"
   ]
  },
  {
   "cell_type": "code",
   "execution_count": 10,
   "id": "39dff7ea",
   "metadata": {},
   "outputs": [
    {
     "name": "stdout",
     "output_type": "stream",
     "text": [
      "[79, 19, 17, 18, 13, 21, 13, 69, 71, 19, 10, 17, 17, 41, 28, 23, 13, 41, 99, 22, 19, 15, 17, 36, 25, 13, 19, 13, 33, 13, 17, 23, 11, 63, 31, 18, 25, 19, 15, 17, 54, 81, 21, 21, 112, 15, 12, 17, 29, 27, 39, 21, 19, 74, 29, 52, 13, 37, 27, 17, 25, 21, 17, 12, 52, 52, 17, 19, 17, 54, 42, 40, 34, 15, 56, 19, 17, 11, 30, 15, 31, 68, 48, 27, 23, 19, 17, 15, 18, 23, 22, 26, 49, 55, 21, 19, 19, 52, 67, 34, 19, 9, 27, 47, 18, 13, 20, 33, 15, 29, 27, 17, 73, 58, 15, 69, 54, 90, 21, 19, 19, 21, 29, 15, 13, 17, 46, 17, 23, 15, 5, 17, 19, 79, 19, 17, 91, 63, 55, 38, 18, 27, 16, 55, 21, 35, 17, 111, 15, 49, 5, 71, 19, 19, 45, 15, 9, 13, 61, 78, 65, 11, 31, 18, 83, 29, 21, 33, 19, 17, 15, 55, 36, 19, 23, 19, 17, 11, 19, 17, 117, 12, 79, 13, 15, 19, 17, 25, 29, 15, 10, 13, 19, 19, 19, 15, 19, 5, 34, 17, 22, 17, 19, 21, 52, 13, 58, 21, 60, 13, 93, 31, 15, 52, 45, 34, 51, 15, 18, 19, 16, 13, 40, 62, 23, 15, 21, 21, 59, 40, 99, 66, 18, 70, 13, 29, 17, 21, 15, 97, 15, 50, 19, 17, 22, 17, 73, 44, 55, 15, 50]\n",
      "\n",
      "\n"
     ]
    },
    {
     "ename": "IndexError",
     "evalue": "list index out of range",
     "output_type": "error",
     "traceback": [
      "\u001b[0;31m---------------------------------------------------------------------------\u001b[0m",
      "\u001b[0;31mIndexError\u001b[0m                                Traceback (most recent call last)",
      "\u001b[0;32m/tmp/ipykernel_16164/1711488781.py\u001b[0m in \u001b[0;36m<module>\u001b[0;34m\u001b[0m\n\u001b[1;32m     28\u001b[0m     \u001b[0mtraj_calls\u001b[0m \u001b[0;34m=\u001b[0m \u001b[0;34m[\u001b[0m\u001b[0;34m]\u001b[0m\u001b[0;34m\u001b[0m\u001b[0;34m\u001b[0m\u001b[0m\n\u001b[1;32m     29\u001b[0m     \u001b[0;32mfor\u001b[0m \u001b[0mj\u001b[0m \u001b[0;32min\u001b[0m \u001b[0mrange\u001b[0m\u001b[0;34m(\u001b[0m\u001b[0mkk\u001b[0m\u001b[0;34m,\u001b[0m \u001b[0mkk\u001b[0m\u001b[0;34m+\u001b[0m\u001b[0mi\u001b[0m\u001b[0;34m)\u001b[0m\u001b[0;34m:\u001b[0m\u001b[0;34m\u001b[0m\u001b[0;34m\u001b[0m\u001b[0m\n\u001b[0;32m---> 30\u001b[0;31m         \u001b[0mtraj_calls\u001b[0m\u001b[0;34m.\u001b[0m\u001b[0mappend\u001b[0m\u001b[0;34m(\u001b[0m\u001b[0mvasp_calls\u001b[0m\u001b[0;34m[\u001b[0m\u001b[0mj\u001b[0m\u001b[0;34m]\u001b[0m\u001b[0;34m)\u001b[0m\u001b[0;34m\u001b[0m\u001b[0;34m\u001b[0m\u001b[0m\n\u001b[0m\u001b[1;32m     31\u001b[0m     \u001b[0mvasp_calls_list\u001b[0m\u001b[0;34m.\u001b[0m\u001b[0mappend\u001b[0m\u001b[0;34m(\u001b[0m\u001b[0mtraj_calls\u001b[0m\u001b[0;34m)\u001b[0m\u001b[0;34m\u001b[0m\u001b[0;34m\u001b[0m\u001b[0m\n\u001b[1;32m     32\u001b[0m     \u001b[0mkk\u001b[0m \u001b[0;34m=\u001b[0m \u001b[0mkk\u001b[0m \u001b[0;34m+\u001b[0m \u001b[0mi\u001b[0m\u001b[0;34m\u001b[0m\u001b[0;34m\u001b[0m\u001b[0m\n",
      "\u001b[0;31mIndexError\u001b[0m: list index out of range"
     ]
    }
   ],
   "source": [
    "file_vasp=\"results.log\"\n",
    "\n",
    "vasp_calls = []\n",
    "vasp_calls_list = []\n",
    "with open(file_vasp, 'r') as fh:\n",
    "    total_images = []\n",
    "    for line in fh:       \n",
    "        if \"VASP Calls\" in line:\n",
    "            line = line.strip()\n",
    "            words = line.split(':')\n",
    "            words[1] = int(words[1].lstrip())\n",
    "            vasp_calls.append(words[1])\n",
    "        if \"Total images in the trajectory\" in line:\n",
    "            line = line.strip()\n",
    "            img_num = line.split(':')\n",
    "            img_num[1] = int(img_num[1].lstrip())\n",
    "            total_images.append(img_num[1])\n",
    "\n",
    "print(vasp_calls)\n",
    "#print(len(vasp_calls))\n",
    "#print(total_images)\n",
    "#print(len(total_images))\n",
    "#print(sum(total_images))\n",
    "print('\\n')\n",
    "\n",
    "kk = 0\n",
    "for i in total_images:\n",
    "    traj_calls = []\n",
    "    for j in range(kk, kk+i):\n",
    "        traj_calls.append(vasp_calls[j])\n",
    "    vasp_calls_list.append(traj_calls)\n",
    "    kk = kk + i\n",
    "\n",
    "print(vasp_calls_list)"
   ]
  },
  {
   "cell_type": "code",
   "execution_count": 11,
   "id": "1331a3c5",
   "metadata": {},
   "outputs": [
    {
     "name": "stdout",
     "output_type": "stream",
     "text": [
      "[[37, 7, 27, 67, 21, 33, 13, 30, 47, 11], [28, 40, 11, 31, 24, 27, 44, 25, 25, 42], [23, 18, 13, 38, 12, 30, 35, 41, 33, 21], [33, 28, 18, 49, 30, 30, 17, 27, 24, 22], [21, 26, 30, 34, 39, 29, 32, 34, 27, 34], [19, 22, 24, 47, 28, 28, 52, 54, 21, 24], [29, 29, 14, 12, 21, 35, 22, 42, 24, 33], [40, 29, 37, 33, 26, 22, 26, 33, 46, 21], [27, 15, 43, 28, 31, 35, 32, 24, 20, 32], [26, 36, 23, 33, 41, 21, 21, 28, 33, 19], [29, 30, 30, 19, 18, 41, 32, 29, 31, 13], [30, 21, 30, 31, 24, 41, 34, 26, 36, 23], [39, 17, 23, 30, 43, 30, 16, 29, 32, 24], [31, 37, 27, 38, 18, 26, 6, 31, 32, 23], [4, 39, 30, 34, 28, 34, 35, 36, 52, 27], [10, 30, 28, 23, 39, 28, 38, 37, 21, 30], [30, 24, 33, 41, 10, 26, 23, 35, 48, 27], [32, 36, 22, 28, 36, 28, 6, 27, 35], [22, 24, 37, 39, 26, 59, 22, 23, 20, 11], [19, 34, 31, 18, 9, 30, 31, 35, 29, 31], [21, 39, 24, 49, 28, 31, 29, 11, 38, 47], [32, 32, 28, 36, 30, 25, 37, 16, 35, 13], [7, 52, 24, 37, 25, 42, 21, 4, 19, 24], [26, 32, 24, 23, 18, 26, 25, 7, 17, 27], [40, 41, 24, 33, 31, 27, 27, 18, 42, 29], [7, 21, 35, 26, 25, 31, 32, 19, 41, 21], [51, 35, 30, 23, 37, 49, 23, 24, 25, 32], [39, 33, 27, 29, 26, 24, 37, 54, 37]]\n"
     ]
    }
   ],
   "source": [
    "print(new_vasp_calls)"
   ]
  },
  {
   "cell_type": "code",
   "execution_count": 12,
   "id": "25923871",
   "metadata": {},
   "outputs": [
    {
     "name": "stdout",
     "output_type": "stream",
     "text": [
      "[(0, 9), (2, 1), (5, 0), (6, 1), (6, 2), (7, 9), (8, 2), (10, 3), (10, 4), (11, 3), (12, 3), (13, 0), (14, 8), (18, 2), (19, 0), (19, 7), (22, 2), (22, 9)]\n"
     ]
    }
   ],
   "source": [
    "print(similar_clus)"
   ]
  },
  {
   "cell_type": "code",
   "execution_count": 13,
   "id": "335b6961",
   "metadata": {},
   "outputs": [
    {
     "name": "stdout",
     "output_type": "stream",
     "text": [
      "[11, 18, 19, 29, 14, 21, 43, 19, 18, 31, 30, 31, 52, 37, 19, 35, 24, 24]\n",
      "475\n",
      "[19, 15, 39, 21, 17, 15, 48, 47, 18, 58, 15, 5, 15, 79, 10, 5, 40, 40]\n",
      "506\n",
      "[8, -3, 20, -8, 3, -6, 5, 28, 0, 27, -15, -26, -37, 42, -9, -30, 16, 16]\n",
      "31\n"
     ]
    }
   ],
   "source": [
    "same_clus_almlp = []\n",
    "same_clus_vasp = []\n",
    "same_clus_diff = []\n",
    "for i in range(len(similar_clus)):\n",
    "    p = similar_clus[i][0]\n",
    "    q = similar_clus[i][1]\n",
    "    \n",
    "    r = new_vasp_calls[p][q] #clus_XXX.log AL\n",
    "    same_clus_almlp.append(r)\n",
    "    s = vasp_calls_list[p][q] #results.log DFT\n",
    "    same_clus_vasp.append(s)\n",
    "    \n",
    "    same_clus_diff.append(s-r)\n",
    "    #print(r, s, s-r)\n",
    "print(same_clus_almlp)\n",
    "print(sum(same_clus_almlp))\n",
    "print(same_clus_vasp)\n",
    "print(sum(same_clus_vasp))\n",
    "print(same_clus_diff)\n",
    "print(sum(same_clus_diff))"
   ]
  },
  {
   "cell_type": "code",
   "execution_count": null,
   "id": "e40d9d03",
   "metadata": {},
   "outputs": [],
   "source": []
  }
 ],
 "metadata": {
  "kernelspec": {
   "display_name": "Python 3 (ipykernel)",
   "language": "python",
   "name": "python3"
  },
  "language_info": {
   "codemirror_mode": {
    "name": "ipython",
    "version": 3
   },
   "file_extension": ".py",
   "mimetype": "text/x-python",
   "name": "python",
   "nbconvert_exporter": "python",
   "pygments_lexer": "ipython3",
   "version": "3.9.13"
  }
 },
 "nbformat": 4,
 "nbformat_minor": 5
}
