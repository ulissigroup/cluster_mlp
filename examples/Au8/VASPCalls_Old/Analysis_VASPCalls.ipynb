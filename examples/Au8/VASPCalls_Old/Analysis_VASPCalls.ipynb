{
 "cells": [
  {
   "cell_type": "code",
   "execution_count": 1,
   "id": "a0d1a007",
   "metadata": {},
   "outputs": [],
   "source": [
    "from ase.io import read, write, Trajectory\n",
    "import numpy as np"
   ]
  },
  {
   "cell_type": "code",
   "execution_count": 2,
   "id": "ca3fc447",
   "metadata": {},
   "outputs": [],
   "source": [
    "def CoM(clus):\n",
    "    \"\"\"\n",
    "    Support function to set the origin of the cluster at the centre of the mass\n",
    "    \"\"\"\n",
    "    (cx, cy, cz) = clus.get_center_of_mass()\n",
    "    new_xyz = []\n",
    "    for i, a in enumerate(clus):\n",
    "        x, y, z = a.position\n",
    "        x -= cx\n",
    "        y -= cy\n",
    "        z -= cz\n",
    "        new_xyz.append((x, y, z))\n",
    "    clus.set_positions(new_xyz)\n",
    "    return clus"
   ]
  },
  {
   "cell_type": "code",
   "execution_count": 3,
   "id": "ac80b48d",
   "metadata": {},
   "outputs": [],
   "source": [
    "def checkSimilar(clus1, clus2):\n",
    "\n",
    "    \"\"\"Check whether two clusters are similar or not by comparing their moments of inertia\"\"\"\n",
    "    Inertia1 = clus1.get_moments_of_inertia()\n",
    "    Inertia2 = clus2.get_moments_of_inertia()\n",
    "    # print(Inertia1, Inertia2, 'diff: ', Inertia1-Inertia2)\n",
    "\n",
    "    tol = 0.01\n",
    "    if (\n",
    "        Inertia1[0] * (1 - tol) <= Inertia2[0] <= Inertia1[0] * (1 + tol)\n",
    "        and Inertia1[1] * (1 - tol) <= Inertia2[1] <= Inertia1[1] * (1 + tol)\n",
    "        and Inertia1[2] * (1 - tol) <= Inertia2[2] <= Inertia1[2] * (1 + tol)\n",
    "    ):\n",
    "        similar = True\n",
    "    else:\n",
    "        similar = False\n",
    "\n",
    "    return similar"
   ]
  },
  {
   "cell_type": "code",
   "execution_count": 4,
   "id": "ce2e5ce2",
   "metadata": {},
   "outputs": [],
   "source": [
    "ini_gen = 0\n",
    "end_gen = 15"
   ]
  },
  {
   "cell_type": "code",
   "execution_count": 10,
   "id": "25f240e2",
   "metadata": {},
   "outputs": [
    {
     "name": "stdout",
     "output_type": "stream",
     "text": [
      "95\n",
      "46\n",
      "141\n",
      "[10, 7, 9, 10, 10, 9, 9, 8, 10, 10, 10, 10, 9, 10, 10]\n",
      "[10, 7, 9, 10, 10, 9, 9, 8, 10, 10, 10, 10, 9, 10, 10]\n"
     ]
    }
   ],
   "source": [
    "ene_tol = 0.02\n",
    "dist_tol = 0.02\n",
    "\n",
    "num_check_similar = 0\n",
    "diff_dist_abs_sum_list = []\n",
    "\n",
    "non_similar_clus = []\n",
    "similar_clus = []\n",
    "non_similar_clus_ene_list = []\n",
    "similar_clus_ene_list = []\n",
    "non_similar_clus_diff_dist = []\n",
    "similar_clus_diff_dist = []\n",
    "\n",
    "n_traj1_list = []\n",
    "n_traj2_list = []\n",
    "\n",
    "for k in range(ini_gen, end_gen):\n",
    "    file1  = 'mut_after_relax_gen'+str(k+1)+'.traj'\n",
    "    file2  = 'vasp_mut_after_relax_gen'+str(k+1)+'.traj'\n",
    "\n",
    "    traj1 = Trajectory(file1)\n",
    "    traj2 = Trajectory(file2)\n",
    "    \n",
    "    n_traj1 = len(traj1)\n",
    "    n_traj2 = len(traj2)\n",
    "    n_traj1_list.append(n_traj1)\n",
    "    n_traj2_list.append(n_traj2)\n",
    "    \n",
    "    for i in range(len(traj1)):\n",
    "        num_check_similar = num_check_similar + 1\n",
    "        clus1 = traj1[i]\n",
    "        clus2 = traj2[i]\n",
    "        \n",
    "        ene1 = clus1.get_potential_energy()\n",
    "        ene2 = clus2.get_potential_energy()\n",
    "        diff_ene = ene1 - ene2\n",
    "        \n",
    "        dist1 = clus1.get_all_distances() \n",
    "        dist2 = clus2.get_all_distances()\n",
    "        diff_dist = dist1 - dist2\n",
    "        diff_dist_abs = np.absolute(diff_dist)\n",
    "        diff_dist_avg = np.sum(diff_dist_abs) / len(diff_dist)**2\n",
    "        \n",
    "        inertia1 = clus1.get_moments_of_inertia()\n",
    "        inertia2 = clus2.get_moments_of_inertia()\n",
    "        diff_inertia = inertia1 - inertia2\n",
    "              \n",
    "        if checkSimilar(clus1, clus2) == True:\n",
    "            if diff_dist_avg > dist_tol:\n",
    "                if abs(diff_ene) > ene_tol:\n",
    "                    non_similar_clus.append((k,i))\n",
    "                    non_similar_clus_ene_list.append(diff_ene)\n",
    "                    non_similar_clus_diff_dist.append(diff_dist_avg)\n",
    "                    #print((k, i),diff_dist_avg, diff_ene, diff_inertia )\n",
    "                else:\n",
    "                    similar_clus.append((k,i))\n",
    "                    similar_clus_ene_list.append(diff_ene)\n",
    "                    similar_clus_diff_dist.append(diff_dist_avg)\n",
    "                    #print((k, i),diff_dist_avg, diff_ene, diff_inertia )  \n",
    "                    \n",
    "            else:\n",
    "                similar_clus.append((k,i))\n",
    "                similar_clus_ene_list.append(diff_ene)\n",
    "                similar_clus_diff_dist.append(diff_dist_avg)\n",
    "                #print((k, i),diff_dist_avg, diff_ene, diff_inertia )  \n",
    "                \n",
    "        else:\n",
    "            if diff_dist_avg < dist_tol:\n",
    "                if abs(diff_ene) < ene_tol:\n",
    "                    similar_clus.append((k,i))\n",
    "                    similar_clus_ene_list.append(diff_ene)\n",
    "                    similar_clus_diff_dist.append(diff_dist_avg)\n",
    "                    #print((k, i),diff_dist_avg, diff_ene, diff_inertia )\n",
    "                else: \n",
    "                    non_similar_clus.append((k,i))\n",
    "                    non_similar_clus_ene_list.append(diff_ene)\n",
    "                    non_similar_clus_diff_dist.append(diff_dist_avg)\n",
    "                    #print((k, i),diff_dist_avg, diff_ene, diff_inertia )\n",
    "            else:\n",
    "                non_similar_clus.append((k,i))\n",
    "                non_similar_clus_ene_list.append(diff_ene)\n",
    "                non_similar_clus_diff_dist.append(diff_dist_avg)\n",
    "                #print((k, i),diff_dist_avg, diff_ene, diff_inertia )\n",
    "\n",
    "print(len(non_similar_clus))\n",
    "print(len(similar_clus))\n",
    "print(num_check_similar)\n",
    "\n",
    "#print(sorted(non_similar_clus_ene_list))\n",
    "#print(non_similar_clus)\n",
    "#print(sorted(non_similar_clus_ene_list))\n",
    "#print(sorted(non_similar_clus_diff_dist))\n",
    "\n",
    "print(n_traj1_list)\n",
    "print(n_traj2_list)"
   ]
  },
  {
   "cell_type": "code",
   "execution_count": 13,
   "id": "d19a02bd",
   "metadata": {},
   "outputs": [
    {
     "name": "stdout",
     "output_type": "stream",
     "text": [
      "[20, 6, 15, 26, 18, 13, 20, 17, 34, 11]\n",
      "[33, 21, 8, 6, 6, 71, 15]\n",
      "[47, 13, 7, 19, 6, 45, 14, 27, 22]\n",
      "[10, 25, 11, 7, 16, 37, 7, 17, 21, 20]\n",
      "[11, 15, 10, 57, 31, 7, 31, 24, 17, 17]\n",
      "[13, 7, 25, 22, 34, 36, 16, 8, 20]\n",
      "[21, 16, 27, 21, 15, 7, 9, 40, 33]\n",
      "[9, 25, 24, 14, 12, 33, 5, 14]\n",
      "[6, 27, 14, 6, 7, 9, 23, 24, 17, 25]\n",
      "[8, 5, 32, 17, 6, 17, 18, 22, 6, 36]\n",
      "[20, 8, 19, 13, 28, 10, 20, 10, 17, 25]\n",
      "[25, 13, 15, 14, 7, 24, 32, 13, 7, 27]\n",
      "[31, 35, 25, 19, 32, 6, 38, 7, 13]\n",
      "[7, 9, 26, 24, 18, 11, 7, 36, 15, 12]\n",
      "[20, 9, 7, 36, 12, 18, 7, 11, 13, 8]\n"
     ]
    }
   ],
   "source": [
    "filename=\"clus_Au8.log\"\n",
    "\n",
    "parent_calls_list = []\n",
    "with open(filename, 'r') as fh:\n",
    "    for line in fh:\n",
    "        if line.startswith(\"Parent\"):\n",
    "            line = line.strip()\n",
    "            words = line.split(':')\n",
    "            words[1] = words[1].lstrip()\n",
    "            parent_calls_list.append(words[1])\n",
    "#print(parent_calls_list)\n",
    "#print((parent_calls_list[0]))\n",
    "\n",
    "item_split = []\n",
    "for item in parent_calls_list:\n",
    "    print(item)\n",
    "    item_split.append(item.split(\",\"))\n",
    "#print(item_split)\n",
    "\n",
    "#print(item_split[0])\n"
   ]
  },
  {
   "cell_type": "code",
   "execution_count": 14,
   "id": "7fc02ce7",
   "metadata": {},
   "outputs": [
    {
     "name": "stdout",
     "output_type": "stream",
     "text": [
      "[[20, 6, 15, 26, 18, 13, 20, 17, 34, 11], [33, 21, 8, 6, 6, 71, 15], [47, 13, 7, 19, 6, 45, 14, 27, 22], [10, 25, 11, 7, 16, 37, 7, 17, 21, 20], [11, 15, 10, 57, 31, 7, 31, 24, 17, 17], [13, 7, 25, 22, 34, 36, 16, 8, 20], [21, 16, 27, 21, 15, 7, 9, 40, 33], [9, 25, 24, 14, 12, 33, 5, 14], [6, 27, 14, 6, 7, 9, 23, 24, 17, 25], [8, 5, 32, 17, 6, 17, 18, 22, 6, 36], [20, 8, 19, 13, 28, 10, 20, 10, 17, 25], [25, 13, 15, 14, 7, 24, 32, 13, 7, 27], [31, 35, 25, 19, 32, 6, 38, 7, 13], [7, 9, 26, 24, 18, 11, 7, 36, 15, 12], [20, 9, 7, 36, 12, 18, 7, 11, 13, 8]]\n",
      "15\n",
      "[10, 7, 9, 10, 10, 9, 9, 8, 10, 10, 10, 10, 9, 10, 10]\n",
      "141\n"
     ]
    }
   ],
   "source": [
    "new_vasp_calls = []\n",
    "len_new_vasp_calls = []\n",
    "for i in range(len(item_split)):\n",
    "    k=len(item_split[i])\n",
    "    new_int_list = []\n",
    "    \n",
    "    a = list(item_split[i][0].lstrip())\n",
    "    del a[0] \n",
    "    a = int(''.join(a))\n",
    "    new_int_list.append(a)\n",
    "    #print(a)\n",
    "    for k in range(1,(len(item_split[i])-1)):\n",
    "        b = int(item_split[i][k])\n",
    "        new_int_list.append(b)\n",
    "        #print(b)  \n",
    "    c = list(item_split[i][-1].lstrip())\n",
    "    del c[-1]\n",
    "    c = int(''.join(c))\n",
    "    new_int_list.append(c)\n",
    "    #print(c)\n",
    "    #print(new_int_list)\n",
    "    len_new_list = len(new_int_list)\n",
    "    new_vasp_calls.append(new_int_list)\n",
    "    len_new_vasp_calls.append(len_new_list)\n",
    "print(new_vasp_calls)\n",
    "print(len(new_vasp_calls))\n",
    "print(len_new_vasp_calls)\n",
    "print(sum(len_new_vasp_calls))"
   ]
  },
  {
   "cell_type": "code",
   "execution_count": 15,
   "id": "70de20cb",
   "metadata": {},
   "outputs": [
    {
     "name": "stdout",
     "output_type": "stream",
     "text": [
      "46\n",
      "[(0, 1), (1, 1), (1, 2), (1, 3), (1, 4), (1, 6), (2, 2), (2, 4), (3, 3), (3, 6), (3, 7), (4, 1), (4, 5), (5, 1), (5, 7), (6, 5), (6, 6), (7, 6), (8, 0), (8, 2), (8, 3), (8, 4), (8, 5), (9, 0), (9, 1), (9, 4), (9, 8), (10, 1), (10, 3), (10, 5), (10, 6), (11, 1), (11, 4), (11, 7), (11, 8), (12, 2), (12, 5), (12, 7), (13, 1), (13, 6), (14, 1), (14, 2), (14, 4), (14, 6), (14, 8), (14, 9)]\n"
     ]
    }
   ],
   "source": [
    "print(len(similar_clus))\n",
    "print(similar_clus)"
   ]
  },
  {
   "cell_type": "code",
   "execution_count": 16,
   "id": "39dff7ea",
   "metadata": {},
   "outputs": [
    {
     "name": "stdout",
     "output_type": "stream",
     "text": [
      "[47, 11, 72, 36, 68, 13, 38, 60, 52, 21, 47, 11, 72, 47, 11, 47, 57, 47, 11, 47, 11, 47, 57, 72, 26, 47, 11, 36, 72, 68, 36, 13, 47, 11, 72, 36, 68, 13, 38, 60, 52, 28, 52, 14, 9, 13, 13, 51, 118, 52, 13, 22, 9, 13, 13, 13, 14, 42, 59, 9, 9, 19, 22, 15, 48, 74, 56, 40, 54, 14, 42, 60, 59, 9, 9, 78, 42, 42, 33, 42, 42, 59, 9, 9, 19, 22, 15, 42, 48, 42, 5, 59, 9, 9, 42, 59, 9, 9, 19, 22, 15, 48, 74, 40, 54, 14, 60, 78, 13, 23, 13, 49, 108, 55, 9, 13, 9, 71, 75, 61, 15, 60, 42, 27, 13, 9, 13, 9, 18, 18, 66, 23, 98, 27, 9, 27, 13, 15, 42, 27, 13, 8, 13, 42, 9, 27, 2, 13, 9, 13, 9, 18, 42, 18, 27, 13, 66, 23, 42, 27, 13, 9, 13, 9, 18, 18, 42, 27, 13, 9, 13, 9, 18, 18, 30, 27, 42, 27, 13, 9, 13, 9, 18, 18, 66, 23, 23, 105, 27, 9, 27, 13, 15, 74, 15, 11, 40, 9, 9, 26, 33, 51, 42, 9, 22, 7, 51, 51, 11, 14, 99, 56, 11, 106, 22, 7, 99, 9, 36, 7, 81, 55, 19, 22, 18, 22, 7, 51, 22, 7, 51, 11, 14, 51, 51, 11, 14, 99, 56, 11, 22, 7, 51, 51, 11, 14, 99, 56, 11, 99, 9, 81, 55, 23, 28, 68, 21, 58, 57, 35, 21, 14, 55, 12, 38, 69, 36, 9, 11, 38, 83, 16, 23, 58, 11, 62, 13, 22, 23, 26, 25, 62, 9, 45, 9, 25, 19, 11, 32, 26, 9, 58, 54, 11, 11, 14, 67, 15]\n",
      "\n",
      "\n"
     ]
    },
    {
     "ename": "IndexError",
     "evalue": "list index out of range",
     "output_type": "error",
     "traceback": [
      "\u001b[0;31m---------------------------------------------------------------------------\u001b[0m",
      "\u001b[0;31mIndexError\u001b[0m                                Traceback (most recent call last)",
      "\u001b[0;32m/tmp/ipykernel_17297/1711488781.py\u001b[0m in \u001b[0;36m<module>\u001b[0;34m\u001b[0m\n\u001b[1;32m     28\u001b[0m     \u001b[0mtraj_calls\u001b[0m \u001b[0;34m=\u001b[0m \u001b[0;34m[\u001b[0m\u001b[0;34m]\u001b[0m\u001b[0;34m\u001b[0m\u001b[0;34m\u001b[0m\u001b[0m\n\u001b[1;32m     29\u001b[0m     \u001b[0;32mfor\u001b[0m \u001b[0mj\u001b[0m \u001b[0;32min\u001b[0m \u001b[0mrange\u001b[0m\u001b[0;34m(\u001b[0m\u001b[0mkk\u001b[0m\u001b[0;34m,\u001b[0m \u001b[0mkk\u001b[0m\u001b[0;34m+\u001b[0m\u001b[0mi\u001b[0m\u001b[0;34m)\u001b[0m\u001b[0;34m:\u001b[0m\u001b[0;34m\u001b[0m\u001b[0;34m\u001b[0m\u001b[0m\n\u001b[0;32m---> 30\u001b[0;31m         \u001b[0mtraj_calls\u001b[0m\u001b[0;34m.\u001b[0m\u001b[0mappend\u001b[0m\u001b[0;34m(\u001b[0m\u001b[0mvasp_calls\u001b[0m\u001b[0;34m[\u001b[0m\u001b[0mj\u001b[0m\u001b[0;34m]\u001b[0m\u001b[0;34m)\u001b[0m\u001b[0;34m\u001b[0m\u001b[0;34m\u001b[0m\u001b[0m\n\u001b[0m\u001b[1;32m     31\u001b[0m     \u001b[0mvasp_calls_list\u001b[0m\u001b[0;34m.\u001b[0m\u001b[0mappend\u001b[0m\u001b[0;34m(\u001b[0m\u001b[0mtraj_calls\u001b[0m\u001b[0;34m)\u001b[0m\u001b[0;34m\u001b[0m\u001b[0;34m\u001b[0m\u001b[0m\n\u001b[1;32m     32\u001b[0m     \u001b[0mkk\u001b[0m \u001b[0;34m=\u001b[0m \u001b[0mkk\u001b[0m \u001b[0;34m+\u001b[0m \u001b[0mi\u001b[0m\u001b[0;34m\u001b[0m\u001b[0;34m\u001b[0m\u001b[0m\n",
      "\u001b[0;31mIndexError\u001b[0m: list index out of range"
     ]
    }
   ],
   "source": [
    "file_vasp=\"results.log\"\n",
    "\n",
    "vasp_calls = []\n",
    "vasp_calls_list = []\n",
    "with open(file_vasp, 'r') as fh:\n",
    "    total_images = []\n",
    "    for line in fh:       \n",
    "        if \"VASP Calls\" in line:\n",
    "            line = line.strip()\n",
    "            words = line.split(':')\n",
    "            words[1] = int(words[1].lstrip())\n",
    "            vasp_calls.append(words[1])\n",
    "        if \"Total images in the trajectory\" in line:\n",
    "            line = line.strip()\n",
    "            img_num = line.split(':')\n",
    "            img_num[1] = int(img_num[1].lstrip())\n",
    "            total_images.append(img_num[1])\n",
    "\n",
    "print(vasp_calls)\n",
    "#print(len(vasp_calls))\n",
    "#print(total_images)\n",
    "#print(len(total_images))\n",
    "#print(sum(total_images))\n",
    "print('\\n')\n",
    "\n",
    "kk = 0\n",
    "for i in total_images:\n",
    "    traj_calls = []\n",
    "    for j in range(kk, kk+i):\n",
    "        traj_calls.append(vasp_calls[j])\n",
    "    vasp_calls_list.append(traj_calls)\n",
    "    kk = kk + i\n",
    "\n",
    "print(vasp_calls_list)"
   ]
  },
  {
   "cell_type": "code",
   "execution_count": 17,
   "id": "1331a3c5",
   "metadata": {},
   "outputs": [
    {
     "name": "stdout",
     "output_type": "stream",
     "text": [
      "[[20, 6, 15, 26, 18, 13, 20, 17, 34, 11], [33, 21, 8, 6, 6, 71, 15], [47, 13, 7, 19, 6, 45, 14, 27, 22], [10, 25, 11, 7, 16, 37, 7, 17, 21, 20], [11, 15, 10, 57, 31, 7, 31, 24, 17, 17], [13, 7, 25, 22, 34, 36, 16, 8, 20], [21, 16, 27, 21, 15, 7, 9, 40, 33], [9, 25, 24, 14, 12, 33, 5, 14], [6, 27, 14, 6, 7, 9, 23, 24, 17, 25], [8, 5, 32, 17, 6, 17, 18, 22, 6, 36], [20, 8, 19, 13, 28, 10, 20, 10, 17, 25], [25, 13, 15, 14, 7, 24, 32, 13, 7, 27], [31, 35, 25, 19, 32, 6, 38, 7, 13], [7, 9, 26, 24, 18, 11, 7, 36, 15, 12], [20, 9, 7, 36, 12, 18, 7, 11, 13, 8]]\n"
     ]
    }
   ],
   "source": [
    "print(new_vasp_calls)"
   ]
  },
  {
   "cell_type": "code",
   "execution_count": 18,
   "id": "25923871",
   "metadata": {},
   "outputs": [
    {
     "name": "stdout",
     "output_type": "stream",
     "text": [
      "[(0, 1), (1, 1), (1, 2), (1, 3), (1, 4), (1, 6), (2, 2), (2, 4), (3, 3), (3, 6), (3, 7), (4, 1), (4, 5), (5, 1), (5, 7), (6, 5), (6, 6), (7, 6), (8, 0), (8, 2), (8, 3), (8, 4), (8, 5), (9, 0), (9, 1), (9, 4), (9, 8), (10, 1), (10, 3), (10, 5), (10, 6), (11, 1), (11, 4), (11, 7), (11, 8), (12, 2), (12, 5), (12, 7), (13, 1), (13, 6), (14, 1), (14, 2), (14, 4), (14, 6), (14, 8), (14, 9)]\n"
     ]
    }
   ],
   "source": [
    "print(similar_clus)"
   ]
  },
  {
   "cell_type": "code",
   "execution_count": 19,
   "id": "335b6961",
   "metadata": {},
   "outputs": [
    {
     "name": "stdout",
     "output_type": "stream",
     "text": [
      "[6, 21, 8, 6, 6, 15, 7, 6, 7, 7, 17, 15, 7, 7, 8, 7, 9, 5, 6, 14, 6, 7, 9, 8, 5, 6, 6, 8, 13, 10, 20, 13, 7, 13, 7, 25, 6, 7, 9, 7, 9, 7, 12, 7, 13, 8]\n",
      "432\n",
      "[11, 11, 72, 47, 11, 57, 57, 26, 36, 11, 72, 38, 52, 118, 13, 22, 15, 9, 42, 42, 42, 59, 9, 42, 48, 59, 59, 19, 15, 74, 40, 13, 49, 9, 13, 61, 42, 13, 18, 27, 42, 27, 8, 42, 27, 2]\n",
      "1621\n",
      "[5, -10, 64, 41, 5, 42, 50, 20, 29, 4, 55, 23, 45, 111, 5, 15, 6, 4, 36, 28, 36, 52, 0, 34, 43, 53, 53, 11, 2, 64, 20, 0, 42, -4, 6, 36, 36, 6, 9, 20, 33, 20, -4, 35, 14, -6]\n",
      "1189\n"
     ]
    }
   ],
   "source": [
    "same_clus_almlp = []\n",
    "same_clus_vasp = []\n",
    "same_clus_diff = []\n",
    "for i in range(len(similar_clus)):\n",
    "    p = similar_clus[i][0]\n",
    "    q = similar_clus[i][1]\n",
    "    \n",
    "    r = new_vasp_calls[p][q] #clus_XXX.log AL\n",
    "    same_clus_almlp.append(r)\n",
    "    s = vasp_calls_list[p][q] #results.log DFT\n",
    "    same_clus_vasp.append(s)\n",
    "    \n",
    "    same_clus_diff.append(s-r)\n",
    "    #print(r, s, s-r)\n",
    "print(same_clus_almlp)\n",
    "print(sum(same_clus_almlp))\n",
    "print(same_clus_vasp)\n",
    "print(sum(same_clus_vasp))\n",
    "print(same_clus_diff)\n",
    "print(sum(same_clus_diff))"
   ]
  },
  {
   "cell_type": "code",
   "execution_count": null,
   "id": "e40d9d03",
   "metadata": {},
   "outputs": [],
   "source": []
  }
 ],
 "metadata": {
  "kernelspec": {
   "display_name": "Python 3 (ipykernel)",
   "language": "python",
   "name": "python3"
  },
  "language_info": {
   "codemirror_mode": {
    "name": "ipython",
    "version": 3
   },
   "file_extension": ".py",
   "mimetype": "text/x-python",
   "name": "python",
   "nbconvert_exporter": "python",
   "pygments_lexer": "ipython3",
   "version": "3.8.10"
  }
 },
 "nbformat": 4,
 "nbformat_minor": 5
}
