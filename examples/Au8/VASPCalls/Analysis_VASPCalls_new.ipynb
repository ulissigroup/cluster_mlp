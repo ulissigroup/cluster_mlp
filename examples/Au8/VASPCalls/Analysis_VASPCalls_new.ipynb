{
 "cells": [
  {
   "cell_type": "code",
   "execution_count": 1,
   "id": "a0d1a007",
   "metadata": {},
   "outputs": [],
   "source": [
    "from ase.io import read, write, Trajectory\n",
    "import numpy as np"
   ]
  },
  {
   "cell_type": "code",
   "execution_count": 2,
   "id": "ca3fc447",
   "metadata": {},
   "outputs": [],
   "source": [
    "def CoM(clus):\n",
    "    \"\"\"\n",
    "    Support function to set the origin of the cluster at the centre of the mass\n",
    "    \"\"\"\n",
    "    (cx, cy, cz) = clus.get_center_of_mass()\n",
    "    new_xyz = []\n",
    "    for i, a in enumerate(clus):\n",
    "        x, y, z = a.position\n",
    "        x -= cx\n",
    "        y -= cy\n",
    "        z -= cz\n",
    "        new_xyz.append((x, y, z))\n",
    "    clus.set_positions(new_xyz)\n",
    "    return clus"
   ]
  },
  {
   "cell_type": "code",
   "execution_count": 3,
   "id": "ac80b48d",
   "metadata": {},
   "outputs": [],
   "source": [
    "def checkSimilar(clus1, clus2):\n",
    "\n",
    "    \"\"\"Check whether two clusters are similar or not by comparing their moments of inertia\"\"\"\n",
    "    Inertia1 = clus1.get_moments_of_inertia()\n",
    "    Inertia2 = clus2.get_moments_of_inertia()\n",
    "    # print(Inertia1, Inertia2, 'diff: ', Inertia1-Inertia2)\n",
    "\n",
    "    tol = 0.01\n",
    "    if (\n",
    "        Inertia1[0] * (1 - tol) <= Inertia2[0] <= Inertia1[0] * (1 + tol)\n",
    "        and Inertia1[1] * (1 - tol) <= Inertia2[1] <= Inertia1[1] * (1 + tol)\n",
    "        and Inertia1[2] * (1 - tol) <= Inertia2[2] <= Inertia1[2] * (1 + tol)\n",
    "    ):\n",
    "        similar = True\n",
    "    else:\n",
    "        similar = False\n",
    "\n",
    "    return similar"
   ]
  },
  {
   "cell_type": "code",
   "execution_count": 4,
   "id": "ce2e5ce2",
   "metadata": {},
   "outputs": [],
   "source": [
    "ini_gen = 0\n",
    "end_gen = 15"
   ]
  },
  {
   "cell_type": "code",
   "execution_count": 5,
   "id": "25f240e2",
   "metadata": {},
   "outputs": [
    {
     "name": "stdout",
     "output_type": "stream",
     "text": [
      "(0, 0) 0.3638447462470915 0.01156720999999905 [1007.69494702  -81.47439705 1270.63512077]\n",
      "(0, 2) 0.818107562530136 -0.18678959000000006 [ 441.23803698 -200.82304168 1216.51352534]\n",
      "(0, 3) 1.0422543077754705 -1.5104059299999992 [  852.46913272 -3045.64590491 -2609.36088657]\n",
      "(0, 4) 0.38217930306040215 0.0829144599999978 [ -830.89028641  -683.72984872 -1908.82452402]\n",
      "(0, 5) 0.7662650121213609 -0.17070410999999908 [-177.90413752  143.52763289 -379.67882568]\n",
      "(0, 6) 0.3655758496970733 -0.21071925999999763 [-573.41595995  275.987604   -349.41122171]\n",
      "(0, 7) 0.5470610976049005 -1.1580827300000003 [-286.3809974  -400.7860141  3594.82004031]\n",
      "(0, 8) 0.6544355311753127 -0.1917082999999984 [ 467.56453018   21.95772285 1120.5720603 ]\n",
      "(0, 9) 0.23421992198935432 -0.010986949999999496 [ -186.36642305  -231.00558704 -1026.90414954]\n",
      "(1, 0) 1.4020073975398868 -1.49732135 [-1576.35555627 -3292.86466796 -8580.13106388]\n",
      "(1, 1) 0.7650004650891163 -0.012823579999999168 [19.95222923 17.86629054 31.93028039]\n",
      "(1, 5) 1.3166071180469343 0.05659421000000009 [-1706.00483937  6283.10349579  8045.45353819]\n",
      "(1, 6) 0.6049640583493181 -0.01017075000000034 [-17.23930596 -38.96582083  49.05215119]\n",
      "(2, 0) 1.163130418406685 0.3115233100000019 [ 1594.45428491  1016.64663955 -2258.97378861]\n",
      "(2, 1) 1.2166321750006606 1.8198532199999988 [1762.7841619 2234.7602543 6027.7385699]\n",
      "(2, 3) 0.6111664341727228 -0.22086647999999798 [  108.76090925  -541.51143038 -1150.48921636]\n",
      "(2, 5) 1.194837609942253 0.05641882000000109 [-1717.54413198  6291.10053373  8041.11814549]\n",
      "(2, 6) 0.5139186363335677 -0.5567274399999995 [1511.99741274 1183.32618623  156.02088377]\n",
      "(2, 7) 0.6076261920927601 0.2869722099999983 [-138.89860595  872.8110505   758.90829507]\n",
      "(2, 8) 0.21095981121597368 -0.13432835000000054 [800.25567916 -52.63198317 839.52388908]\n",
      "(3, 0) 2.514056335303996 4.971275989999999 [10540.16606771 12261.57641512 17414.37618747]\n",
      "(3, 1) 0.9040382003938018 -0.22285283999999805 [-835.17315914  168.33804287  -75.50365774]\n",
      "(3, 2) 0.6144664233166938 -1.14443159 [  897.09435682 -1723.89544369 -1346.83072354]\n",
      "(3, 4) 0.8037700437824674 -0.2509359200000034 [-1124.3715352   4077.50699994  6601.39111804]\n",
      "(3, 5) 0.7605055421654733 0.028103709999999893 [ 685.39099303 3223.61721051 2221.46206598]\n",
      "(3, 8) 0.5629002802636286 -0.06486532999999994 [1612.1597902   641.1711168   515.82194918]\n",
      "(3, 9) 0.5913373074752903 -0.37617321000000103 [-724.9157938  -552.73598798 -925.20346595]\n",
      "(4, 0) 0.09102751707625889 0.0022464099999979226 [-79.14982842  15.13548824 -43.38864059]\n",
      "(4, 1) 0.5088213039724827 -0.0026659100000010483 [  3.37753023  39.49241829 -34.16129479]\n",
      "(4, 2) 0.2587131823376565 0.00790102999999931 [ -198.92337169  -153.18140766 -1189.92558989]\n",
      "(4, 3) 1.2418910047492364 0.6037520799999996 [-2505.66555461  3535.03037348  1740.44857173]\n",
      "(4, 4) 1.0019614127130456 0.29209101000000004 [-1484.15617722  5291.19840796  7590.31611824]\n",
      "(4, 6) 1.1150521957209678 -0.15498632999999984 [-998.34515426 4575.35869497 7209.53834588]\n",
      "(4, 7) 0.7907116687401619 -0.25207638999999915 [-1021.4585353   2019.0713615   4463.90077136]\n",
      "(4, 8) 22.743391028192086 3.647913150000001 [ -1380.13792029 932375.97626667 934710.29720892]\n",
      "(4, 9) 1.0436129412494073 0.8631262600000014 [-2744.7429561   5959.13611553  7208.4029068 ]\n",
      "(5, 0) 0.4552983172776544 0.14703012000000015 [ 216.67495427 -268.53071922  600.80373657]\n",
      "(5, 2) 0.46041436682390613 -0.8594016300000007 [-518.63467207 -438.97861224 -951.20692739]\n",
      "(5, 3) 0.6292225139377089 0.8581896399999991 [-685.82566766 2290.66260521 1612.37656012]\n",
      "(5, 4) 1.4920077237677223 -0.2162586800000028 [-1671.18398897  4068.02833736  7055.5168997 ]\n",
      "(5, 5) 0.9787088973972559 0.1424418799999998 [  557.77793067  -926.3955778  -3373.59814513]\n",
      "(5, 6) 0.5693946917330741 0.15697229999999962 [ 197.56509249 -105.98476525  412.2284318 ]\n",
      "(5, 8) 0.5205173187635656 0.06042546999999843 [ 564.01160753 3031.4666219  2253.33954196]\n",
      "(6, 0) 1.0768190605200059 -1.4342205700000008 [ -494.55295144 -2528.64080255 -6060.49120894]\n",
      "(6, 1) 0.8335940862857825 0.6574188099999994 [-297.3465859  2695.52919805 2435.4402898 ]\n",
      "(6, 2) 0.6196541953024972 -0.8591672600000031 [-521.59459063 -434.63832922 -949.91442772]\n",
      "(6, 3) 0.5480071393775746 0.16473895000000027 [ 866.87340692 2108.92926067 1378.8820889 ]\n",
      "(6, 4) 0.3933822139741068 -0.44739942999999727 [ 127.95418875 -152.02202669 -174.40124343]\n",
      "(6, 7) 0.5785682396946632 -0.5813114499999976 [1242.13266266   55.84681171  811.20898143]\n",
      "(6, 8) 0.3338273315887147 -0.21040264000000164 [  388.61599983   854.78366022 -1786.71769958]\n",
      "(7, 0) 0.09386047386735194 -0.014979690000000545 [199.27897773 -27.64313435 168.42485546]\n",
      "(7, 1) 0.4449192882857328 0.1499815600000005 [ 214.5500057  -249.78073495  606.98241143]\n",
      "(7, 2) 0.8460551093478041 -0.5104010700000003 [ 958.887374   1558.24461894 1811.54264722]\n",
      "(7, 3) 0.707107633224347 0.1621842700000009 [-1448.10783633  5449.72246082  7253.72078247]\n",
      "(7, 4) 0.7217426336623654 -0.037212220000000684 [ -950.71873968   368.34939987 -1247.92243128]\n",
      "(7, 5) 1.0769551110590654 -0.1143051100000001 [ 1999.8583252  -3391.2008498  -7308.54436223]\n",
      "(7, 7) 0.7400020495416268 -0.14789273999999963 [-698.13915915 1072.58614772 3605.63183057]\n",
      "(8, 1) 0.7197392955837585 -0.8935240800000024 [  616.47993445  -466.3189334  -1777.37768571]\n",
      "(8, 6) 0.5355292235261839 -0.793952400000002 [ 2165.54627701 -2474.378818   -2749.31125828]\n",
      "(8, 7) 0.5469756725991165 -0.04372496999999953 [  142.13046426 -1164.60215124   282.64412553]\n",
      "(8, 8) 0.4155443260987272 -0.30049032000000153 [  406.1273958  -2251.65254083 -1831.86323191]\n",
      "(8, 9) 0.7576764490708816 -0.14817589999999825 [-715.21770213 1109.6093233  3649.038123  ]\n",
      "(9, 2) 0.4446940217951246 -0.050001749999999845 [  -7.58482633 -913.80279543   37.82034846]\n",
      "(9, 3) 0.7318752328091378 0.2367709299999987 [579.17492167 620.82030085 997.16244196]\n",
      "(9, 5) 0.23558616949821945 -0.14337510999999736 [803.90911702  -6.74754073 855.33864665]\n",
      "(9, 6) 1.2650852163037491 -0.6246545299999973 [ 2148.85116697 -8124.64034598 -9774.49425269]\n",
      "(9, 7) 0.38109745006509643 0.031067719999999355 [  959.37397617  -138.97963008 -1825.31036405]\n",
      "(9, 9) 1.2138499091348185 0.41170125000000013 [-1583.96448377    46.26024759 -2782.51218849]\n",
      "(10, 0) 0.46225634816110056 0.5841001400000003 [-1544.28564539   417.27973351 -2760.11046036]\n",
      "(10, 2) 1.1897510911542593 0.7044512699999999 [-2880.90437374  7365.5556395   7735.76101125]\n",
      "(10, 4) 0.6021188493693201 -1.191537069999999 [ 268.49702366 -849.68054479  810.63674228]\n",
      "(10, 6) 0.3366104804434389 -0.0008719500000005098 [  7.17766568 -36.37867509  38.60899247]\n",
      "(10, 7) 0.06175430814907738 -0.010024309999998593 [123.25346705  11.74490192 134.31499188]\n",
      "(10, 8) 0.5098907767434311 0.01534690000000083 [ -99.12060319 -171.24232469  -53.45928577]\n",
      "(10, 9) 0.5879536569698954 -0.16505532000000045 [ 847.02226716 -106.95749687 2265.05030896]\n",
      "(11, 0) 0.2454780565104243 -0.5624661799999977 [1202.07654415 -446.58812731 -743.86363082]\n",
      "(11, 2) 0.6510758840738808 -0.15813382999999703 [-183.41871468  128.75399098 -442.71916751]\n",
      "(11, 3) 0.44041430394602055 -0.03736598999999785 [  -0.78348551 -196.29351912  206.57671961]\n",
      "(11, 5) 0.9387687532547327 -0.04953921999999977 [-565.38054638 3611.38558541 7132.45227392]\n",
      "(11, 6) 0.7590748660310056 0.0955084399999997 [ 154.92409554 -794.77571809 -651.51134655]\n",
      "(11, 9) 1.1905946773127973 0.04944551000000175 [-1139.13706945  2799.41318965  4704.86366807]\n",
      "(12, 0) 1.078408104270373 -0.07730743000000118 [  738.07920258 -6400.34993498 -9002.49567884]\n",
      "(12, 1) 1.1410110425831983 3.6194100999999996 [5291.53769108 2980.80254686 8171.66052262]\n",
      "(12, 2) 0.6019812290472188 -0.0010202399999990064 [  7.88624859 -19.40278018  -5.11575501]\n",
      "(12, 3) 0.9456552089565858 0.9758973599999976 [  383.23830367  -748.53264038 -3266.40129221]\n",
      "(12, 4) 0.705178894677369 0.2035159499999999 [ 620.17843435 -418.54766474  502.87581273]\n",
      "(12, 6) 0.5131517064071434 0.21563991000000016 [ 216.65371446 -100.4460682   380.45177229]\n",
      "(12, 8) 0.10477545707890809 -0.03132718999999895 [ 72.02344346 249.28744552 121.04705318]\n",
      "(13, 0) 0.10614056903948714 -0.01745187999999942 [154.45985421 -97.44460432 395.3930306 ]\n",
      "(13, 2) 0.9026305328092509 0.2653538900000001 [ 1264.20793912 -2335.64351721 -6622.77456421]\n",
      "(13, 3) 0.43886539225932075 -0.8789760300000005 [-1227.47905263  -746.11178498 -1905.37545385]\n",
      "(13, 4) 0.6408952696848881 0.8588729199999996 [-734.45047745 2374.28970256 1787.44269914]\n",
      "(13, 5) 0.3144017578117657 0.16536963999999799 [ -45.00286918 -235.40478553 -765.05735852]\n",
      "(13, 7) 0.6115322642592668 -0.564387700000001 [-822.98393249 1674.36226545  893.47773702]\n",
      "(13, 8) 0.18680739950494396 -0.051783809999999875 [264.95351556 281.21077859 -61.00913702]\n",
      "(13, 9) 0.6358900814607594 -1.7906751400000012 [ 540.80239404 1016.43994679 4444.09911545]\n",
      "(14, 0) 1.058417780080691 -1.3216361500000016 [ 2311.14125826 -4623.7087673  -6169.30535043]\n",
      "(14, 3) 0.8186425466218591 -0.13829460000000182 [ 926.02348189 -208.27795142 1016.40107641]\n",
      "(14, 4) 0.5135136783090098 -0.0024930299999965655 [-6.90643698  5.16653721 -2.43977001]\n",
      "(14, 5) 0.36067654023262374 0.11036822000000157 [  476.88071794 -1248.53703025  -682.55080149]\n",
      "(14, 7) 0.5241569279332441 -0.1680781400000022 [-174.10143146   77.64849599 -346.27833765]\n",
      "101\n",
      "40\n",
      "141\n",
      "[10, 7, 9, 10, 10, 9, 9, 8, 10, 10, 10, 10, 9, 10, 10]\n",
      "[10, 7, 9, 10, 10, 9, 9, 8, 10, 10, 10, 10, 9, 10, 10]\n"
     ]
    }
   ],
   "source": [
    "ene_tol = 0.02\n",
    "dist_tol = 0.02\n",
    "\n",
    "num_check_similar = 0\n",
    "diff_dist_abs_sum_list = []\n",
    "\n",
    "non_similar_clus = []\n",
    "similar_clus = []\n",
    "non_similar_clus_ene_list = []\n",
    "similar_clus_ene_list = []\n",
    "non_similar_clus_diff_dist = []\n",
    "similar_clus_diff_dist = []\n",
    "\n",
    "n_traj1_list = []\n",
    "n_traj2_list = []\n",
    "\n",
    "for k in range(ini_gen, end_gen):\n",
    "    file1  = 'mut_after_relax_gen'+str(k+1)+'.traj'\n",
    "    file2  = 'vasp_mut_after_relax_gen'+str(k+1)+'.traj'\n",
    "\n",
    "    traj1 = Trajectory(file1)\n",
    "    traj2 = Trajectory(file2)\n",
    "    \n",
    "    n_traj1 = len(traj1)\n",
    "    n_traj2 = len(traj2)\n",
    "    n_traj1_list.append(n_traj1)\n",
    "    n_traj2_list.append(n_traj2)\n",
    "    \n",
    "    for i in range(len(traj1)):\n",
    "        num_check_similar = num_check_similar + 1\n",
    "        clus1 = traj1[i]\n",
    "        clus2 = traj2[i]\n",
    "        \n",
    "        ene1 = clus1.get_potential_energy()\n",
    "        ene2 = clus2.get_potential_energy()\n",
    "        diff_ene = ene1 - ene2\n",
    "        \n",
    "        dist1 = clus1.get_all_distances() \n",
    "        dist2 = clus2.get_all_distances()\n",
    "        diff_dist = dist1 - dist2\n",
    "        diff_dist_abs = np.absolute(diff_dist)\n",
    "        diff_dist_avg = np.sum(diff_dist_abs) / len(diff_dist)**2\n",
    "        \n",
    "        inertia1 = clus1.get_moments_of_inertia()\n",
    "        inertia2 = clus2.get_moments_of_inertia()\n",
    "        diff_inertia = inertia1 - inertia2\n",
    "              \n",
    "        if checkSimilar(clus1, clus2) == True:\n",
    "            #if (diff_dist_avg > dist_tol) or (abs(diff_ene) > ene_tol):\n",
    "            if diff_dist_avg > dist_tol:\n",
    "                #if abs(diff_ene) > ene_tol:\n",
    "                non_similar_clus.append((k,i))\n",
    "                non_similar_clus_ene_list.append(diff_ene)\n",
    "                non_similar_clus_diff_dist.append(diff_dist_avg)\n",
    "                print((k, i),diff_dist_avg, diff_ene, diff_inertia )\n",
    "                #else:\n",
    "                    #similar_clus.append((k,i))\n",
    "                    #similar_clus_ene_list.append(diff_ene)\n",
    "                    #similar_clus_diff_dist.append(diff_dist_avg)\n",
    "                    #print((k, i),diff_dist_avg, diff_ene, diff_inertia )  \n",
    "                    \n",
    "            \n",
    "            else:\n",
    "                if abs(diff_ene) < ene_tol:\n",
    "                    similar_clus.append((k,i))\n",
    "                    similar_clus_ene_list.append(diff_ene)\n",
    "                    similar_clus_diff_dist.append(diff_dist_avg)\n",
    "                    #print((k, i),diff_dist_avg, diff_ene, diff_inertia )  \n",
    "                else:\n",
    "                    non_similar_clus.append((k,i))\n",
    "                    non_similar_clus_ene_list.append(diff_ene)\n",
    "                    non_similar_clus_diff_dist.append(diff_dist_avg)\n",
    "                    print((k, i),diff_dist_avg, diff_ene, diff_inertia )\n",
    "                \n",
    "        else:\n",
    "            if diff_dist_avg < dist_tol:\n",
    "                if abs(diff_ene) < ene_tol:\n",
    "                    similar_clus.append((k,i))\n",
    "                    similar_clus_ene_list.append(diff_ene)\n",
    "                    similar_clus_diff_dist.append(diff_dist_avg)\n",
    "                    #print((k, i),diff_dist_avg, diff_ene, diff_inertia )\n",
    "                else: \n",
    "                    non_similar_clus.append((k,i))\n",
    "                    non_similar_clus_ene_list.append(diff_ene)\n",
    "                    non_similar_clus_diff_dist.append(diff_dist_avg)\n",
    "                    print((k, i),diff_dist_avg, diff_ene, diff_inertia )\n",
    "            else:\n",
    "                non_similar_clus.append((k,i))\n",
    "                non_similar_clus_ene_list.append(diff_ene)\n",
    "                non_similar_clus_diff_dist.append(diff_dist_avg)\n",
    "                print((k, i),diff_dist_avg, diff_ene, diff_inertia )\n",
    "\n",
    "print(len(non_similar_clus))\n",
    "print(len(similar_clus))\n",
    "print(num_check_similar)\n",
    "\n",
    "#print(sorted(non_similar_clus_ene_list))\n",
    "#print(non_similar_clus)\n",
    "#print(sorted(non_similar_clus_ene_list))\n",
    "#print(sorted(non_similar_clus_diff_dist))\n",
    "\n",
    "print(n_traj1_list)\n",
    "print(n_traj2_list)"
   ]
  },
  {
   "cell_type": "code",
   "execution_count": 6,
   "id": "d19a02bd",
   "metadata": {},
   "outputs": [
    {
     "name": "stdout",
     "output_type": "stream",
     "text": [
      "[20, 6, 15, 26, 18, 13, 20, 17, 34, 11]\n",
      "[33, 21, 8, 6, 6, 71, 15]\n",
      "[47, 13, 7, 19, 6, 45, 14, 27, 22]\n",
      "[10, 25, 11, 7, 16, 37, 7, 17, 21, 20]\n",
      "[11, 15, 10, 57, 31, 7, 31, 24, 17, 17]\n",
      "[13, 7, 25, 22, 34, 36, 16, 8, 20]\n",
      "[21, 16, 27, 21, 15, 7, 9, 40, 33]\n",
      "[9, 25, 24, 14, 12, 33, 5, 14]\n",
      "[6, 27, 14, 6, 7, 9, 23, 24, 17, 25]\n",
      "[8, 5, 32, 17, 6, 17, 18, 22, 6, 36]\n",
      "[20, 8, 19, 13, 28, 10, 20, 10, 17, 25]\n",
      "[25, 13, 15, 14, 7, 24, 32, 13, 7, 27]\n",
      "[31, 35, 25, 19, 32, 6, 38, 7, 13]\n",
      "[7, 9, 26, 24, 18, 11, 7, 36, 15, 12]\n",
      "[20, 9, 7, 36, 12, 18, 7, 11, 13, 8]\n"
     ]
    }
   ],
   "source": [
    "filename=\"clus_Au8.log\"\n",
    "\n",
    "parent_calls_list = []\n",
    "with open(filename, 'r') as fh:\n",
    "    for line in fh:\n",
    "        if line.startswith(\"Parent\"):\n",
    "            line = line.strip()\n",
    "            words = line.split(':')\n",
    "            words[1] = words[1].lstrip()\n",
    "            parent_calls_list.append(words[1])\n",
    "#print(parent_calls_list)\n",
    "#print((parent_calls_list[0]))\n",
    "\n",
    "item_split = []\n",
    "for item in parent_calls_list:\n",
    "    print( item)\n",
    "    item_split.append(item.split(\",\"))\n",
    "#print(item_split)\n",
    "\n",
    "#print(item_split[0])\n"
   ]
  },
  {
   "cell_type": "code",
   "execution_count": 7,
   "id": "7fc02ce7",
   "metadata": {},
   "outputs": [
    {
     "name": "stdout",
     "output_type": "stream",
     "text": [
      "[[20, 6, 15, 26, 18, 13, 20, 17, 34, 11], [33, 21, 8, 6, 6, 71, 15], [47, 13, 7, 19, 6, 45, 14, 27, 22], [10, 25, 11, 7, 16, 37, 7, 17, 21, 20], [11, 15, 10, 57, 31, 7, 31, 24, 17, 17], [13, 7, 25, 22, 34, 36, 16, 8, 20], [21, 16, 27, 21, 15, 7, 9, 40, 33], [9, 25, 24, 14, 12, 33, 5, 14], [6, 27, 14, 6, 7, 9, 23, 24, 17, 25], [8, 5, 32, 17, 6, 17, 18, 22, 6, 36], [20, 8, 19, 13, 28, 10, 20, 10, 17, 25], [25, 13, 15, 14, 7, 24, 32, 13, 7, 27], [31, 35, 25, 19, 32, 6, 38, 7, 13], [7, 9, 26, 24, 18, 11, 7, 36, 15, 12], [20, 9, 7, 36, 12, 18, 7, 11, 13, 8]]\n",
      "15\n",
      "[10, 7, 9, 10, 10, 9, 9, 8, 10, 10, 10, 10, 9, 10, 10]\n",
      "141\n"
     ]
    }
   ],
   "source": [
    "new_vasp_calls = []\n",
    "len_new_vasp_calls = []\n",
    "for i in range(len(item_split)):\n",
    "    k=len(item_split[i])\n",
    "    new_int_list = []\n",
    "    \n",
    "    a = list(item_split[i][0].lstrip())\n",
    "    del a[0] \n",
    "    a = int(''.join(a))\n",
    "    new_int_list.append(a)\n",
    "    #print(a)\n",
    "    for k in range(1,(len(item_split[i])-1)):\n",
    "        b = int(item_split[i][k])\n",
    "        new_int_list.append(b)\n",
    "        #print(b)  \n",
    "    c = list(item_split[i][-1].lstrip())\n",
    "    del c[-1]\n",
    "    c = int(''.join(c))\n",
    "    new_int_list.append(c)\n",
    "    #print(c)\n",
    "    #print(new_int_list)\n",
    "    len_new_list = len(new_int_list)\n",
    "    new_vasp_calls.append(new_int_list)\n",
    "    len_new_vasp_calls.append(len_new_list)\n",
    "print(new_vasp_calls)\n",
    "print(len(new_vasp_calls))\n",
    "print(len_new_vasp_calls)\n",
    "print(sum(len_new_vasp_calls))"
   ]
  },
  {
   "cell_type": "code",
   "execution_count": 8,
   "id": "70de20cb",
   "metadata": {},
   "outputs": [
    {
     "name": "stdout",
     "output_type": "stream",
     "text": [
      "40\n",
      "[(0, 1), (1, 2), (1, 3), (1, 4), (2, 2), (2, 4), (3, 3), (3, 6), (3, 7), (4, 5), (5, 1), (5, 7), (6, 5), (6, 6), (7, 6), (8, 0), (8, 2), (8, 3), (8, 4), (8, 5), (9, 0), (9, 1), (9, 4), (9, 8), (10, 1), (10, 3), (10, 5), (11, 1), (11, 4), (11, 7), (11, 8), (12, 5), (12, 7), (13, 1), (13, 6), (14, 1), (14, 2), (14, 6), (14, 8), (14, 9)]\n"
     ]
    }
   ],
   "source": [
    "print(len(similar_clus))\n",
    "print(similar_clus)"
   ]
  },
  {
   "cell_type": "code",
   "execution_count": 9,
   "id": "39dff7ea",
   "metadata": {},
   "outputs": [
    {
     "name": "stdout",
     "output_type": "stream",
     "text": [
      "[47, 11, 72, 36, 68, 13, 38, 60, 52, 21, 28, 52, 14, 9, 13, 13, 51, 118, 52, 13, 22, 9, 13, 13, 13, 14, 42, 59, 9, 9, 19, 22, 15, 48, 74, 56, 40, 54, 14, 60, 78, 13, 23, 13, 49, 108, 55, 9, 13, 9, 71, 75, 61, 15, 60, 42, 27, 13, 9, 13, 9, 18, 18, 66, 23, 101, 27, 9, 27, 13, 15, 74, 15, 11, 40, 9, 9, 26, 33, 51, 42, 9, 22, 7, 51, 51, 11, 14, 99, 56, 11, 100, 99, 9, 81, 55, 23, 28, 68, 21, 58, 57, 35, 21, 14, 55, 12, 38, 69, 36, 9, 11, 38, 83, 16, 23, 58, 11, 62, 13, 22, 23, 26, 25, 62, 9, 45, 9, 25, 19, 11, 32, 26, 9, 58, 54, 11, 11, 14, 67, 15]\n",
      "\n",
      "\n",
      "[[47, 11, 72, 36, 68, 13, 38, 60, 52, 21], [28, 52, 14, 9, 13, 13, 51], [118, 52, 13, 22, 9, 13, 13, 13, 14], [42, 59, 9, 9, 19, 22, 15, 48, 74, 56], [40, 54, 14, 60, 78, 13, 23, 13, 49, 108], [55, 9, 13, 9, 71, 75, 61, 15, 60], [42, 27, 13, 9, 13, 9, 18, 18, 66], [23, 101, 27, 9, 27, 13, 15, 74], [15, 11, 40, 9, 9, 26, 33, 51, 42, 9], [22, 7, 51, 51, 11, 14, 99, 56, 11, 100], [99, 9, 81, 55, 23, 28, 68, 21, 58, 57], [35, 21, 14, 55, 12, 38, 69, 36, 9, 11], [38, 83, 16, 23, 58, 11, 62, 13, 22], [23, 26, 25, 62, 9, 45, 9, 25, 19, 11], [32, 26, 9, 58, 54, 11, 11, 14, 67, 15]]\n"
     ]
    }
   ],
   "source": [
    "file_vasp=\"results.log\"\n",
    "\n",
    "vasp_calls = []\n",
    "vasp_calls_list = []\n",
    "with open(file_vasp, 'r') as fh:\n",
    "    total_images = []\n",
    "    for line in fh:       \n",
    "        if \"VASP Calls\" in line:\n",
    "            line = line.strip()\n",
    "            words = line.split(':')\n",
    "            words[1] = int(words[1].lstrip())\n",
    "            vasp_calls.append(words[1])\n",
    "        if \"Total images in the trajectory\" in line:\n",
    "            line = line.strip()\n",
    "            img_num = line.split(':')\n",
    "            img_num[1] = int(img_num[1].lstrip())\n",
    "            total_images.append(img_num[1])\n",
    "\n",
    "print(vasp_calls)\n",
    "#print(len(vasp_calls))\n",
    "#print(total_images)\n",
    "#print(len(total_images))\n",
    "#print(sum(total_images))\n",
    "print('\\n')\n",
    "\n",
    "kk = 0\n",
    "for i in total_images:\n",
    "    traj_calls = []\n",
    "    for j in range(kk, kk+i):\n",
    "        traj_calls.append(vasp_calls[j])\n",
    "    vasp_calls_list.append(traj_calls)\n",
    "    kk = kk + i\n",
    "\n",
    "print(vasp_calls_list)"
   ]
  },
  {
   "cell_type": "code",
   "execution_count": 10,
   "id": "1331a3c5",
   "metadata": {},
   "outputs": [
    {
     "name": "stdout",
     "output_type": "stream",
     "text": [
      "[[20, 6, 15, 26, 18, 13, 20, 17, 34, 11], [33, 21, 8, 6, 6, 71, 15], [47, 13, 7, 19, 6, 45, 14, 27, 22], [10, 25, 11, 7, 16, 37, 7, 17, 21, 20], [11, 15, 10, 57, 31, 7, 31, 24, 17, 17], [13, 7, 25, 22, 34, 36, 16, 8, 20], [21, 16, 27, 21, 15, 7, 9, 40, 33], [9, 25, 24, 14, 12, 33, 5, 14], [6, 27, 14, 6, 7, 9, 23, 24, 17, 25], [8, 5, 32, 17, 6, 17, 18, 22, 6, 36], [20, 8, 19, 13, 28, 10, 20, 10, 17, 25], [25, 13, 15, 14, 7, 24, 32, 13, 7, 27], [31, 35, 25, 19, 32, 6, 38, 7, 13], [7, 9, 26, 24, 18, 11, 7, 36, 15, 12], [20, 9, 7, 36, 12, 18, 7, 11, 13, 8]]\n"
     ]
    }
   ],
   "source": [
    "print(new_vasp_calls)"
   ]
  },
  {
   "cell_type": "code",
   "execution_count": 11,
   "id": "25923871",
   "metadata": {},
   "outputs": [
    {
     "name": "stdout",
     "output_type": "stream",
     "text": [
      "[(0, 1), (1, 2), (1, 3), (1, 4), (2, 2), (2, 4), (3, 3), (3, 6), (3, 7), (4, 5), (5, 1), (5, 7), (6, 5), (6, 6), (7, 6), (8, 0), (8, 2), (8, 3), (8, 4), (8, 5), (9, 0), (9, 1), (9, 4), (9, 8), (10, 1), (10, 3), (10, 5), (11, 1), (11, 4), (11, 7), (11, 8), (12, 5), (12, 7), (13, 1), (13, 6), (14, 1), (14, 2), (14, 6), (14, 8), (14, 9)]\n"
     ]
    }
   ],
   "source": [
    "print(similar_clus)"
   ]
  },
  {
   "cell_type": "code",
   "execution_count": 12,
   "id": "335b6961",
   "metadata": {},
   "outputs": [
    {
     "name": "stdout",
     "output_type": "stream",
     "text": [
      "[6, 8, 6, 6, 7, 6, 7, 7, 17, 7, 7, 8, 7, 9, 5, 6, 14, 6, 7, 9, 8, 5, 6, 6, 8, 13, 10, 13, 7, 13, 7, 6, 7, 9, 7, 9, 7, 7, 13, 8]\n",
      "324\n",
      "[11, 14, 9, 13, 13, 9, 9, 15, 48, 13, 9, 15, 9, 18, 15, 15, 40, 9, 9, 26, 22, 7, 11, 11, 9, 55, 28, 21, 12, 36, 9, 11, 13, 26, 9, 26, 9, 11, 67, 15]\n",
      "727\n",
      "[5, 6, 3, 7, 6, 3, 2, 8, 31, 6, 2, 7, 2, 9, 10, 9, 26, 3, 2, 17, 14, 2, 5, 5, 1, 42, 18, 8, 5, 23, 2, 5, 6, 17, 2, 17, 2, 4, 54, 7]\n",
      "403\n",
      "40\n"
     ]
    }
   ],
   "source": [
    "same_clus_almlp = []\n",
    "same_clus_vasp = []\n",
    "same_clus_diff = []\n",
    "for i in range(len(similar_clus)):\n",
    "    p = similar_clus[i][0]\n",
    "    q = similar_clus[i][1]\n",
    "    \n",
    "    r = new_vasp_calls[p][q] #clus_XXX.log AL\n",
    "    same_clus_almlp.append(r)\n",
    "    s = vasp_calls_list[p][q] #results.log DFT\n",
    "    same_clus_vasp.append(s)\n",
    "    \n",
    "    same_clus_diff.append(s-r)\n",
    "    #print(r, s, s-r)\n",
    "print(same_clus_almlp)\n",
    "print(sum(same_clus_almlp))\n",
    "print(same_clus_vasp)\n",
    "print(sum(same_clus_vasp))\n",
    "print(same_clus_diff)\n",
    "print(sum(same_clus_diff))\n",
    "print(len(same_clus_diff))"
   ]
  },
  {
   "cell_type": "code",
   "execution_count": 13,
   "id": "e40d9d03",
   "metadata": {},
   "outputs": [
    {
     "data": {
      "image/png": "[encoded data removed]",
      "text/plain": [
       "<Figure size 432x288 with 1 Axes>"
      ]
     },
     "metadata": {
      "needs_background": "light"
     },
     "output_type": "display_data"
    }
   ],
   "source": [
    "import seaborn as sns\n",
    "g = sns.histplot(similar_clus_diff_dist, kde=True)\n",
    "#g.set_xlim(-0.025, + 0.025)"
   ]
  },
  {
   "cell_type": "code",
   "execution_count": 14,
   "id": "f9e4ce49",
   "metadata": {},
   "outputs": [
    {
     "data": {
      "text/plain": [
       "<AxesSubplot:ylabel='Count'>"
      ]
     },
     "execution_count": 14,
     "metadata": {},
     "output_type": "execute_result"
    },
    {
     "data": {
      "image/png": "[encoded data removed]",
      "text/plain": [
       "<Figure size 432x288 with 1 Axes>"
      ]
     },
     "metadata": {
      "needs_background": "light"
     },
     "output_type": "display_data"
    }
   ],
   "source": [
    "sns.histplot(similar_clus_ene_list, kde=True)"
   ]
  },
  {
   "cell_type": "code",
   "execution_count": 15,
   "id": "7debaf5a",
   "metadata": {},
   "outputs": [
    {
     "name": "stdout",
     "output_type": "stream",
     "text": [
      "[-0.010765140000000173, -0.007161260000000169, -0.006010540000001896, -0.0042082000000007724, -0.003144840000000926, -0.002615219999999141, -0.0023109699999999123, -0.002288840000002068, -0.0015429000000004578, -0.0015428899999996304, -0.0015427399999978775, -0.001542539999999093, -0.0007379400000004921, -0.000704219999999367, -0.0006970799999983512, -0.00069170000000085, -0.0006193200000019772, -0.0004479199999991579, -0.00035983000000072707, -0.000249829999997786, -0.00022653999999988628, -0.0002097399999989591, -0.00017296000000044387, -0.00015502999999839062, -9.288000000040597e-05, -6.27200000025141e-05, 0.00010251000000138788, 0.00019578999999936286, 0.00022975999999985675, 0.00022977000000068415, 0.0002647000000024491, 0.00033054000000021233, 0.0003362299999984941, 0.0004942200000002117, 0.0009653699999994103, 0.0009653699999994103, 0.0011969300000025385, 0.0011969399999998132, 0.0011969399999998132, 0.0025117399999992074]\n"
     ]
    }
   ],
   "source": [
    "print(sorted(similar_clus_ene_list))\n",
    "#print(non_similar_clus)\n",
    "#print(sorted(non_similar_clus_ene_list))\n",
    "#print(sorted(non_similar_clus_diff_dist))"
   ]
  },
  {
   "cell_type": "code",
   "execution_count": 16,
   "id": "ba4fbb3d",
   "metadata": {},
   "outputs": [
    {
     "name": "stdout",
     "output_type": "stream",
     "text": [
      "[0.002752009945715353, 0.0029725954571300367, 0.0034889603784013373, 0.0035430426798302717, 0.0035889883086052538, 0.00400905780804281, 0.004418676114046491, 0.0046306156811200955, 0.004781389970104133, 0.00486549335375383, 0.004928106552378145, 0.005085592179836604, 0.005093015368939177, 0.005123946247050065, 0.005283715263478483, 0.005642032969822228, 0.006105857941388279, 0.006629513759629238, 0.007226112239397647, 0.007644440312151404, 0.00813178484719393, 0.008712286881442072, 0.010240155818307659, 0.010240184742601258, 0.010528295705615948, 0.010807760713908446, 0.011108273577807401, 0.011354880181891208, 0.012108889155085456, 0.012108933079902864, 0.0121100292807758, 0.012111089650952422, 0.014165522153224294, 0.014165526758023392, 0.015396370734785794, 0.015396388803620556, 0.015396431960262677, 0.015628456329891807, 0.01685794207985851, 0.018902287872691395]\n"
     ]
    }
   ],
   "source": [
    "print(sorted(similar_clus_diff_dist))"
   ]
  },
  {
   "cell_type": "code",
   "execution_count": 17,
   "id": "503e098e",
   "metadata": {},
   "outputs": [],
   "source": [
    "import pickle\n",
    "with open ('Au8_similar_clus_diff_dist.pkl', 'wb') as fh:\n",
    "    pickle.dump(similar_clus_diff_dist, fh)\n",
    "with open ('Au8_similar_clus_ene_list.pkl', 'wb') as fh:\n",
    "    pickle.dump(similar_clus_ene_list, fh)"
   ]
  }
 ],
 "metadata": {
  "kernelspec": {
   "display_name": "Python 3 (ipykernel)",
   "language": "python",
   "name": "python3"
  },
  "language_info": {
   "codemirror_mode": {
    "name": "ipython",
    "version": 3
   },
   "file_extension": ".py",
   "mimetype": "text/x-python",
   "name": "python",
   "nbconvert_exporter": "python",
   "pygments_lexer": "ipython3",
   "version": "3.8.10"
  }
 },
 "nbformat": 4,
 "nbformat_minor": 5
}
