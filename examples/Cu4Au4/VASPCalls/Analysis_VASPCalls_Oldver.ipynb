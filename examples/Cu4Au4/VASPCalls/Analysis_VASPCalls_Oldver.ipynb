{
 "cells": [
  {
   "cell_type": "code",
   "execution_count": 1,
   "id": "a0d1a007",
   "metadata": {},
   "outputs": [],
   "source": [
    "from ase.io import read, write, Trajectory\n",
    "import numpy as np"
   ]
  },
  {
   "cell_type": "code",
   "execution_count": 2,
   "id": "ca3fc447",
   "metadata": {},
   "outputs": [],
   "source": [
    "def CoM(clus):\n",
    "    \"\"\"\n",
    "    Support function to set the origin of the cluster at the centre of the mass\n",
    "    \"\"\"\n",
    "    (cx, cy, cz) = clus.get_center_of_mass()\n",
    "    new_xyz = []\n",
    "    for i, a in enumerate(clus):\n",
    "        x, y, z = a.position\n",
    "        x -= cx\n",
    "        y -= cy\n",
    "        z -= cz\n",
    "        new_xyz.append((x, y, z))\n",
    "    clus.set_positions(new_xyz)\n",
    "    return clus"
   ]
  },
  {
   "cell_type": "code",
   "execution_count": 3,
   "id": "ac80b48d",
   "metadata": {},
   "outputs": [],
   "source": [
    "def checkSimilar(clus1, clus2):\n",
    "\n",
    "    \"\"\"Check whether two clusters are similar or not by comparing their moments of inertia\"\"\"\n",
    "    Inertia1 = clus1.get_moments_of_inertia()\n",
    "    Inertia2 = clus2.get_moments_of_inertia()\n",
    "    # print(Inertia1, Inertia2, 'diff: ', Inertia1-Inertia2)\n",
    "\n",
    "    tol = 0.01\n",
    "    if (\n",
    "        Inertia1[0] * (1 - tol) <= Inertia2[0] <= Inertia1[0] * (1 + tol)\n",
    "        and Inertia1[1] * (1 - tol) <= Inertia2[1] <= Inertia1[1] * (1 + tol)\n",
    "        and Inertia1[2] * (1 - tol) <= Inertia2[2] <= Inertia1[2] * (1 + tol)\n",
    "    ):\n",
    "        similar = True\n",
    "    else:\n",
    "        similar = False\n",
    "\n",
    "    return similar"
   ]
  },
  {
   "cell_type": "code",
   "execution_count": 4,
   "id": "ce2e5ce2",
   "metadata": {},
   "outputs": [],
   "source": [
    "gen = 25"
   ]
  },
  {
   "cell_type": "code",
   "execution_count": 5,
   "id": "25f240e2",
   "metadata": {},
   "outputs": [
    {
     "name": "stdout",
     "output_type": "stream",
     "text": [
      "168\n",
      "74\n",
      "242\n",
      "[9, 9, 10, 10, 10, 10, 10, 10, 10, 10, 10, 8, 9, 9, 9, 10, 10, 10, 10, 9, 10, 10, 10, 10, 10]\n",
      "[9, 9, 10, 10, 10, 10, 10, 10, 10, 10, 10, 8, 9, 9, 9, 10, 10, 10, 10, 9, 10, 10, 10, 10, 10]\n"
     ]
    }
   ],
   "source": [
    "num_check_similar = 0\n",
    "diff_dist_abs_sum_list = []\n",
    "\n",
    "non_similar_clus = []\n",
    "similar_clus = []\n",
    "non_similar_clus_ene_list = []\n",
    "similar_clus_ene_list = []\n",
    "non_similar_clus_diff_dist = []\n",
    "similar_clus_diff_dist = []\n",
    "\n",
    "n_traj1_list = []\n",
    "n_traj2_list = []\n",
    "\n",
    "for k in range(gen):\n",
    "    file1  = 'mut_after_relax_gen'+str(k+1)+'.traj'\n",
    "    file2  = 'vasp_mut_after_relax_gen'+str(k+1)+'.traj'\n",
    "\n",
    "    traj1 = Trajectory(file1)\n",
    "    traj2 = Trajectory(file2)\n",
    "    \n",
    "    n_traj1 = len(traj1)\n",
    "    n_traj2 = len(traj2)\n",
    "    n_traj1_list.append(n_traj1)\n",
    "    n_traj2_list.append(n_traj2)\n",
    "    \n",
    "    for i in range(len(traj1)):\n",
    "        num_check_similar = num_check_similar + 1\n",
    "        clus1 = traj1[i]\n",
    "        clus2 = traj2[i]\n",
    "        \n",
    "        ene1 = clus1.get_potential_energy()\n",
    "        ene2 = clus2.get_potential_energy()\n",
    "        diff_ene = ene1 - ene2\n",
    "        \n",
    "        dist1 = clus1.get_all_distances() \n",
    "        dist2 = clus2.get_all_distances()\n",
    "        diff_dist = dist1 - dist2\n",
    "        diff_dist_abs = np.absolute(diff_dist)\n",
    "        diff_dist_avg = np.sum(diff_dist_abs) / len(diff_dist)**2\n",
    "        \n",
    "        inertia1 = clus1.get_moments_of_inertia()\n",
    "        inertia2 = clus2.get_moments_of_inertia()\n",
    "        diff_inertia = inertia1 - inertia2\n",
    "              \n",
    "        if checkSimilar(clus1, clus2) == True:\n",
    "            if diff_dist_avg > 0.02:\n",
    "                if abs(diff_ene) > 0.02:\n",
    "                    non_similar_clus.append((k,i))\n",
    "                    non_similar_clus_ene_list.append(diff_ene)\n",
    "                    non_similar_clus_diff_dist.append(diff_dist_avg)\n",
    "                    print((k, i),diff_dist_avg, diff_ene, diff_inertia )\n",
    "                else:\n",
    "                    similar_clus.append((k,i))\n",
    "                    similar_clus_ene_list.append(diff_ene)\n",
    "                    similar_clus_diff_dist.append(diff_dist_avg)\n",
    "                    #print((k, i),diff_dist_avg, diff_ene, diff_inertia )  \n",
    "                    \n",
    "            else:\n",
    "                similar_clus.append((k,i))\n",
    "                similar_clus_ene_list.append(diff_ene)\n",
    "                similar_clus_diff_dist.append(diff_dist_avg)\n",
    "                #print((k, i),diff_dist_avg, diff_ene, diff_inertia )  \n",
    "                \n",
    "        else:\n",
    "            if diff_dist_avg < 0.02:\n",
    "                if abs(diff_ene) < 0.02:\n",
    "                    similar_clus.append((k,i))\n",
    "                    similar_clus_ene_list.append(diff_ene)\n",
    "                    similar_clus_diff_dist.append(diff_dist_avg)\n",
    "                    #print((k, i),diff_dist_avg, diff_ene, diff_inertia )\n",
    "                else: \n",
    "                    non_similar_clus.append((k,i))\n",
    "                    non_similar_clus_ene_list.append(diff_ene)\n",
    "                    non_similar_clus_diff_dist.append(diff_dist_avg)\n",
    "                    print((k, i),diff_dist_avg, diff_ene, diff_inertia )\n",
    "            else:\n",
    "                non_similar_clus.append((k,i))\n",
    "                non_similar_clus_ene_list.append(diff_ene)\n",
    "                non_similar_clus_diff_dist.append(diff_dist_avg)\n",
    "                #print((k, i),diff_dist_avg, diff_ene, diff_inertia )\n",
    "\n",
    "print(len(non_similar_clus))\n",
    "print(len(similar_clus))\n",
    "print(num_check_similar)\n",
    "\n",
    "#print(sorted(non_similar_clus_ene_list))\n",
    "#print(non_similar_clus)\n",
    "#print(sorted(non_similar_clus_ene_list))\n",
    "#print(sorted(non_similar_clus_diff_dist))\n",
    "\n",
    "print(n_traj1_list)\n",
    "print(n_traj2_list)"
   ]
  },
  {
   "cell_type": "code",
   "execution_count": 13,
   "id": "d19a02bd",
   "metadata": {},
   "outputs": [
    {
     "name": "stdout",
     "output_type": "stream",
     "text": [
      "[10, 30, 6, 38, 17, 38, 26, 20, 16]\n",
      "[15, 35, 6, 11, 19, 15, 17, 22, 6]\n",
      "[52, 33, 23, 23, 53, 24, 25, 6, 21, 22]\n",
      "[6, 14, 7, 17, 16, 47, 21, 23, 37, 15]\n",
      "[35, 8, 18, 28, 24, 19, 12, 35, 17, 48]\n",
      "[31, 33, 14, 10, 30, 50, 31, 31, 12, 10]\n",
      "[36, 6, 16, 46, 27, 16, 19, 11, 24, 38]\n",
      "[15, 20, 12, 17, 13, 10, 39, 38, 31, 6]\n",
      "[34, 43, 8, 38, 45, 27, 27, 18, 21, 20]\n",
      "[11, 23, 19, 9, 17, 21, 20, 26, 32, 19]\n",
      "[33, 46, 6, 30, 32, 14, 20, 33, 20, 6]\n",
      "[7, 6, 9, 24, 19, 28, 29, 24]\n",
      "[8, 25, 28, 16, 16, 11, 35, 59, 27]\n",
      "[6, 38, 21, 23, 6, 13, 22, 28, 18]\n",
      "[29, 30, 6, 27, 16, 6, 63, 50, 35]\n",
      "[29, 11, 8, 23, 20, 27, 44, 20, 39, 27]\n",
      "[23, 22, 23, 6, 28, 25, 21, 25, 6, 13]\n",
      "[26, 23, 27, 9, 6, 27, 24, 19, 41, 22]\n",
      "[20, 32, 24, 47, 14, 45, 16, 57, 23, 12]\n",
      "[8, 33, 15, 11, 23, 18, 16, 22, 30]\n",
      "[18, 17, 37, 29, 6, 23, 41, 22, 42, 27]\n",
      "[14, 13, 17, 16, 30, 26, 20, 24, 32, 22]\n",
      "[46, 6, 24, 51, 14, 22, 20, 33, 74, 23]\n",
      "[21, 15, 10, 6, 6, 26, 7, 14, 6, 14]\n",
      "[29, 16, 24, 26, 38, 27, 32, 16, 13, 30]\n"
     ]
    }
   ],
   "source": [
    "filename=\"clus_Cu4Au4.log\"\n",
    "\n",
    "parent_calls_list = []\n",
    "with open(filename, 'r') as fh:\n",
    "    for line in fh:\n",
    "        if line.startswith(\"Parent\"):\n",
    "            line = line.strip()\n",
    "            words = line.split(':')\n",
    "            words[1] = words[1].lstrip()\n",
    "            parent_calls_list.append(words[1])\n",
    "#print(parent_calls_list)\n",
    "#print((parent_calls_list[0]))\n",
    "\n",
    "item_split = []\n",
    "for item in parent_calls_list:\n",
    "    print(item)\n",
    "    item_split.append(item.split(\",\"))\n",
    "#print(item_split)\n",
    "\n",
    "#print(item_split[0])\n"
   ]
  },
  {
   "cell_type": "code",
   "execution_count": 14,
   "id": "7fc02ce7",
   "metadata": {},
   "outputs": [
    {
     "name": "stdout",
     "output_type": "stream",
     "text": [
      "[[10, 30, 6, 38, 17, 38, 26, 20, 16], [15, 35, 6, 11, 19, 15, 17, 22, 6], [52, 33, 23, 23, 53, 24, 25, 6, 21, 22], [6, 14, 7, 17, 16, 47, 21, 23, 37, 15], [35, 8, 18, 28, 24, 19, 12, 35, 17, 48], [31, 33, 14, 10, 30, 50, 31, 31, 12, 10], [36, 6, 16, 46, 27, 16, 19, 11, 24, 38], [15, 20, 12, 17, 13, 10, 39, 38, 31, 6], [34, 43, 8, 38, 45, 27, 27, 18, 21, 20], [11, 23, 19, 9, 17, 21, 20, 26, 32, 19], [33, 46, 6, 30, 32, 14, 20, 33, 20, 6], [7, 6, 9, 24, 19, 28, 29, 24], [8, 25, 28, 16, 16, 11, 35, 59, 27], [6, 38, 21, 23, 6, 13, 22, 28, 18], [29, 30, 6, 27, 16, 6, 63, 50, 35], [29, 11, 8, 23, 20, 27, 44, 20, 39, 27], [23, 22, 23, 6, 28, 25, 21, 25, 6, 13], [26, 23, 27, 9, 6, 27, 24, 19, 41, 22], [20, 32, 24, 47, 14, 45, 16, 57, 23, 12], [8, 33, 15, 11, 23, 18, 16, 22, 30], [18, 17, 37, 29, 6, 23, 41, 22, 42, 27], [14, 13, 17, 16, 30, 26, 20, 24, 32, 22], [46, 6, 24, 51, 14, 22, 20, 33, 74, 23], [21, 15, 10, 6, 6, 26, 7, 14, 6, 14], [29, 16, 24, 26, 38, 27, 32, 16, 13, 30]]\n",
      "25\n",
      "[9, 9, 10, 10, 10, 10, 10, 10, 10, 10, 10, 8, 9, 9, 9, 10, 10, 10, 10, 9, 10, 10, 10, 10, 10]\n",
      "242\n"
     ]
    }
   ],
   "source": [
    "new_vasp_calls = []\n",
    "len_new_vasp_calls = []\n",
    "for i in range(len(item_split)):\n",
    "    k=len(item_split[i])\n",
    "    new_int_list = []\n",
    "    \n",
    "    a = list(item_split[i][0].lstrip())\n",
    "    del a[0] \n",
    "    a = int(''.join(a))\n",
    "    new_int_list.append(a)\n",
    "    #print(a)\n",
    "    for k in range(1,(len(item_split[i])-1)):\n",
    "        b = int(item_split[i][k])\n",
    "        new_int_list.append(b)\n",
    "        #print(b)  \n",
    "    c = list(item_split[i][-1].lstrip())\n",
    "    del c[-1]\n",
    "    c = int(''.join(c))\n",
    "    new_int_list.append(c)\n",
    "    #print(c)\n",
    "    #print(new_int_list)\n",
    "    len_new_list = len(new_int_list)\n",
    "    new_vasp_calls.append(new_int_list)\n",
    "    len_new_vasp_calls.append(len_new_list)\n",
    "print(new_vasp_calls)\n",
    "print(len(new_vasp_calls))\n",
    "print(len_new_vasp_calls)\n",
    "print(sum(len_new_vasp_calls))"
   ]
  },
  {
   "cell_type": "code",
   "execution_count": 15,
   "id": "70de20cb",
   "metadata": {},
   "outputs": [
    {
     "name": "stdout",
     "output_type": "stream",
     "text": [
      "74\n",
      "[(0, 0), (0, 2), (1, 0), (1, 2), (1, 3), (2, 7), (2, 8), (3, 0), (3, 1), (3, 2), (3, 5), (3, 7), (4, 1), (5, 0), (5, 9), (6, 1), (6, 5), (6, 9), (7, 0), (7, 1), (7, 3), (7, 5), (7, 9), (8, 2), (8, 5), (8, 9), (9, 0), (9, 1), (9, 3), (9, 4), (9, 5), (9, 6), (9, 7), (10, 2), (10, 9), (11, 0), (11, 1), (11, 2), (12, 0), (12, 4), (12, 8), (13, 0), (13, 3), (13, 4), (13, 5), (14, 2), (14, 5), (15, 1), (15, 2), (16, 3), (16, 6), (16, 7), (16, 8), (16, 9), (17, 4), (17, 5), (18, 4), (19, 0), (19, 2), (19, 3), (20, 0), (20, 4), (20, 5), (21, 0), (21, 1), (21, 2), (21, 9), (22, 1), (22, 4), (23, 3), (23, 4), (23, 6), (23, 8), (24, 1)]\n"
     ]
    }
   ],
   "source": [
    "print(len(similar_clus))\n",
    "print(similar_clus)"
   ]
  },
  {
   "cell_type": "code",
   "execution_count": 16,
   "id": "39dff7ea",
   "metadata": {},
   "outputs": [
    {
     "name": "stdout",
     "output_type": "stream",
     "text": [
      "[24, 3, 9, 27, 21, 14, 51, 16, 41, 11, 51, 7, 84, 72, 92, 30, 25, 13, 59, 77, 49, 18, 17, 14, 55, 7, 16, 75, 9, 43, 11, 14, 22, 58, 19, 13, 14, 15, 58, 40, 45, 69, 60, 34, 22, 36, 21, 74, 63, 52, 16, 26, 14, 87, 40, 22, 48, 29, 45, 8, 22, 88, 15, 52, 54, 67, 23, 42, 40, 40, 18, 165, 20, 25, 81, 49, 16, 17, 35, 103, 31, 42, 48, 74, 13, 32, 32, 15, 42, 99, 52, 50, 15, 17, 18, 66, 44, 61, 102, 51, 7, 63, 50, 23, 18, 18, 60, 8, 11, 11, 27, 20, 37, 18, 49, 37, 12, 75, 20, 47, 11, 26, 18, 17, 82, 9, 17, 11, 36, 16, 29, 18, 58, 20, 15, 17, 7, 40, 20, 9, 73, 15, 17, 88, 27, 48, 17, 24, 43, 15, 52, 54, 24, 20, 20, 34, 11, 13, 43, 52, 82, 7, 19, 67, 18, 54, 45, 11, 59, 64, 99, 3, 44, 18, 38, 20, 32, 45, 40, 18, 55, 83, 26, 12, 16, 36, 27, 29, 15, 16, 18, 48, 52, 11, 70, 16, 9, 20, 93, 30, 16, 54, 66, 30, 11, 22, 26, 34, 29, 17, 14, 77, 74, 13, 18, 44, 28, 56, 25, 59, 43, 20, 32, 20, 24, 6, 11, 56, 10, 17, 7, 24, 53, 46, 57, 30, 38, 36, 18, 20, 32, 78, 135, 29, 21, 80, 79, 18, 55, 20, 33, 18]\n",
      "\n",
      "\n",
      "[[24, 3, 9, 27, 21, 14, 51, 16, 41], [11, 51, 7, 84, 72, 92, 30, 25, 13], [59, 77, 49, 18, 17, 14, 55, 7, 16, 75], [9, 43, 11, 14, 22, 58, 19, 13, 14, 15], [58, 40, 45, 69, 60, 34, 22, 36, 21, 74], [63, 52, 16, 26, 14, 87, 40, 22, 48, 29], [45, 8, 22, 88, 15, 52, 54, 67, 23, 42], [40, 40, 18, 165, 20, 25, 81, 49, 16, 17], [35, 103, 31, 42, 48, 74, 13, 32, 32, 15], [42, 99, 52, 50, 15, 17, 18, 66, 44, 61], [102, 51, 7, 63, 50, 23, 18, 18, 60, 8], [11, 11, 27, 20, 37, 18, 49, 37], [12, 75, 20, 47, 11, 26, 18, 17, 82], [9, 17, 11, 36, 16, 29, 18, 58, 20], [15, 17, 7, 40, 20, 9, 73, 15, 17], [88, 27, 48, 17, 24, 43, 15, 52, 54, 24], [20, 20, 34, 11, 13, 43, 52, 82, 7, 19], [67, 18, 54, 45, 11, 59, 64, 99, 3, 44], [18, 38, 20, 32, 45, 40, 18, 55, 83, 26], [12, 16, 36, 27, 29, 15, 16, 18, 48], [52, 11, 70, 16, 9, 20, 93, 30, 16, 54], [66, 30, 11, 22, 26, 34, 29, 17, 14, 77], [74, 13, 18, 44, 28, 56, 25, 59, 43, 20], [32, 20, 24, 6, 11, 56, 10, 17, 7, 24], [53, 46, 57, 30, 38, 36, 18, 20, 32, 78], [135, 29, 21, 80, 79, 18, 55, 20, 33, 18]]\n"
     ]
    }
   ],
   "source": [
    "file_vasp=\"results.log\"\n",
    "\n",
    "vasp_calls = []\n",
    "vasp_calls_list = []\n",
    "with open(file_vasp, 'r') as fh:\n",
    "    total_images = []\n",
    "    for line in fh:       \n",
    "        if \"VASP Calls\" in line:\n",
    "            line = line.strip()\n",
    "            words = line.split(':')\n",
    "            words[1] = int(words[1].lstrip())\n",
    "            vasp_calls.append(words[1])\n",
    "        if \"Total images in the trajectory\" in line:\n",
    "            line = line.strip()\n",
    "            img_num = line.split(':')\n",
    "            img_num[1] = int(img_num[1].lstrip())\n",
    "            total_images.append(img_num[1])\n",
    "\n",
    "print(vasp_calls)\n",
    "#print(len(vasp_calls))\n",
    "#print(total_images)\n",
    "#print(len(total_images))\n",
    "#print(sum(total_images))\n",
    "print('\\n')\n",
    "\n",
    "kk = 0\n",
    "for i in total_images:\n",
    "    traj_calls = []\n",
    "    for j in range(kk, kk+i):\n",
    "        traj_calls.append(vasp_calls[j])\n",
    "    vasp_calls_list.append(traj_calls)\n",
    "    kk = kk + i\n",
    "\n",
    "print(vasp_calls_list)"
   ]
  },
  {
   "cell_type": "code",
   "execution_count": 17,
   "id": "1331a3c5",
   "metadata": {},
   "outputs": [
    {
     "name": "stdout",
     "output_type": "stream",
     "text": [
      "[[10, 30, 6, 38, 17, 38, 26, 20, 16], [15, 35, 6, 11, 19, 15, 17, 22, 6], [52, 33, 23, 23, 53, 24, 25, 6, 21, 22], [6, 14, 7, 17, 16, 47, 21, 23, 37, 15], [35, 8, 18, 28, 24, 19, 12, 35, 17, 48], [31, 33, 14, 10, 30, 50, 31, 31, 12, 10], [36, 6, 16, 46, 27, 16, 19, 11, 24, 38], [15, 20, 12, 17, 13, 10, 39, 38, 31, 6], [34, 43, 8, 38, 45, 27, 27, 18, 21, 20], [11, 23, 19, 9, 17, 21, 20, 26, 32, 19], [33, 46, 6, 30, 32, 14, 20, 33, 20, 6], [7, 6, 9, 24, 19, 28, 29, 24], [8, 25, 28, 16, 16, 11, 35, 59, 27], [6, 38, 21, 23, 6, 13, 22, 28, 18], [29, 30, 6, 27, 16, 6, 63, 50, 35], [29, 11, 8, 23, 20, 27, 44, 20, 39, 27], [23, 22, 23, 6, 28, 25, 21, 25, 6, 13], [26, 23, 27, 9, 6, 27, 24, 19, 41, 22], [20, 32, 24, 47, 14, 45, 16, 57, 23, 12], [8, 33, 15, 11, 23, 18, 16, 22, 30], [18, 17, 37, 29, 6, 23, 41, 22, 42, 27], [14, 13, 17, 16, 30, 26, 20, 24, 32, 22], [46, 6, 24, 51, 14, 22, 20, 33, 74, 23], [21, 15, 10, 6, 6, 26, 7, 14, 6, 14], [29, 16, 24, 26, 38, 27, 32, 16, 13, 30]]\n"
     ]
    }
   ],
   "source": [
    "print(new_vasp_calls)"
   ]
  },
  {
   "cell_type": "code",
   "execution_count": 18,
   "id": "25923871",
   "metadata": {},
   "outputs": [
    {
     "name": "stdout",
     "output_type": "stream",
     "text": [
      "[(0, 0), (0, 2), (1, 0), (1, 2), (1, 3), (2, 7), (2, 8), (3, 0), (3, 1), (3, 2), (3, 5), (3, 7), (4, 1), (5, 0), (5, 9), (6, 1), (6, 5), (6, 9), (7, 0), (7, 1), (7, 3), (7, 5), (7, 9), (8, 2), (8, 5), (8, 9), (9, 0), (9, 1), (9, 3), (9, 4), (9, 5), (9, 6), (9, 7), (10, 2), (10, 9), (11, 0), (11, 1), (11, 2), (12, 0), (12, 4), (12, 8), (13, 0), (13, 3), (13, 4), (13, 5), (14, 2), (14, 5), (15, 1), (15, 2), (16, 3), (16, 6), (16, 7), (16, 8), (16, 9), (17, 4), (17, 5), (18, 4), (19, 0), (19, 2), (19, 3), (20, 0), (20, 4), (20, 5), (21, 0), (21, 1), (21, 2), (21, 9), (22, 1), (22, 4), (23, 3), (23, 4), (23, 6), (23, 8), (24, 1)]\n"
     ]
    }
   ],
   "source": [
    "print(similar_clus)"
   ]
  },
  {
   "cell_type": "code",
   "execution_count": 19,
   "id": "335b6961",
   "metadata": {},
   "outputs": [
    {
     "name": "stdout",
     "output_type": "stream",
     "text": [
      "[10, 6, 15, 6, 11, 6, 21, 6, 14, 7, 47, 23, 8, 31, 10, 6, 16, 38, 15, 20, 17, 10, 6, 8, 27, 20, 11, 23, 9, 17, 21, 20, 26, 6, 6, 7, 6, 9, 8, 16, 27, 6, 23, 6, 13, 6, 6, 11, 8, 6, 21, 25, 6, 13, 6, 27, 14, 8, 15, 11, 18, 6, 23, 14, 13, 17, 22, 6, 14, 6, 6, 7, 6, 16]\n",
      "1021\n",
      "[24, 9, 11, 7, 84, 7, 16, 9, 43, 11, 58, 13, 40, 63, 29, 8, 52, 42, 40, 40, 165, 25, 17, 31, 74, 15, 42, 99, 50, 15, 17, 18, 66, 7, 8, 11, 11, 27, 12, 11, 82, 9, 36, 16, 29, 7, 9, 27, 48, 11, 52, 82, 7, 19, 11, 59, 45, 12, 36, 27, 52, 9, 20, 66, 30, 11, 77, 13, 28, 6, 11, 10, 7, 46]\n",
      "2337\n",
      "[14, 3, -4, 1, 73, 1, -5, 3, 29, 4, 11, -10, 32, 32, 19, 2, 36, 4, 25, 20, 148, 15, 11, 23, 47, -5, 31, 76, 41, -2, -4, -2, 40, 1, 2, 4, 5, 18, 4, -5, 55, 3, 13, 10, 16, 1, 3, 16, 40, 5, 31, 57, 1, 6, 5, 32, 31, 4, 21, 16, 34, 3, -3, 52, 17, -6, 55, 7, 14, 0, 5, 3, 1, 30]\n",
      "1316\n"
     ]
    }
   ],
   "source": [
    "same_clus_almlp = []\n",
    "same_clus_vasp = []\n",
    "same_clus_diff = []\n",
    "for i in range(len(similar_clus)):\n",
    "    p = similar_clus[i][0]\n",
    "    q = similar_clus[i][1]\n",
    "    \n",
    "    r = new_vasp_calls[p][q] #clus_XXX.log AL\n",
    "    same_clus_almlp.append(r)\n",
    "    s = vasp_calls_list[p][q] #results.log DFT\n",
    "    same_clus_vasp.append(s)\n",
    "    \n",
    "    same_clus_diff.append(s-r)\n",
    "    #print(r, s, s-r)\n",
    "print(same_clus_almlp)\n",
    "print(sum(same_clus_almlp))\n",
    "print(same_clus_vasp)\n",
    "print(sum(same_clus_vasp))\n",
    "print(same_clus_diff)\n",
    "print(sum(same_clus_diff))"
   ]
  },
  {
   "cell_type": "code",
   "execution_count": null,
   "id": "e40d9d03",
   "metadata": {},
   "outputs": [],
   "source": []
  }
 ],
 "metadata": {
  "kernelspec": {
   "display_name": "Python 3 (ipykernel)",
   "language": "python",
   "name": "python3"
  },
  "language_info": {
   "codemirror_mode": {
    "name": "ipython",
    "version": 3
   },
   "file_extension": ".py",
   "mimetype": "text/x-python",
   "name": "python",
   "nbconvert_exporter": "python",
   "pygments_lexer": "ipython3",
   "version": "3.8.10"
  }
 },
 "nbformat": 4,
 "nbformat_minor": 5
}
