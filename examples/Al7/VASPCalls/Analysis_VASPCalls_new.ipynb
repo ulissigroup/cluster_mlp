{
 "cells": [
  {
   "cell_type": "code",
   "execution_count": 1,
   "id": "a0d1a007",
   "metadata": {},
   "outputs": [],
   "source": [
    "from ase.io import read, write, Trajectory\n",
    "import numpy as np"
   ]
  },
  {
   "cell_type": "code",
   "execution_count": 2,
   "id": "ca3fc447",
   "metadata": {},
   "outputs": [],
   "source": [
    "def CoM(clus):\n",
    "    \"\"\"\n",
    "    Support function to set the origin of the cluster at the centre of the mass\n",
    "    \"\"\"\n",
    "    (cx, cy, cz) = clus.get_center_of_mass()\n",
    "    new_xyz = []\n",
    "    for i, a in enumerate(clus):\n",
    "        x, y, z = a.position\n",
    "        x -= cx\n",
    "        y -= cy\n",
    "        z -= cz\n",
    "        new_xyz.append((x, y, z))\n",
    "    clus.set_positions(new_xyz)\n",
    "    return clus"
   ]
  },
  {
   "cell_type": "code",
   "execution_count": 3,
   "id": "ac80b48d",
   "metadata": {},
   "outputs": [],
   "source": [
    "def checkSimilar(clus1, clus2):\n",
    "\n",
    "    \"\"\"Check whether two clusters are similar or not by comparing their moments of inertia\"\"\"\n",
    "    Inertia1 = clus1.get_moments_of_inertia()\n",
    "    Inertia2 = clus2.get_moments_of_inertia()\n",
    "    # print(Inertia1, Inertia2, 'diff: ', Inertia1-Inertia2)\n",
    "\n",
    "    tol = 0.01\n",
    "    if (\n",
    "        Inertia1[0] * (1 - tol) <= Inertia2[0] <= Inertia1[0] * (1 + tol)\n",
    "        and Inertia1[1] * (1 - tol) <= Inertia2[1] <= Inertia1[1] * (1 + tol)\n",
    "        and Inertia1[2] * (1 - tol) <= Inertia2[2] <= Inertia1[2] * (1 + tol)\n",
    "    ):\n",
    "        similar = True\n",
    "    else:\n",
    "        similar = False\n",
    "\n",
    "    return similar"
   ]
  },
  {
   "cell_type": "code",
   "execution_count": 4,
   "id": "ce2e5ce2",
   "metadata": {},
   "outputs": [],
   "source": [
    "ini_gen = 0\n",
    "end_gen = 15"
   ]
  },
  {
   "cell_type": "code",
   "execution_count": 5,
   "id": "25f240e2",
   "metadata": {},
   "outputs": [
    {
     "name": "stdout",
     "output_type": "stream",
     "text": [
      "(0, 0) 0.47025007488951553 -0.005867960000003336 [-1.53787029  2.36447096 -1.82975958]\n",
      "(0, 1) 0.3067251742355446 -0.0012097299999993538 [0.08698431 1.77099124 0.49686678]\n",
      "(0, 3) 0.4487007647511407 -0.005986419999999271 [-2.85794873  3.98057049 -1.52681395]\n",
      "(0, 4) 0.3829350526789102 0.8438938699999987 [  55.34476686 -107.57079545   15.6247472 ]\n",
      "(0, 6) 0.48078177238738457 0.04226351999999878 [ 8.91589021 -6.06943159  7.504038  ]\n",
      "(0, 7) 0.645174677336853 -0.0032700000000005502 [-1.33846718  2.46776305 -0.85184668]\n",
      "(0, 8) 0.3019950043049118 -0.0055277400000015575 [-2.42546596  2.13608863 -1.67045865]\n",
      "(0, 9) 0.3281902146568181 -0.002621869999998694 [-1.52512621  1.67622102 -1.19867498]\n",
      "(1, 0) 0.41010408814389177 0.07475517999999681 [ 38.04597271 -36.74084619   2.50749286]\n",
      "(2, 1) 0.025779544380376964 -0.0027074899999988133 [-2.74673275  2.78768537 -2.21787462]\n",
      "(2, 2) 0.5030090695482683 0.23009047000000038 [ 31.70116898 -34.75527735   5.88471715]\n",
      "(2, 3) 0.37716348077103745 -0.002603419999999801 [-0.98675472  1.08717237 -1.78478312]\n",
      "(2, 4) 0.5103094182985419 -0.0026752499999993518 [-1.68077411  3.68910778  0.85529744]\n",
      "(2, 5) 0.02001280388917085 -0.0022004700000017863 [-0.98922684  1.7436857  -1.84176573]\n",
      "(2, 6) 0.7798445311208219 0.0780812200000014 [ 42.3965625  -35.26820876   7.46054993]\n",
      "(2, 7) 0.06205161701999681 -0.030998849999999578 [ -2.75209453   7.56853722 -11.98885785]\n",
      "(2, 9) 0.3794187222133248 -0.005618809999997865 [-1.8165007   3.99053537 -2.37439415]\n",
      "(3, 0) 0.036881538747882116 -0.0062762799999980246 [-2.96836464  3.60065296 -1.8242712 ]\n",
      "(3, 1) 0.5338442024667881 -0.16797320999999954 [-49.93008574  33.29888909  -4.90982251]\n",
      "(3, 2) 0.3180753391070402 -0.0009855100000031314 [0.55128141 3.07549865 1.56530987]\n",
      "(3, 5) 0.30325763745608053 -0.005805850000001556 [-5.20003258  1.65425867 -3.29087645]\n",
      "(3, 6) 0.3320441790475577 -0.0026423999999991565 [-1.15926707  0.14553081 -2.99923718]\n",
      "(3, 7) 0.24542304219036812 -0.009343109999999655 [-6.21223821  5.660499   -0.38198196]\n",
      "(3, 8) 0.316618189211204 1.0076844399999985 [-97.98010686 118.71195561 117.82490612]\n",
      "(3, 9) 0.3047156774712559 -0.006382480000002744 [-2.56233489  4.15064416 -1.30489487]\n",
      "(4, 2) 0.660749268724334 -0.0063571499999994785 [-1.1206115   2.72043662 -5.60512103]\n",
      "(4, 3) 0.3767004443160518 -0.0045850299999976585 [-2.88813588  4.52265994 -0.73745984]\n",
      "(4, 5) 0.9871275289959178 4.1844864699999995 [211.36917356 216.57738254 449.54148428]\n",
      "(5, 1) 0.7373371474970681 -1.3112742500000003 [  23.81869008 -150.51167481 -169.34940529]\n",
      "(5, 3) 0.6530772173477816 -0.0005106499999989467 [ 1.04457769 -1.34250451 -1.56943221]\n",
      "(6, 0) 0.31057022609271656 -0.07826014999999842 [-41.16933248  37.21631393  -4.45739508]\n",
      "(6, 2) 0.47963600491040775 0.0801511299999973 [ 41.55043247 -39.17873973   6.03877989]\n",
      "(6, 3) 0.34137051336602064 0.15968258999999918 [ 47.29067289 -27.7115041    3.19139357]\n",
      "(6, 4) 0.3780870752579712 -0.002915910000002242 [ 1.25327073  0.97296622 -3.34413606]\n",
      "(6, 5) 0.8989213270972257 3.6932141299999994 [175.3394296  227.82568207 447.98016684]\n",
      "(6, 6) 0.46650192855970307 -1.3014289700000035 [ 171.73363687 -213.58216106 -304.59989444]\n",
      "(6, 7) 0.5179314910159778 -0.002565669999999187 [ 0.21677063  2.59160875 -1.09813544]\n",
      "(6, 8) 0.04390679162527818 -0.008445469999998068 [-5.84000464  5.23554867 -2.12487023]\n",
      "(6, 9) 0.30096251361760135 -0.0010684600000026023 [ 1.56185008  1.11260966 -1.43398999]\n",
      "(7, 0) 0.5159141630117233 0.07982703000000058 [ 41.91143    -38.63383329   4.00848115]\n",
      "(7, 2) 0.30908535932891756 -0.002011980000002467 [-1.89335662  0.52450797 -3.42155253]\n",
      "(7, 3) 0.5844908512805829 -0.0005402199999977597 [-0.29768985  2.48740393  0.29259693]\n",
      "(7, 4) 0.45604970471948597 -0.009008200000000244 [-5.38101927  3.48932382 -1.26956687]\n",
      "(7, 5) 0.4008094873823855 -1.31158967 [  24.47156911 -149.84262024 -169.36376728]\n",
      "(8, 0) 0.22844426801605092 -0.00609018999999833 [-5.54810161  5.68570081  1.30323954]\n",
      "(8, 1) 0.1975895925765335 0.07447704000000144 [ 38.05182124 -36.08058784   3.32958337]\n",
      "(8, 2) 0.4604278874924319 -0.0005350799999987998 [-0.67686052 -0.14681182 -1.87879009]\n",
      "(8, 3) 0.08282432394733856 -0.04820790999999858 [-20.27980027  16.05633598  -0.03668998]\n",
      "(8, 4) 0.6667673939744192 -0.00726494000000244 [-5.6048392   7.83105734  0.55074168]\n",
      "(8, 5) 0.02226069205219502 -0.0034084399999976256 [-2.30446067  3.3782846  -1.73994901]\n",
      "(8, 6) 0.5431410144833864 -0.000776689999998581 [-2.5171535   2.96316772 -2.46698664]\n",
      "(8, 7) 0.39033490702801316 -0.003688369999998997 [-0.699445    3.75001028 -0.32351472]\n",
      "(8, 8) 0.17400547674439754 0.07655348000000117 [ 43.60493764 -40.12283979   3.68335198]\n",
      "(8, 9) 0.2906298506910478 0.07729759000000058 [ 38.73887218 -29.46284355   5.18087993]\n",
      "(9, 1) 0.3128124790485493 -0.0016141400000009298 [ 0.41039002  2.03027013 -1.96601929]\n",
      "(9, 3) 0.21819023281033503 -0.001243429999998824 [ 0.08034327  0.80701423 -0.52176254]\n",
      "(10, 0) 0.6582519126386663 -0.006092189999996833 [-3.56458897  5.18186196 -1.83471564]\n",
      "(10, 3) 0.299439440501469 -0.0006213600000002373 [-0.77950254  0.62252752 -1.10705691]\n",
      "(10, 4) 0.3213771401577176 0.0800023000000003 [ 39.91434724 -39.07938727   4.82027563]\n",
      "(11, 0) 0.4447705987662658 0.07977651000000208 [ 43.35755122 -38.87181336   5.6262072 ]\n",
      "(11, 2) 0.6401369327842333 -0.004818470000000019 [-3.53577153  4.57114859 -1.07261681]\n",
      "(11, 4) 0.5392374893309744 -0.006015860000001538 [-4.28081957  5.09563417 -1.12037601]\n",
      "(11, 5) 0.4304604665271836 -0.16535582999999932 [-50.35549743  33.57409148  -3.75857977]\n",
      "(11, 6) 0.7090193541699099 0.3162747199999991 [57.93023455  4.72293416 12.61332418]\n",
      "(11, 7) 0.4233450232761203 -0.004092790000001401 [-2.09305703  0.67420457 -3.42352588]\n",
      "(11, 8) 0.4381099274126193 0.07795837000000105 [ 40.88147159 -38.05064454   3.44504049]\n",
      "(11, 9) 0.5477302533119451 -0.003576309999999694 [-3.23017475  3.1924112  -2.02057355]\n",
      "(12, 1) 0.43978818502824596 0.07387650000000079 [ 39.85621655 -37.68365363   3.6657666 ]\n",
      "(12, 3) 0.5078346753632688 0.07855611000000096 [ 41.52641199 -36.84232403   3.73078641]\n",
      "(12, 4) 0.5380244779470311 -1.7015126299999999 [  88.54517015 -166.71373027 -247.35351357]\n",
      "(12, 5) 0.6330891877034455 -0.0015855000000009056 [-1.05397835  2.12724953  0.2003997 ]\n",
      "(12, 6) 0.5499763934815367 -0.0029010099999986494 [-2.09942616  1.27084709 -2.27090549]\n",
      "(12, 7) 0.6145170425503031 -0.894865369999998 [ 166.75653725 -143.86369184 -174.74596109]\n",
      "(12, 9) 0.5281202028144125 -1.6982431600000005 [  55.24988195 -153.29502889 -266.95236421]\n",
      "(13, 2) 0.5210010086109261 -0.003097690000000597 [-0.08652615  3.9103001  -0.9848236 ]\n",
      "(13, 3) 0.3068987053210222 -0.0013757400000002917 [-0.96060729 -0.80704043 -1.81871742]\n",
      "(13, 4) 0.29129745673233937 -0.011737180000000791 [-6.05578208  3.99586149 -0.63781999]\n",
      "(13, 6) 0.04390679158985826 -0.008445469999998068 [-5.84000463  5.23554868 -2.1248702 ]\n",
      "(13, 7) 0.4420454847073747 -0.0007326200000008498 [ 0.32205707  0.70099847 -1.09408085]\n",
      "(13, 8) 0.07632946440506913 -0.024045609999998163 [-16.12089041  12.22712202  -0.41139649]\n",
      "(13, 9) 0.7383417613424634 -0.08361466999999934 [-15.14881034 -50.44372612  94.47161237]\n",
      "(14, 1) 0.6907454272031149 1.2032282300000006 [-28.63810819 116.84396006 125.78637218]\n",
      "(14, 2) 0.12375048919764288 0.021463769999996885 [  7.3738004  -22.64396757   0.5692132 ]\n",
      "83\n",
      "28\n",
      "111\n",
      "[10, 2, 10, 10, 6, 4, 10, 6, 10, 4, 5, 10, 10, 10, 4]\n",
      "[10, 2, 10, 10, 6, 4, 10, 6, 10, 4, 5, 10, 10, 10, 4]\n"
     ]
    }
   ],
   "source": [
    "ene_tol = 0.02\n",
    "dist_tol = 0.02\n",
    "\n",
    "num_check_similar = 0\n",
    "diff_dist_abs_sum_list = []\n",
    "\n",
    "non_similar_clus = []\n",
    "similar_clus = []\n",
    "non_similar_clus_ene_list = []\n",
    "similar_clus_ene_list = []\n",
    "non_similar_clus_diff_dist = []\n",
    "similar_clus_diff_dist = []\n",
    "\n",
    "n_traj1_list = []\n",
    "n_traj2_list = []\n",
    "\n",
    "for k in range(ini_gen, end_gen):\n",
    "    file1  = 'mut_after_relax_gen'+str(k+1)+'.traj'\n",
    "    file2  = 'vasp_mut_after_relax_gen'+str(k+1)+'.traj'\n",
    "\n",
    "    traj1 = Trajectory(file1)\n",
    "    traj2 = Trajectory(file2)\n",
    "    \n",
    "    n_traj1 = len(traj1)\n",
    "    n_traj2 = len(traj2)\n",
    "    n_traj1_list.append(n_traj1)\n",
    "    n_traj2_list.append(n_traj2)\n",
    "    \n",
    "    for i in range(len(traj1)):\n",
    "        num_check_similar = num_check_similar + 1\n",
    "        clus1 = traj1[i]\n",
    "        clus2 = traj2[i]\n",
    "        \n",
    "        ene1 = clus1.get_potential_energy()\n",
    "        ene2 = clus2.get_potential_energy()\n",
    "        diff_ene = ene1 - ene2\n",
    "        \n",
    "        dist1 = clus1.get_all_distances() \n",
    "        dist2 = clus2.get_all_distances()\n",
    "        diff_dist = dist1 - dist2\n",
    "        diff_dist_abs = np.absolute(diff_dist)\n",
    "        diff_dist_avg = np.sum(diff_dist_abs) / len(diff_dist)**2\n",
    "        \n",
    "        inertia1 = clus1.get_moments_of_inertia()\n",
    "        inertia2 = clus2.get_moments_of_inertia()\n",
    "        diff_inertia = inertia1 - inertia2\n",
    "              \n",
    "        if checkSimilar(clus1, clus2) == True:\n",
    "            #if (diff_dist_avg > dist_tol) or (abs(diff_ene) > ene_tol):\n",
    "            if diff_dist_avg > dist_tol:\n",
    "                #if abs(diff_ene) > ene_tol:\n",
    "                non_similar_clus.append((k,i))\n",
    "                non_similar_clus_ene_list.append(diff_ene)\n",
    "                non_similar_clus_diff_dist.append(diff_dist_avg)\n",
    "                print((k, i),diff_dist_avg, diff_ene, diff_inertia )\n",
    "                #else:\n",
    "                    #similar_clus.append((k,i))\n",
    "                    #similar_clus_ene_list.append(diff_ene)\n",
    "                    #similar_clus_diff_dist.append(diff_dist_avg)\n",
    "                    #print((k, i),diff_dist_avg, diff_ene, diff_inertia )  \n",
    "                    \n",
    "            \n",
    "            else:\n",
    "                similar_clus.append((k,i))\n",
    "                similar_clus_ene_list.append(diff_ene)\n",
    "                similar_clus_diff_dist.append(diff_dist_avg)\n",
    "                #print((k, i),diff_dist_avg, diff_ene, diff_inertia )  \n",
    "                \n",
    "        else:\n",
    "            if diff_dist_avg < dist_tol:\n",
    "                if abs(diff_ene) < ene_tol:\n",
    "                    similar_clus.append((k,i))\n",
    "                    similar_clus_ene_list.append(diff_ene)\n",
    "                    similar_clus_diff_dist.append(diff_dist_avg)\n",
    "                    #print((k, i),diff_dist_avg, diff_ene, diff_inertia )\n",
    "                else: \n",
    "                    non_similar_clus.append((k,i))\n",
    "                    non_similar_clus_ene_list.append(diff_ene)\n",
    "                    non_similar_clus_diff_dist.append(diff_dist_avg)\n",
    "                    print((k, i),diff_dist_avg, diff_ene, diff_inertia )\n",
    "            else:\n",
    "                non_similar_clus.append((k,i))\n",
    "                non_similar_clus_ene_list.append(diff_ene)\n",
    "                non_similar_clus_diff_dist.append(diff_dist_avg)\n",
    "                print((k, i),diff_dist_avg, diff_ene, diff_inertia )\n",
    "\n",
    "print(len(non_similar_clus))\n",
    "print(len(similar_clus))\n",
    "print(num_check_similar)\n",
    "\n",
    "#print(sorted(non_similar_clus_ene_list))\n",
    "#print(non_similar_clus)\n",
    "#print(sorted(non_similar_clus_ene_list))\n",
    "#print(sorted(non_similar_clus_diff_dist))\n",
    "\n",
    "print(n_traj1_list)\n",
    "print(n_traj2_list)"
   ]
  },
  {
   "cell_type": "code",
   "execution_count": 6,
   "id": "d19a02bd",
   "metadata": {},
   "outputs": [
    {
     "name": "stdout",
     "output_type": "stream",
     "text": [
      "[40, 17, 7, 23, 24, 6, 46, 30, 66, 22]\n",
      "[19, 8]\n",
      "[16, 13, 35, 20, 40, 8, 67, 10, 14, 25]\n",
      "[14, 17, 27, 7, 8, 49, 36, 32, 8, 18]\n",
      "[10, 11, 37, 25, 10, 31]\n",
      "[6, 20, 8, 53]\n",
      "[39, 7, 27, 32, 16, 32, 14, 26, 16, 21]\n",
      "[25, 8, 22, 29, 22, 27]\n",
      "[36, 37, 17, 14, 19, 8, 37, 33, 20, 30]\n",
      "[7, 15, 8, 40]\n",
      "[27, 6, 6, 19, 18]\n",
      "[30, 7, 32, 6, 23, 25, 37, 37, 29, 20]\n",
      "[7, 28, 12, 30, 14, 19, 21, 26, 9, 28]\n",
      "[16, 10, 37, 13, 19, 10, 16, 21, 9, 41]\n",
      "[8, 31, 33, 10]\n"
     ]
    }
   ],
   "source": [
    "filename=\"clus_Al7.log\"\n",
    "\n",
    "parent_calls_list = []\n",
    "with open(filename, 'r') as fh:\n",
    "    for line in fh:\n",
    "        if line.startswith(\"Parent\"):\n",
    "            line = line.strip()\n",
    "            words = line.split(':')\n",
    "            words[1] = words[1].lstrip()\n",
    "            parent_calls_list.append(words[1])\n",
    "#print(parent_calls_list)\n",
    "#print((parent_calls_list[0]))\n",
    "\n",
    "item_split = []\n",
    "for item in parent_calls_list:\n",
    "    print( item)\n",
    "    item_split.append(item.split(\",\"))\n",
    "#print(item_split)\n",
    "\n",
    "#print(item_split[0])\n"
   ]
  },
  {
   "cell_type": "code",
   "execution_count": 7,
   "id": "7fc02ce7",
   "metadata": {},
   "outputs": [
    {
     "name": "stdout",
     "output_type": "stream",
     "text": [
      "[[40, 17, 7, 23, 24, 6, 46, 30, 66, 22], [19, 8], [16, 13, 35, 20, 40, 8, 67, 10, 14, 25], [14, 17, 27, 7, 8, 49, 36, 32, 8, 18], [10, 11, 37, 25, 10, 31], [6, 20, 8, 53], [39, 7, 27, 32, 16, 32, 14, 26, 16, 21], [25, 8, 22, 29, 22, 27], [36, 37, 17, 14, 19, 8, 37, 33, 20, 30], [7, 15, 8, 40], [27, 6, 6, 19, 18], [30, 7, 32, 6, 23, 25, 37, 37, 29, 20], [7, 28, 12, 30, 14, 19, 21, 26, 9, 28], [16, 10, 37, 13, 19, 10, 16, 21, 9, 41], [8, 31, 33, 10]]\n",
      "15\n",
      "[10, 2, 10, 10, 6, 4, 10, 6, 10, 4, 5, 10, 10, 10, 4]\n",
      "111\n"
     ]
    }
   ],
   "source": [
    "new_vasp_calls = []\n",
    "len_new_vasp_calls = []\n",
    "for i in range(len(item_split)):\n",
    "    k=len(item_split[i])\n",
    "    new_int_list = []\n",
    "    \n",
    "    a = list(item_split[i][0].lstrip())\n",
    "    del a[0] \n",
    "    a = int(''.join(a))\n",
    "    new_int_list.append(a)\n",
    "    #print(a)\n",
    "    for k in range(1,(len(item_split[i])-1)):\n",
    "        b = int(item_split[i][k])\n",
    "        new_int_list.append(b)\n",
    "        #print(b)  \n",
    "    c = list(item_split[i][-1].lstrip())\n",
    "    del c[-1]\n",
    "    c = int(''.join(c))\n",
    "    new_int_list.append(c)\n",
    "    #print(c)\n",
    "    #print(new_int_list)\n",
    "    len_new_list = len(new_int_list)\n",
    "    new_vasp_calls.append(new_int_list)\n",
    "    len_new_vasp_calls.append(len_new_list)\n",
    "print(new_vasp_calls)\n",
    "print(len(new_vasp_calls))\n",
    "print(len_new_vasp_calls)\n",
    "print(sum(len_new_vasp_calls))"
   ]
  },
  {
   "cell_type": "code",
   "execution_count": 8,
   "id": "70de20cb",
   "metadata": {},
   "outputs": [
    {
     "name": "stdout",
     "output_type": "stream",
     "text": [
      "28\n",
      "[(0, 2), (0, 5), (1, 1), (2, 0), (2, 8), (3, 3), (3, 4), (4, 0), (4, 1), (4, 4), (5, 0), (5, 2), (6, 1), (7, 1), (9, 0), (9, 2), (10, 1), (10, 2), (11, 1), (11, 3), (12, 0), (12, 2), (12, 8), (13, 0), (13, 1), (13, 5), (14, 0), (14, 3)]\n"
     ]
    }
   ],
   "source": [
    "print(len(similar_clus))\n",
    "print(similar_clus)"
   ]
  },
  {
   "cell_type": "code",
   "execution_count": 9,
   "id": "39dff7ea",
   "metadata": {},
   "outputs": [
    {
     "name": "stdout",
     "output_type": "stream",
     "text": [
      "[78, 20, 9, 37, 54, 8, 66, 61, 40, 39, 59, 9, 9, 76, 65, 29, 62, 21, 30, 13, 43, 145, 43, 29, 58, 10, 10, 61, 52, 31, 34, 53, 14, 12, 69, 65, 9, 53, 9, 14, 9, 50, 50, 35, 12, 50, 15, 48, 31, 16, 26, 46, 65, 9, 18, 12, 41, 14, 47, 30, 12, 27, 69, 20, 42, 36, 44, 43, 8, 44, 9, 76, 55, 8, 9, 55, 64, 75, 8, 60, 9, 33, 30, 53, 30, 52, 26, 8, 42, 9, 43, 13, 42, 76, 10, 9, 20, 43, 12, 50, 47, 23, 9, 26, 45, 31, 46, 9, 25, 60, 9]\n",
      "\n",
      "\n",
      "[[78, 20, 9, 37, 54, 8, 66, 61, 40, 39], [59, 9], [9, 76, 65, 29, 62, 21, 30, 13, 43, 145], [43, 29, 58, 10, 10, 61, 52, 31, 34, 53], [14, 12, 69, 65, 9, 53], [9, 14, 9, 50], [50, 35, 12, 50, 15, 48, 31, 16, 26, 46], [65, 9, 18, 12, 41, 14], [47, 30, 12, 27, 69, 20, 42, 36, 44, 43], [8, 44, 9, 76], [55, 8, 9, 55, 64], [75, 8, 60, 9, 33, 30, 53, 30, 52, 26], [8, 42, 9, 43, 13, 42, 76, 10, 9, 20], [43, 12, 50, 47, 23, 9, 26, 45, 31, 46], [9, 25, 60, 9]]\n"
     ]
    }
   ],
   "source": [
    "file_vasp=\"results_all.log\"\n",
    "\n",
    "vasp_calls = []\n",
    "vasp_calls_list = []\n",
    "with open(file_vasp, 'r') as fh:\n",
    "    total_images = []\n",
    "    for line in fh:       \n",
    "        if \"VASP Calls\" in line:\n",
    "            line = line.strip()\n",
    "            words = line.split(':')\n",
    "            words[1] = int(words[1].lstrip())\n",
    "            vasp_calls.append(words[1])\n",
    "        if \"Total images in the trajectory\" in line:\n",
    "            line = line.strip()\n",
    "            img_num = line.split(':')\n",
    "            img_num[1] = int(img_num[1].lstrip())\n",
    "            total_images.append(img_num[1])\n",
    "\n",
    "print(vasp_calls)\n",
    "#print(len(vasp_calls))\n",
    "#print(total_images)\n",
    "#print(len(total_images))\n",
    "#print(sum(total_images))\n",
    "print('\\n')\n",
    "\n",
    "kk = 0\n",
    "for i in total_images:\n",
    "    traj_calls = []\n",
    "    for j in range(kk, kk+i):\n",
    "        traj_calls.append(vasp_calls[j])\n",
    "    vasp_calls_list.append(traj_calls)\n",
    "    kk = kk + i\n",
    "\n",
    "print(vasp_calls_list)"
   ]
  },
  {
   "cell_type": "code",
   "execution_count": 10,
   "id": "1331a3c5",
   "metadata": {},
   "outputs": [
    {
     "name": "stdout",
     "output_type": "stream",
     "text": [
      "[[40, 17, 7, 23, 24, 6, 46, 30, 66, 22], [19, 8], [16, 13, 35, 20, 40, 8, 67, 10, 14, 25], [14, 17, 27, 7, 8, 49, 36, 32, 8, 18], [10, 11, 37, 25, 10, 31], [6, 20, 8, 53], [39, 7, 27, 32, 16, 32, 14, 26, 16, 21], [25, 8, 22, 29, 22, 27], [36, 37, 17, 14, 19, 8, 37, 33, 20, 30], [7, 15, 8, 40], [27, 6, 6, 19, 18], [30, 7, 32, 6, 23, 25, 37, 37, 29, 20], [7, 28, 12, 30, 14, 19, 21, 26, 9, 28], [16, 10, 37, 13, 19, 10, 16, 21, 9, 41], [8, 31, 33, 10]]\n"
     ]
    }
   ],
   "source": [
    "print(new_vasp_calls)"
   ]
  },
  {
   "cell_type": "code",
   "execution_count": 11,
   "id": "25923871",
   "metadata": {},
   "outputs": [
    {
     "name": "stdout",
     "output_type": "stream",
     "text": [
      "[(0, 2), (0, 5), (1, 1), (2, 0), (2, 8), (3, 3), (3, 4), (4, 0), (4, 1), (4, 4), (5, 0), (5, 2), (6, 1), (7, 1), (9, 0), (9, 2), (10, 1), (10, 2), (11, 1), (11, 3), (12, 0), (12, 2), (12, 8), (13, 0), (13, 1), (13, 5), (14, 0), (14, 3)]\n"
     ]
    }
   ],
   "source": [
    "print(similar_clus)"
   ]
  },
  {
   "cell_type": "code",
   "execution_count": 12,
   "id": "335b6961",
   "metadata": {},
   "outputs": [
    {
     "name": "stdout",
     "output_type": "stream",
     "text": [
      "[7, 6, 8, 16, 14, 7, 8, 10, 11, 10, 6, 8, 7, 8, 7, 8, 6, 6, 7, 6, 7, 12, 9, 16, 10, 10, 8, 10]\n",
      "248\n",
      "[9, 8, 9, 9, 43, 10, 10, 14, 12, 9, 9, 9, 35, 9, 8, 9, 8, 9, 8, 9, 8, 9, 9, 43, 12, 9, 9, 9]\n",
      "354\n",
      "[2, 2, 1, -7, 29, 3, 2, 4, 1, -1, 3, 1, 28, 1, 1, 1, 2, 3, 1, 3, 1, -3, 0, 27, 2, -1, 1, -1]\n",
      "106\n",
      "28\n"
     ]
    }
   ],
   "source": [
    "same_clus_almlp = []\n",
    "same_clus_vasp = []\n",
    "same_clus_diff = []\n",
    "for i in range(len(similar_clus)):\n",
    "    p = similar_clus[i][0]\n",
    "    q = similar_clus[i][1]\n",
    "    \n",
    "    r = new_vasp_calls[p][q] #clus_XXX.log AL\n",
    "    same_clus_almlp.append(r)\n",
    "    s = vasp_calls_list[p][q] #results.log DFT\n",
    "    same_clus_vasp.append(s)\n",
    "    \n",
    "    same_clus_diff.append(s-r)\n",
    "    #print(r, s, s-r)\n",
    "print(same_clus_almlp)\n",
    "print(sum(same_clus_almlp))\n",
    "print(same_clus_vasp)\n",
    "print(sum(same_clus_vasp))\n",
    "print(same_clus_diff)\n",
    "print(sum(same_clus_diff))\n",
    "print(len(same_clus_diff))"
   ]
  },
  {
   "cell_type": "code",
   "execution_count": 13,
   "id": "e40d9d03",
   "metadata": {},
   "outputs": [
    {
     "name": "stderr",
     "output_type": "stream",
     "text": [
      "/opt/conda/lib/python3.8/site-packages/seaborn/distributions.py:2551: FutureWarning: `distplot` is a deprecated function and will be removed in a future version. Please adapt your code to use either `displot` (a figure-level function with similar flexibility) or `histplot` (an axes-level function for histograms).\n",
      "  warnings.warn(msg, FutureWarning)\n"
     ]
    },
    {
     "data": {
      "text/plain": [
       "<AxesSubplot:ylabel='Density'>"
      ]
     },
     "execution_count": 13,
     "metadata": {},
     "output_type": "execute_result"
    },
    {
     "data": {
      "image/png": "[encoded data removed]",
      "text/plain": [
       "<Figure size 432x288 with 1 Axes>"
      ]
     },
     "metadata": {
      "needs_background": "light"
     },
     "output_type": "display_data"
    }
   ],
   "source": [
    "import seaborn as sns\n",
    "sns.distplot(similar_clus_diff_dist, kde=True)"
   ]
  },
  {
   "cell_type": "code",
   "execution_count": 14,
   "id": "f9e4ce49",
   "metadata": {},
   "outputs": [
    {
     "data": {
      "text/plain": [
       "<AxesSubplot:ylabel='Count'>"
      ]
     },
     "execution_count": 14,
     "metadata": {},
     "output_type": "execute_result"
    },
    {
     "data": {
      "image/png": "[encoded data removed]",
      "text/plain": [
       "<Figure size 432x288 with 1 Axes>"
      ]
     },
     "metadata": {
      "needs_background": "light"
     },
     "output_type": "display_data"
    }
   ],
   "source": [
    "sns.histplot(similar_clus_ene_list, kde=True)"
   ]
  },
  {
   "cell_type": "code",
   "execution_count": 15,
   "id": "7debaf5a",
   "metadata": {},
   "outputs": [
    {
     "name": "stdout",
     "output_type": "stream",
     "text": [
      "[-0.002687740000002492, -0.0015495599999972853, -0.0014757400000000587, -0.0011966000000001031, -0.00097910000000212, -0.0007891600000000665, -0.0004985499999996534, -0.0003739600000010057, -0.00030251000000092176, -0.00028289000000114584, -0.0002689900000021339, -0.00026816999999823565, -0.0002475999999980161, -0.0002475999999980161, -0.00022062000000033777, -0.00022060999999951036, -0.00022059999999868296, -0.00018847000000121739, -0.00014786999999927275, -3.368999999864286e-05, -2.1509999999835827e-05, -1.4399999983538692e-06, 3.1800000002135675e-06, 2.4600000003260902e-05, 2.7200000001670332e-05, 0.00012324999999790975, 0.0004323600000013528, 0.0007958899999991331]\n"
     ]
    }
   ],
   "source": [
    "print(sorted(similar_clus_ene_list))\n",
    "#print(non_similar_clus)\n",
    "#print(sorted(non_similar_clus_ene_list))\n",
    "#print(sorted(non_similar_clus_diff_dist))"
   ]
  },
  {
   "cell_type": "code",
   "execution_count": 16,
   "id": "ba4fbb3d",
   "metadata": {},
   "outputs": [
    {
     "name": "stdout",
     "output_type": "stream",
     "text": [
      "[0.0022120393608778526, 0.002599631295525406, 0.0025996313195384333, 0.0031417465415132808, 0.003141956546584681, 0.003142063582825885, 0.0033238915900132486, 0.0035177244601957624, 0.0035516317547634826, 0.003649649423037523, 0.003897044748859664, 0.003934301938349511, 0.004128371683855226, 0.004463304034504313, 0.005009350738964666, 0.005233786791494847, 0.0062083764266331115, 0.00666973805747519, 0.007614654628766012, 0.008432758866409507, 0.008797832089589166, 0.00882523892512767, 0.008917516873246203, 0.009364145720114991, 0.009942815134691554, 0.011323805971768644, 0.017311875788739314, 0.017533691421211466]\n"
     ]
    }
   ],
   "source": [
    "print(sorted(similar_clus_diff_dist))"
   ]
  },
  {
   "cell_type": "code",
   "execution_count": 17,
   "id": "503e098e",
   "metadata": {},
   "outputs": [
    {
     "data": {
      "text/plain": [
       "[0.003897044748859664,\n",
       " 0.009942815134691554,\n",
       " 0.0025996313195384333,\n",
       " 0.008797832089589166,\n",
       " 0.009364145720114991,\n",
       " 0.0035177244601957624,\n",
       " 0.003649649423037523,\n",
       " 0.008432758866409507,\n",
       " 0.005233786791494847,\n",
       " 0.0031417465415132808,\n",
       " 0.00882523892512767,\n",
       " 0.0035516317547634826,\n",
       " 0.017533691421211466,\n",
       " 0.002599631295525406,\n",
       " 0.0062083764266331115,\n",
       " 0.003934301938349511,\n",
       " 0.004463304034504313,\n",
       " 0.008917516873246203,\n",
       " 0.011323805971768644,\n",
       " 0.0022120393608778526,\n",
       " 0.005009350738964666,\n",
       " 0.00666973805747519,\n",
       " 0.004128371683855226,\n",
       " 0.017311875788739314,\n",
       " 0.007614654628766012,\n",
       " 0.003141956546584681,\n",
       " 0.0033238915900132486,\n",
       " 0.003142063582825885]"
      ]
     },
     "execution_count": 17,
     "metadata": {},
     "output_type": "execute_result"
    }
   ],
   "source": [
    "similar_clus_diff_dist"
   ]
  },
  {
   "cell_type": "code",
   "execution_count": 18,
   "id": "b9cab365",
   "metadata": {},
   "outputs": [],
   "source": [
    "import pickle\n",
    "with open ('Al7_similar_clus_diff_dist.pkl', 'wb') as fh:\n",
    "    pickle.dump(similar_clus_diff_dist, fh)\n",
    "with open ('Al7_similar_clus_ene_list.pkl', 'wb') as fh:\n",
    "    pickle.dump(similar_clus_ene_list, fh)"
   ]
  },
  {
   "cell_type": "code",
   "execution_count": 19,
   "id": "4278808d",
   "metadata": {},
   "outputs": [],
   "source": [
    "with open('Al7_similar_clus_diff_dist.pkl', 'rb') as fh:\n",
    "    dist_list_pkl = pickle.load(fh)"
   ]
  },
  {
   "cell_type": "code",
   "execution_count": 20,
   "id": "3d05675e",
   "metadata": {},
   "outputs": [
    {
     "data": {
      "text/plain": [
       "[0.003897044748859664,\n",
       " 0.009942815134691554,\n",
       " 0.0025996313195384333,\n",
       " 0.008797832089589166,\n",
       " 0.009364145720114991,\n",
       " 0.0035177244601957624,\n",
       " 0.003649649423037523,\n",
       " 0.008432758866409507,\n",
       " 0.005233786791494847,\n",
       " 0.0031417465415132808,\n",
       " 0.00882523892512767,\n",
       " 0.0035516317547634826,\n",
       " 0.017533691421211466,\n",
       " 0.002599631295525406,\n",
       " 0.0062083764266331115,\n",
       " 0.003934301938349511,\n",
       " 0.004463304034504313,\n",
       " 0.008917516873246203,\n",
       " 0.011323805971768644,\n",
       " 0.0022120393608778526,\n",
       " 0.005009350738964666,\n",
       " 0.00666973805747519,\n",
       " 0.004128371683855226,\n",
       " 0.017311875788739314,\n",
       " 0.007614654628766012,\n",
       " 0.003141956546584681,\n",
       " 0.0033238915900132486,\n",
       " 0.003142063582825885]"
      ]
     },
     "execution_count": 20,
     "metadata": {},
     "output_type": "execute_result"
    }
   ],
   "source": [
    "dist_list_pkl"
   ]
  },
  {
   "cell_type": "code",
   "execution_count": 21,
   "id": "4db43a90",
   "metadata": {},
   "outputs": [
    {
     "data": {
      "text/plain": [
       "[-0.002687740000002492,\n",
       " -0.0015495599999972853,\n",
       " -0.0014757400000000587,\n",
       " -0.0011966000000001031,\n",
       " -0.00097910000000212,\n",
       " -0.0007891600000000665,\n",
       " -0.0004985499999996534,\n",
       " -0.0003739600000010057,\n",
       " -0.00030251000000092176,\n",
       " -0.00028289000000114584,\n",
       " -0.0002689900000021339,\n",
       " -0.00026816999999823565,\n",
       " -0.0002475999999980161,\n",
       " -0.0002475999999980161,\n",
       " -0.00022062000000033777,\n",
       " -0.00022060999999951036,\n",
       " -0.00022059999999868296,\n",
       " -0.00018847000000121739,\n",
       " -0.00014786999999927275,\n",
       " -3.368999999864286e-05,\n",
       " -2.1509999999835827e-05,\n",
       " -1.4399999983538692e-06,\n",
       " 3.1800000002135675e-06,\n",
       " 2.4600000003260902e-05,\n",
       " 2.7200000001670332e-05,\n",
       " 0.00012324999999790975,\n",
       " 0.0004323600000013528,\n",
       " 0.0007958899999991331]"
      ]
     },
     "execution_count": 21,
     "metadata": {},
     "output_type": "execute_result"
    }
   ],
   "source": [
    "with open('Al7_similar_clus_ene_list.pkl', 'rb') as fh:\n",
    "    ene_list_pkl = pickle.load(fh)\n",
    "sorted(ene_list_pkl)"
   ]
  },
  {
   "cell_type": "code",
   "execution_count": null,
   "id": "fa7454ba",
   "metadata": {},
   "outputs": [],
   "source": []
  }
 ],
 "metadata": {
  "kernelspec": {
   "display_name": "Python 3 (ipykernel)",
   "language": "python",
   "name": "python3"
  },
  "language_info": {
   "codemirror_mode": {
    "name": "ipython",
    "version": 3
   },
   "file_extension": ".py",
   "mimetype": "text/x-python",
   "name": "python",
   "nbconvert_exporter": "python",
   "pygments_lexer": "ipython3",
   "version": "3.8.10"
  }
 },
 "nbformat": 4,
 "nbformat_minor": 5
}
