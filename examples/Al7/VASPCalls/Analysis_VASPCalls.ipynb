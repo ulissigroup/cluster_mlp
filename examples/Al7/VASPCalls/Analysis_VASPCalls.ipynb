{
 "cells": [
  {
   "cell_type": "code",
   "execution_count": 1,
   "id": "a0d1a007",
   "metadata": {},
   "outputs": [],
   "source": [
    "from ase.io import read, write, Trajectory\n",
    "import numpy as np"
   ]
  },
  {
   "cell_type": "code",
   "execution_count": 2,
   "id": "ca3fc447",
   "metadata": {},
   "outputs": [],
   "source": [
    "def CoM(clus):\n",
    "    \"\"\"\n",
    "    Support function to set the origin of the cluster at the centre of the mass\n",
    "    \"\"\"\n",
    "    (cx, cy, cz) = clus.get_center_of_mass()\n",
    "    new_xyz = []\n",
    "    for i, a in enumerate(clus):\n",
    "        x, y, z = a.position\n",
    "        x -= cx\n",
    "        y -= cy\n",
    "        z -= cz\n",
    "        new_xyz.append((x, y, z))\n",
    "    clus.set_positions(new_xyz)\n",
    "    return clus"
   ]
  },
  {
   "cell_type": "code",
   "execution_count": 3,
   "id": "ac80b48d",
   "metadata": {},
   "outputs": [],
   "source": [
    "def checkSimilar(clus1, clus2):\n",
    "\n",
    "    \"\"\"Check whether two clusters are similar or not by comparing their moments of inertia\"\"\"\n",
    "    Inertia1 = clus1.get_moments_of_inertia()\n",
    "    Inertia2 = clus2.get_moments_of_inertia()\n",
    "    # print(Inertia1, Inertia2, 'diff: ', Inertia1-Inertia2)\n",
    "\n",
    "    tol = 0.01\n",
    "    if (\n",
    "        Inertia1[0] * (1 - tol) <= Inertia2[0] <= Inertia1[0] * (1 + tol)\n",
    "        and Inertia1[1] * (1 - tol) <= Inertia2[1] <= Inertia1[1] * (1 + tol)\n",
    "        and Inertia1[2] * (1 - tol) <= Inertia2[2] <= Inertia1[2] * (1 + tol)\n",
    "    ):\n",
    "        similar = True\n",
    "    else:\n",
    "        similar = False\n",
    "\n",
    "    return similar"
   ]
  },
  {
   "cell_type": "code",
   "execution_count": 4,
   "id": "ce2e5ce2",
   "metadata": {},
   "outputs": [],
   "source": [
    "ini_gen = 0\n",
    "end_gen = 15"
   ]
  },
  {
   "cell_type": "code",
   "execution_count": 5,
   "id": "25f240e2",
   "metadata": {},
   "outputs": [
    {
     "name": "stdout",
     "output_type": "stream",
     "text": [
      "(0, 4) 0.3829350526789102 0.8438938699999987 [  55.34476686 -107.57079545   15.6247472 ]\n",
      "(0, 6) 0.48078177238738457 0.04226351999999878 [ 8.91589021 -6.06943159  7.504038  ]\n",
      "(1, 0) 0.41010408814389177 0.07475517999999681 [ 38.04597271 -36.74084619   2.50749286]\n",
      "(2, 2) 0.5030090695482683 0.23009047000000038 [ 31.70116898 -34.75527735   5.88471715]\n",
      "(2, 6) 0.7798445311208219 0.0780812200000014 [ 42.3965625  -35.26820876   7.46054993]\n",
      "(2, 7) 0.06205161701999681 -0.030998849999999578 [ -2.75209453   7.56853722 -11.98885785]\n",
      "(3, 1) 0.5338442024667881 -0.16797320999999954 [-49.93008574  33.29888909  -4.90982251]\n",
      "(3, 5) 0.30325763745608053 -0.005805850000001556 [-5.20003258  1.65425867 -3.29087645]\n",
      "(3, 7) 0.24542304219036812 -0.009343109999999655 [-6.21223821  5.660499   -0.38198196]\n",
      "(3, 8) 0.316618189211204 1.0076844399999985 [-97.98010686 118.71195561 117.82490612]\n",
      "(4, 5) 0.9871275289959178 4.1844864699999995 [211.36917356 216.57738254 449.54148428]\n",
      "(5, 1) 0.7373371474970681 -1.3112742500000003 [  23.81869008 -150.51167481 -169.34940529]\n",
      "(6, 0) 0.31057022609271656 -0.07826014999999842 [-41.16933248  37.21631393  -4.45739508]\n",
      "(6, 2) 0.47963600491040775 0.0801511299999973 [ 41.55043247 -39.17873973   6.03877989]\n",
      "(6, 3) 0.34137051336602064 0.15968258999999918 [ 47.29067289 -27.7115041    3.19139357]\n",
      "(6, 5) 0.8989213270972257 3.6932141299999994 [175.3394296  227.82568207 447.98016684]\n",
      "(6, 6) 0.46650192855970307 -1.3014289700000035 [ 171.73363687 -213.58216106 -304.59989444]\n",
      "(6, 8) 0.04390679162527818 -0.008445469999998068 [-5.84000464  5.23554867 -2.12487023]\n",
      "(7, 0) 0.5159141630117233 0.07982703000000058 [ 41.91143    -38.63383329   4.00848115]\n",
      "(7, 4) 0.45604970471948597 -0.009008200000000244 [-5.38101927  3.48932382 -1.26956687]\n",
      "(7, 5) 0.4008094873823855 -1.31158967 [  24.47156911 -149.84262024 -169.36376728]\n",
      "(8, 0) 0.22844426801605092 -0.00609018999999833 [-5.54810161  5.68570081  1.30323954]\n",
      "(8, 1) 0.1975895925765335 0.07447704000000144 [ 38.05182124 -36.08058784   3.32958337]\n",
      "(8, 3) 0.08282432394733856 -0.04820790999999858 [-20.27980027  16.05633598  -0.03668998]\n",
      "(8, 4) 0.6667673939744192 -0.00726494000000244 [-5.6048392   7.83105734  0.55074168]\n",
      "(8, 8) 0.17400547674439754 0.07655348000000117 [ 43.60493764 -40.12283979   3.68335198]\n",
      "(8, 9) 0.2906298506910478 0.07729759000000058 [ 38.73887218 -29.46284355   5.18087993]\n",
      "(10, 4) 0.3213771401577176 0.0800023000000003 [ 39.91434724 -39.07938727   4.82027563]\n",
      "(11, 0) 0.4447705987662658 0.07977651000000208 [ 43.35755122 -38.87181336   5.6262072 ]\n",
      "(11, 5) 0.4304604665271836 -0.16535582999999932 [-50.35549743  33.57409148  -3.75857977]\n",
      "(11, 6) 0.7090193541699099 0.3162747199999991 [57.93023455  4.72293416 12.61332418]\n",
      "(11, 8) 0.4381099274126193 0.07795837000000105 [ 40.88147159 -38.05064454   3.44504049]\n",
      "(12, 1) 0.43978818502824596 0.07387650000000079 [ 39.85621655 -37.68365363   3.6657666 ]\n",
      "(12, 3) 0.5078346753632688 0.07855611000000096 [ 41.52641199 -36.84232403   3.73078641]\n",
      "(12, 4) 0.5380244779470311 -1.7015126299999999 [  88.54517015 -166.71373027 -247.35351357]\n",
      "(12, 7) 0.6145170425503031 -0.894865369999998 [ 166.75653725 -143.86369184 -174.74596109]\n",
      "(12, 9) 0.5281202028144125 -1.6982431600000005 [  55.24988195 -153.29502889 -266.95236421]\n",
      "(13, 4) 0.29129745673233937 -0.011737180000000791 [-6.05578208  3.99586149 -0.63781999]\n",
      "(13, 6) 0.04390679158985826 -0.008445469999998068 [-5.84000463  5.23554868 -2.1248702 ]\n",
      "(13, 8) 0.07632946440506913 -0.024045609999998163 [-16.12089041  12.22712202  -0.41139649]\n",
      "(13, 9) 0.7383417613424634 -0.08361466999999934 [-15.14881034 -50.44372612  94.47161237]\n",
      "(14, 1) 0.6907454272031149 1.2032282300000006 [-28.63810819 116.84396006 125.78637218]\n",
      "(14, 2) 0.12375048919764288 0.021463769999996885 [  7.3738004  -22.64396757   0.5692132 ]\n",
      "43\n",
      "68\n",
      "111\n",
      "[10, 2, 10, 10, 6, 4, 10, 6, 10, 4, 5, 10, 10, 10, 4]\n",
      "[10, 2, 10, 10, 6, 4, 10, 6, 10, 4, 5, 10, 10, 10, 4]\n"
     ]
    }
   ],
   "source": [
    "ene_tol = 0.02\n",
    "dist_tol = 0.02\n",
    "\n",
    "num_check_similar = 0\n",
    "diff_dist_abs_sum_list = []\n",
    "\n",
    "non_similar_clus = []\n",
    "similar_clus = []\n",
    "non_similar_clus_ene_list = []\n",
    "similar_clus_ene_list = []\n",
    "non_similar_clus_diff_dist = []\n",
    "similar_clus_diff_dist = []\n",
    "\n",
    "n_traj1_list = []\n",
    "n_traj2_list = []\n",
    "\n",
    "for k in range(ini_gen, end_gen):\n",
    "    file1  = 'mut_after_relax_gen'+str(k+1)+'.traj'\n",
    "    file2  = 'vasp_mut_after_relax_gen'+str(k+1)+'.traj'\n",
    "\n",
    "    traj1 = Trajectory(file1)\n",
    "    traj2 = Trajectory(file2)\n",
    "    \n",
    "    n_traj1 = len(traj1)\n",
    "    n_traj2 = len(traj2)\n",
    "    n_traj1_list.append(n_traj1)\n",
    "    n_traj2_list.append(n_traj2)\n",
    "    \n",
    "    for i in range(len(traj1)):\n",
    "        num_check_similar = num_check_similar + 1\n",
    "        clus1 = traj1[i]\n",
    "        clus2 = traj2[i]\n",
    "        \n",
    "        ene1 = clus1.get_potential_energy()\n",
    "        ene2 = clus2.get_potential_energy()\n",
    "        diff_ene = ene1 - ene2\n",
    "        \n",
    "        dist1 = clus1.get_all_distances() \n",
    "        dist2 = clus2.get_all_distances()\n",
    "        diff_dist = dist1 - dist2\n",
    "        diff_dist_abs = np.absolute(diff_dist)\n",
    "        diff_dist_avg = np.sum(diff_dist_abs) / len(diff_dist)**2\n",
    "        \n",
    "        inertia1 = clus1.get_moments_of_inertia()\n",
    "        inertia2 = clus2.get_moments_of_inertia()\n",
    "        diff_inertia = inertia1 - inertia2\n",
    "              \n",
    "        if checkSimilar(clus1, clus2) == True:\n",
    "            if diff_dist_avg > dist_tol:\n",
    "                if abs(diff_ene) > ene_tol:\n",
    "                    non_similar_clus.append((k,i))\n",
    "                    non_similar_clus_ene_list.append(diff_ene)\n",
    "                    non_similar_clus_diff_dist.append(diff_dist_avg)\n",
    "                    print((k, i),diff_dist_avg, diff_ene, diff_inertia )\n",
    "                else:\n",
    "                    similar_clus.append((k,i))\n",
    "                    similar_clus_ene_list.append(diff_ene)\n",
    "                    similar_clus_diff_dist.append(diff_dist_avg)\n",
    "                    #print((k, i),diff_dist_avg, diff_ene, diff_inertia )  \n",
    "                    \n",
    "            else:\n",
    "                similar_clus.append((k,i))\n",
    "                similar_clus_ene_list.append(diff_ene)\n",
    "                similar_clus_diff_dist.append(diff_dist_avg)\n",
    "                #print((k, i),diff_dist_avg, diff_ene, diff_inertia )  \n",
    "                \n",
    "        else:\n",
    "            if diff_dist_avg < dist_tol:\n",
    "                if abs(diff_ene) < ene_tol:\n",
    "                    similar_clus.append((k,i))\n",
    "                    similar_clus_ene_list.append(diff_ene)\n",
    "                    similar_clus_diff_dist.append(diff_dist_avg)\n",
    "                    #print((k, i),diff_dist_avg, diff_ene, diff_inertia )\n",
    "                else: \n",
    "                    non_similar_clus.append((k,i))\n",
    "                    non_similar_clus_ene_list.append(diff_ene)\n",
    "                    non_similar_clus_diff_dist.append(diff_dist_avg)\n",
    "                    print((k, i),diff_dist_avg, diff_ene, diff_inertia )\n",
    "            else:\n",
    "                non_similar_clus.append((k,i))\n",
    "                non_similar_clus_ene_list.append(diff_ene)\n",
    "                non_similar_clus_diff_dist.append(diff_dist_avg)\n",
    "                print((k, i),diff_dist_avg, diff_ene, diff_inertia )\n",
    "\n",
    "print(len(non_similar_clus))\n",
    "print(len(similar_clus))\n",
    "print(num_check_similar)\n",
    "\n",
    "#print(sorted(non_similar_clus_ene_list))\n",
    "#print(non_similar_clus)\n",
    "#print(sorted(non_similar_clus_ene_list))\n",
    "#print(sorted(non_similar_clus_diff_dist))\n",
    "\n",
    "print(n_traj1_list)\n",
    "print(n_traj2_list)"
   ]
  },
  {
   "cell_type": "code",
   "execution_count": 6,
   "id": "d19a02bd",
   "metadata": {},
   "outputs": [
    {
     "name": "stdout",
     "output_type": "stream",
     "text": [
      "[40, 17, 7, 23, 24, 6, 46, 30, 66, 22]\n",
      "[19, 8]\n",
      "[16, 13, 35, 20, 40, 8, 67, 10, 14, 25]\n",
      "[14, 17, 27, 7, 8, 49, 36, 32, 8, 18]\n",
      "[10, 11, 37, 25, 10, 31]\n",
      "[6, 20, 8, 53]\n",
      "[39, 7, 27, 32, 16, 32, 14, 26, 16, 21]\n",
      "[25, 8, 22, 29, 22, 27]\n",
      "[36, 37, 17, 14, 19, 8, 37, 33, 20, 30]\n",
      "[7, 15, 8, 40]\n",
      "[27, 6, 6, 19, 18]\n",
      "[30, 7, 32, 6, 23, 25, 37, 37, 29, 20]\n",
      "[7, 28, 12, 30, 14, 19, 21, 26, 9, 28]\n",
      "[16, 10, 37, 13, 19, 10, 16, 21, 9, 41]\n",
      "[8, 31, 33, 10]\n"
     ]
    }
   ],
   "source": [
    "filename=\"clus_Al7.log\"\n",
    "\n",
    "parent_calls_list = []\n",
    "with open(filename, 'r') as fh:\n",
    "    for line in fh:\n",
    "        if line.startswith(\"Parent\"):\n",
    "            line = line.strip()\n",
    "            words = line.split(':')\n",
    "            words[1] = words[1].lstrip()\n",
    "            parent_calls_list.append(words[1])\n",
    "#print(parent_calls_list)\n",
    "#print((parent_calls_list[0]))\n",
    "\n",
    "item_split = []\n",
    "for item in parent_calls_list:\n",
    "    print( item)\n",
    "    item_split.append(item.split(\",\"))\n",
    "#print(item_split)\n",
    "\n",
    "#print(item_split[0])\n"
   ]
  },
  {
   "cell_type": "code",
   "execution_count": 7,
   "id": "7fc02ce7",
   "metadata": {},
   "outputs": [
    {
     "name": "stdout",
     "output_type": "stream",
     "text": [
      "[[40, 17, 7, 23, 24, 6, 46, 30, 66, 22], [19, 8], [16, 13, 35, 20, 40, 8, 67, 10, 14, 25], [14, 17, 27, 7, 8, 49, 36, 32, 8, 18], [10, 11, 37, 25, 10, 31], [6, 20, 8, 53], [39, 7, 27, 32, 16, 32, 14, 26, 16, 21], [25, 8, 22, 29, 22, 27], [36, 37, 17, 14, 19, 8, 37, 33, 20, 30], [7, 15, 8, 40], [27, 6, 6, 19, 18], [30, 7, 32, 6, 23, 25, 37, 37, 29, 20], [7, 28, 12, 30, 14, 19, 21, 26, 9, 28], [16, 10, 37, 13, 19, 10, 16, 21, 9, 41], [8, 31, 33, 10]]\n",
      "15\n",
      "[10, 2, 10, 10, 6, 4, 10, 6, 10, 4, 5, 10, 10, 10, 4]\n",
      "111\n"
     ]
    }
   ],
   "source": [
    "new_vasp_calls = []\n",
    "len_new_vasp_calls = []\n",
    "for i in range(len(item_split)):\n",
    "    k=len(item_split[i])\n",
    "    new_int_list = []\n",
    "    \n",
    "    a = list(item_split[i][0].lstrip())\n",
    "    del a[0] \n",
    "    a = int(''.join(a))\n",
    "    new_int_list.append(a)\n",
    "    #print(a)\n",
    "    for k in range(1,(len(item_split[i])-1)):\n",
    "        b = int(item_split[i][k])\n",
    "        new_int_list.append(b)\n",
    "        #print(b)  \n",
    "    c = list(item_split[i][-1].lstrip())\n",
    "    del c[-1]\n",
    "    c = int(''.join(c))\n",
    "    new_int_list.append(c)\n",
    "    #print(c)\n",
    "    #print(new_int_list)\n",
    "    len_new_list = len(new_int_list)\n",
    "    new_vasp_calls.append(new_int_list)\n",
    "    len_new_vasp_calls.append(len_new_list)\n",
    "print(new_vasp_calls)\n",
    "print(len(new_vasp_calls))\n",
    "print(len_new_vasp_calls)\n",
    "print(sum(len_new_vasp_calls))"
   ]
  },
  {
   "cell_type": "code",
   "execution_count": 8,
   "id": "70de20cb",
   "metadata": {},
   "outputs": [
    {
     "name": "stdout",
     "output_type": "stream",
     "text": [
      "68\n",
      "[(0, 0), (0, 1), (0, 2), (0, 3), (0, 5), (0, 7), (0, 8), (0, 9), (1, 1), (2, 0), (2, 1), (2, 3), (2, 4), (2, 5), (2, 8), (2, 9), (3, 0), (3, 2), (3, 3), (3, 4), (3, 6), (3, 9), (4, 0), (4, 1), (4, 2), (4, 3), (4, 4), (5, 0), (5, 2), (5, 3), (6, 1), (6, 4), (6, 7), (6, 9), (7, 1), (7, 2), (7, 3), (8, 2), (8, 5), (8, 6), (8, 7), (9, 0), (9, 1), (9, 2), (9, 3), (10, 0), (10, 1), (10, 2), (10, 3), (11, 1), (11, 2), (11, 3), (11, 4), (11, 7), (11, 9), (12, 0), (12, 2), (12, 5), (12, 6), (12, 8), (13, 0), (13, 1), (13, 2), (13, 3), (13, 5), (13, 7), (14, 0), (14, 3)]\n"
     ]
    }
   ],
   "source": [
    "print(len(similar_clus))\n",
    "print(similar_clus)"
   ]
  },
  {
   "cell_type": "code",
   "execution_count": 9,
   "id": "39dff7ea",
   "metadata": {},
   "outputs": [
    {
     "name": "stdout",
     "output_type": "stream",
     "text": [
      "[78, 20, 9, 37, 54, 8, 66, 61, 40, 39, 59, 9, 9, 76, 65, 29, 62, 21, 30, 13, 43, 145, 43, 29, 58, 10, 10, 61, 52, 31, 34, 53, 14, 12, 69, 65, 9, 53, 9, 14, 9, 50, 50, 35, 12, 50, 15, 48, 31, 16, 26, 46, 65, 9, 18, 12, 41, 14, 47, 30, 12, 27, 69, 20, 42, 36, 44, 43, 8, 44, 9, 76, 55, 8, 9, 55, 64, 75, 8, 60, 9, 33, 30, 53, 30, 52, 26, 8, 42, 9, 43, 13, 42, 76, 10, 9, 20, 43, 12, 50, 47, 23, 9, 26, 45, 31, 46, 9, 25, 60, 9]\n",
      "\n",
      "\n",
      "[[78, 20, 9, 37, 54, 8, 66, 61, 40, 39], [59, 9], [9, 76, 65, 29, 62, 21, 30, 13, 43, 145], [43, 29, 58, 10, 10, 61, 52, 31, 34, 53], [14, 12, 69, 65, 9, 53], [9, 14, 9, 50], [50, 35, 12, 50, 15, 48, 31, 16, 26, 46], [65, 9, 18, 12, 41, 14], [47, 30, 12, 27, 69, 20, 42, 36, 44, 43], [8, 44, 9, 76], [55, 8, 9, 55, 64], [75, 8, 60, 9, 33, 30, 53, 30, 52, 26], [8, 42, 9, 43, 13, 42, 76, 10, 9, 20], [43, 12, 50, 47, 23, 9, 26, 45, 31, 46], [9, 25, 60, 9]]\n"
     ]
    }
   ],
   "source": [
    "file_vasp=\"results.log\"\n",
    "\n",
    "vasp_calls = []\n",
    "vasp_calls_list = []\n",
    "with open(file_vasp, 'r') as fh:\n",
    "    total_images = []\n",
    "    for line in fh:       \n",
    "        if \"VASP Calls\" in line:\n",
    "            line = line.strip()\n",
    "            words = line.split(':')\n",
    "            words[1] = int(words[1].lstrip())\n",
    "            vasp_calls.append(words[1])\n",
    "        if \"Total images in the trajectory\" in line:\n",
    "            line = line.strip()\n",
    "            img_num = line.split(':')\n",
    "            img_num[1] = int(img_num[1].lstrip())\n",
    "            total_images.append(img_num[1])\n",
    "\n",
    "print(vasp_calls)\n",
    "#print(len(vasp_calls))\n",
    "#print(total_images)\n",
    "#print(len(total_images))\n",
    "#print(sum(total_images))\n",
    "print('\\n')\n",
    "\n",
    "kk = 0\n",
    "for i in total_images:\n",
    "    traj_calls = []\n",
    "    for j in range(kk, kk+i):\n",
    "        traj_calls.append(vasp_calls[j])\n",
    "    vasp_calls_list.append(traj_calls)\n",
    "    kk = kk + i\n",
    "\n",
    "print(vasp_calls_list)"
   ]
  },
  {
   "cell_type": "code",
   "execution_count": 10,
   "id": "1331a3c5",
   "metadata": {},
   "outputs": [
    {
     "name": "stdout",
     "output_type": "stream",
     "text": [
      "[[40, 17, 7, 23, 24, 6, 46, 30, 66, 22], [19, 8], [16, 13, 35, 20, 40, 8, 67, 10, 14, 25], [14, 17, 27, 7, 8, 49, 36, 32, 8, 18], [10, 11, 37, 25, 10, 31], [6, 20, 8, 53], [39, 7, 27, 32, 16, 32, 14, 26, 16, 21], [25, 8, 22, 29, 22, 27], [36, 37, 17, 14, 19, 8, 37, 33, 20, 30], [7, 15, 8, 40], [27, 6, 6, 19, 18], [30, 7, 32, 6, 23, 25, 37, 37, 29, 20], [7, 28, 12, 30, 14, 19, 21, 26, 9, 28], [16, 10, 37, 13, 19, 10, 16, 21, 9, 41], [8, 31, 33, 10]]\n"
     ]
    }
   ],
   "source": [
    "print(new_vasp_calls)"
   ]
  },
  {
   "cell_type": "code",
   "execution_count": 11,
   "id": "25923871",
   "metadata": {},
   "outputs": [
    {
     "name": "stdout",
     "output_type": "stream",
     "text": [
      "[(0, 0), (0, 1), (0, 2), (0, 3), (0, 5), (0, 7), (0, 8), (0, 9), (1, 1), (2, 0), (2, 1), (2, 3), (2, 4), (2, 5), (2, 8), (2, 9), (3, 0), (3, 2), (3, 3), (3, 4), (3, 6), (3, 9), (4, 0), (4, 1), (4, 2), (4, 3), (4, 4), (5, 0), (5, 2), (5, 3), (6, 1), (6, 4), (6, 7), (6, 9), (7, 1), (7, 2), (7, 3), (8, 2), (8, 5), (8, 6), (8, 7), (9, 0), (9, 1), (9, 2), (9, 3), (10, 0), (10, 1), (10, 2), (10, 3), (11, 1), (11, 2), (11, 3), (11, 4), (11, 7), (11, 9), (12, 0), (12, 2), (12, 5), (12, 6), (12, 8), (13, 0), (13, 1), (13, 2), (13, 3), (13, 5), (13, 7), (14, 0), (14, 3)]\n"
     ]
    }
   ],
   "source": [
    "print(similar_clus)"
   ]
  },
  {
   "cell_type": "code",
   "execution_count": 12,
   "id": "335b6961",
   "metadata": {},
   "outputs": [
    {
     "name": "stdout",
     "output_type": "stream",
     "text": [
      "[40, 17, 7, 23, 6, 30, 66, 22, 8, 16, 13, 20, 40, 8, 14, 25, 14, 27, 7, 8, 36, 18, 10, 11, 37, 25, 10, 6, 8, 53, 7, 16, 26, 21, 8, 22, 29, 17, 8, 37, 33, 7, 15, 8, 40, 27, 6, 6, 19, 7, 32, 6, 23, 37, 20, 7, 12, 19, 21, 9, 16, 10, 37, 13, 10, 21, 8, 10]\n",
      "1295\n",
      "[78, 20, 9, 37, 8, 61, 40, 39, 9, 9, 76, 29, 62, 21, 43, 145, 43, 58, 10, 10, 52, 53, 14, 12, 69, 65, 9, 9, 9, 50, 35, 15, 16, 46, 9, 18, 12, 12, 20, 42, 36, 8, 44, 9, 76, 55, 8, 9, 55, 8, 60, 9, 33, 30, 26, 8, 9, 42, 76, 9, 43, 12, 50, 47, 9, 45, 9, 9]\n",
      "2208\n",
      "[38, 3, 2, 14, 2, 31, -26, 17, 1, -7, 63, 9, 22, 13, 29, 120, 29, 31, 3, 2, 16, 35, 4, 1, 32, 40, -1, 3, 1, -3, 28, -1, -10, 25, 1, -4, -17, -5, 12, 5, 3, 1, 29, 1, 36, 28, 2, 3, 36, 1, 28, 3, 10, -7, 6, 1, -3, 23, 55, 0, 27, 2, 13, 34, -1, 24, 1, -1]\n",
      "913\n"
     ]
    }
   ],
   "source": [
    "same_clus_almlp = []\n",
    "same_clus_vasp = []\n",
    "same_clus_diff = []\n",
    "for i in range(len(similar_clus)):\n",
    "    p = similar_clus[i][0]\n",
    "    q = similar_clus[i][1]\n",
    "    \n",
    "    r = new_vasp_calls[p][q] #clus_XXX.log AL\n",
    "    same_clus_almlp.append(r)\n",
    "    s = vasp_calls_list[p][q] #results.log DFT\n",
    "    same_clus_vasp.append(s)\n",
    "    \n",
    "    same_clus_diff.append(s-r)\n",
    "    #print(r, s, s-r)\n",
    "print(same_clus_almlp)\n",
    "print(sum(same_clus_almlp))\n",
    "print(same_clus_vasp)\n",
    "print(sum(same_clus_vasp))\n",
    "print(same_clus_diff)\n",
    "print(sum(same_clus_diff))"
   ]
  },
  {
   "cell_type": "code",
   "execution_count": null,
   "id": "e40d9d03",
   "metadata": {},
   "outputs": [],
   "source": []
  }
 ],
 "metadata": {
  "kernelspec": {
   "display_name": "Python 3 (ipykernel)",
   "language": "python",
   "name": "python3"
  },
  "language_info": {
   "codemirror_mode": {
    "name": "ipython",
    "version": 3
   },
   "file_extension": ".py",
   "mimetype": "text/x-python",
   "name": "python",
   "nbconvert_exporter": "python",
   "pygments_lexer": "ipython3",
   "version": "3.8.10"
  }
 },
 "nbformat": 4,
 "nbformat_minor": 5
}
