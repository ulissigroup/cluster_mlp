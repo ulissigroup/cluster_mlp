{
 "cells": [
  {
   "cell_type": "code",
   "execution_count": 1,
   "id": "a0d1a007",
   "metadata": {},
   "outputs": [],
   "source": [
    "from ase.io import read, write, Trajectory\n",
    "import numpy as np"
   ]
  },
  {
   "cell_type": "code",
   "execution_count": 2,
   "id": "ca3fc447",
   "metadata": {},
   "outputs": [],
   "source": [
    "def CoM(clus):\n",
    "    \"\"\"\n",
    "    Support function to set the origin of the cluster at the centre of the mass\n",
    "    \"\"\"\n",
    "    (cx, cy, cz) = clus.get_center_of_mass()\n",
    "    new_xyz = []\n",
    "    for i, a in enumerate(clus):\n",
    "        x, y, z = a.position\n",
    "        x -= cx\n",
    "        y -= cy\n",
    "        z -= cz\n",
    "        new_xyz.append((x, y, z))\n",
    "    clus.set_positions(new_xyz)\n",
    "    return clus"
   ]
  },
  {
   "cell_type": "code",
   "execution_count": 3,
   "id": "ac80b48d",
   "metadata": {},
   "outputs": [],
   "source": [
    "def checkSimilar(clus1, clus2):\n",
    "\n",
    "    \"\"\"Check whether two clusters are similar or not by comparing their moments of inertia\"\"\"\n",
    "    Inertia1 = clus1.get_moments_of_inertia()\n",
    "    Inertia2 = clus2.get_moments_of_inertia()\n",
    "    # print(Inertia1, Inertia2, 'diff: ', Inertia1-Inertia2)\n",
    "\n",
    "    tol = 0.01\n",
    "    if (\n",
    "        Inertia1[0] * (1 - tol) <= Inertia2[0] <= Inertia1[0] * (1 + tol)\n",
    "        and Inertia1[1] * (1 - tol) <= Inertia2[1] <= Inertia1[1] * (1 + tol)\n",
    "        and Inertia1[2] * (1 - tol) <= Inertia2[2] <= Inertia1[2] * (1 + tol)\n",
    "    ):\n",
    "        similar = True\n",
    "    else:\n",
    "        similar = False\n",
    "\n",
    "    return similar"
   ]
  },
  {
   "cell_type": "code",
   "execution_count": 4,
   "id": "ce2e5ce2",
   "metadata": {},
   "outputs": [],
   "source": [
    "ini_gen = 0\n",
    "end_gen = 10"
   ]
  },
  {
   "cell_type": "code",
   "execution_count": 5,
   "id": "25f240e2",
   "metadata": {},
   "outputs": [
    {
     "name": "stdout",
     "output_type": "stream",
     "text": [
      "(0, 4) 0.1690388237566193 0.0551074199999988 [ 267.26432307 -321.54307187   31.69818659]\n",
      "(0, 5) 0.27214829943060026 -0.00022038000000179636 [-0.10209137  4.00516924  1.64472689]\n",
      "(0, 6) 0.1862868847834031 -0.0440900099999979 [ 196.9941685  -203.98260411   11.28528703]\n",
      "(1, 1) 0.3519671703397796 -1.1484716400000003 [  79.20594139 -362.94316568 -298.09617568]\n",
      "(1, 2) 0.15786915708704322 -0.2780897299999978 [-179.92525962  172.06488622  -45.21624636]\n",
      "(1, 5) 0.16546805809827841 0.055952019999999436 [ 277.17844356 -329.91606308   36.03941517]\n",
      "(1, 6) 0.27148614877538946 -0.0010957100000013043 [ 1.01359643  1.07458435 -2.85984453]\n",
      "(1, 8) 0.3240194718698075 -0.2270787399999996 [-171.1832967   294.60785045    6.74934709]\n",
      "(1, 9) 0.31876899218266 -0.06214033999999913 [-240.38785066  303.38032221  -30.95005631]\n",
      "(2, 4) 0.15589423901295354 0.0582653800000017 [ 255.73641152 -310.31849733   36.86184241]\n",
      "(2, 6) 0.8519463359335347 -2.5869568800000025 [  378.82117997 -1965.12671582 -1802.80953266]\n",
      "(2, 7) 0.27204143004403675 -0.0007318299999994338 [ 0.49007786 -2.66131784 -2.03751306]\n",
      "(2, 8) 0.3831328482612515 -1.1903629000000002 [  19.88569297 -658.57441168 -661.87984871]\n",
      "(2, 9) 0.4036173956540003 -1.6893636900000022 [-173.21247273 -271.3104898  -623.28606812]\n",
      "(3, 2) 0.16605698840231384 0.054736060000003306 [ 281.28295931 -333.39021601   32.33241714]\n",
      "(3, 3) 0.09799994747606892 -0.31031400000000176 [ -58.34915062 -150.65043111  -39.775963  ]\n",
      "(4, 0) 0.16532107581202599 0.05535576999999847 [ 275.44243232 -331.74361056   36.37343963]\n",
      "(5, 3) 0.27557622817860716 -0.024856149999997967 [-13.00338183  33.14499754 -10.29474453]\n",
      "(5, 4) 0.3959215900234581 -1.1953236300000007 [  26.13978786 -690.25717382 -692.18102245]\n",
      "(5, 5) 0.3176755203603063 -0.05741837000000061 [-258.83254681  312.72783573  -34.69770221]\n",
      "(5, 6) 0.5382212289993418 -1.143796459999999 [  308.85028087 -1032.94666465  -676.1961869 ]\n",
      "(5, 7) 0.22256984766230692 -0.11179717999999994 [-131.72058648  178.86769791  -33.05222644]\n",
      "(5, 8) 0.1664168250275849 0.054964940000001405 [ 277.76931243 -329.88480386   35.43381442]\n",
      "(5, 9) 0.5269901527571107 -1.412594630000001 [ 286.2735825  -630.47321587 -926.5041453 ]\n",
      "(6, 1) 0.16816531925456968 0.054744550000002334 [ 277.70902077 -329.11151884   31.79993913]\n",
      "(6, 2) 0.31569961719521916 -0.06256594999999976 [-242.69535526  295.72044494  -33.11222155]\n",
      "(7, 0) 0.5315785225610291 -1.1286700300000003 [ 135.98324668 -745.82270227 -401.44139168]\n",
      "(8, 0) 0.16225064101990186 0.05527186999999856 [ 277.05726164 -330.10699552   36.90319975]\n",
      "(8, 1) 0.1778385678269783 0.0016740900000016268 [ 250.28599477 -299.8595625    -3.04828141]\n",
      "(9, 0) 0.2716468208300239 -0.0010502700000003529 [-1.24301735 -0.1445243  -1.83165501]\n",
      "(9, 3) 0.16411689392402404 0.05516011000000276 [ 280.8747518  -335.37488966   33.94346687]\n",
      "31\n",
      "32\n",
      "63\n",
      "[7, 10, 10, 5, 4, 10, 3, 4, 5, 5]\n",
      "[7, 10, 10, 5, 4, 10, 3, 4, 5, 5]\n"
     ]
    }
   ],
   "source": [
    "ene_tol = 0.02\n",
    "dist_tol = 0.02\n",
    "\n",
    "num_check_similar = 0\n",
    "diff_dist_abs_sum_list = []\n",
    "\n",
    "non_similar_clus = []\n",
    "similar_clus = []\n",
    "non_similar_clus_ene_list = []\n",
    "similar_clus_ene_list = []\n",
    "non_similar_clus_diff_dist = []\n",
    "similar_clus_diff_dist = []\n",
    "\n",
    "n_traj1_list = []\n",
    "n_traj2_list = []\n",
    "\n",
    "for k in range(ini_gen, end_gen):\n",
    "    file1  = 'mut_after_relax_gen'+str(k+1)+'.traj'\n",
    "    file2  = 'vasp_mut_after_relax_gen'+str(k+1)+'.traj'\n",
    "\n",
    "    traj1 = Trajectory(file1)\n",
    "    traj2 = Trajectory(file2)\n",
    "    \n",
    "    n_traj1 = len(traj1)\n",
    "    n_traj2 = len(traj2)\n",
    "    n_traj1_list.append(n_traj1)\n",
    "    n_traj2_list.append(n_traj2)\n",
    "    \n",
    "    for i in range(len(traj1)):\n",
    "        num_check_similar = num_check_similar + 1\n",
    "        clus1 = traj1[i]\n",
    "        clus2 = traj2[i]\n",
    "        \n",
    "        ene1 = clus1.get_potential_energy()\n",
    "        ene2 = clus2.get_potential_energy()\n",
    "        diff_ene = ene1 - ene2\n",
    "        \n",
    "        dist1 = clus1.get_all_distances() \n",
    "        dist2 = clus2.get_all_distances()\n",
    "        diff_dist = dist1 - dist2\n",
    "        diff_dist_abs = np.absolute(diff_dist)\n",
    "        diff_dist_avg = np.sum(diff_dist_abs) / len(diff_dist)**2\n",
    "        \n",
    "        inertia1 = clus1.get_moments_of_inertia()\n",
    "        inertia2 = clus2.get_moments_of_inertia()\n",
    "        diff_inertia = inertia1 - inertia2\n",
    "              \n",
    "        if checkSimilar(clus1, clus2) == True:\n",
    "            #if (diff_dist_avg > dist_tol) or (abs(diff_ene) > ene_tol):\n",
    "            if diff_dist_avg > dist_tol:\n",
    "                #if abs(diff_ene) > ene_tol:\n",
    "                non_similar_clus.append((k,i))\n",
    "                non_similar_clus_ene_list.append(diff_ene)\n",
    "                non_similar_clus_diff_dist.append(diff_dist_avg)\n",
    "                print((k, i),diff_dist_avg, diff_ene, diff_inertia )\n",
    "                #else:\n",
    "                    #similar_clus.append((k,i))\n",
    "                    #similar_clus_ene_list.append(diff_ene)\n",
    "                    #similar_clus_diff_dist.append(diff_dist_avg)\n",
    "                    #print((k, i),diff_dist_avg, diff_ene, diff_inertia )  \n",
    "                    \n",
    "            \n",
    "            else:\n",
    "                similar_clus.append((k,i))\n",
    "                similar_clus_ene_list.append(diff_ene)\n",
    "                similar_clus_diff_dist.append(diff_dist_avg)\n",
    "                #print((k, i),diff_dist_avg, diff_ene, diff_inertia )  \n",
    "                \n",
    "        else:\n",
    "            if diff_dist_avg < dist_tol:\n",
    "                if abs(diff_ene) < ene_tol:\n",
    "                    similar_clus.append((k,i))\n",
    "                    similar_clus_ene_list.append(diff_ene)\n",
    "                    similar_clus_diff_dist.append(diff_dist_avg)\n",
    "                    #print((k, i),diff_dist_avg, diff_ene, diff_inertia )\n",
    "                else: \n",
    "                    non_similar_clus.append((k,i))\n",
    "                    non_similar_clus_ene_list.append(diff_ene)\n",
    "                    non_similar_clus_diff_dist.append(diff_dist_avg)\n",
    "                    print((k, i),diff_dist_avg, diff_ene, diff_inertia )\n",
    "            else:\n",
    "                non_similar_clus.append((k,i))\n",
    "                non_similar_clus_ene_list.append(diff_ene)\n",
    "                non_similar_clus_diff_dist.append(diff_dist_avg)\n",
    "                print((k, i),diff_dist_avg, diff_ene, diff_inertia )\n",
    "\n",
    "print(len(non_similar_clus))\n",
    "print(len(similar_clus))\n",
    "print(num_check_similar)\n",
    "\n",
    "#print(sorted(non_similar_clus_ene_list))\n",
    "#print(non_similar_clus)\n",
    "#print(sorted(non_similar_clus_ene_list))\n",
    "#print(sorted(non_similar_clus_diff_dist))\n",
    "\n",
    "print(n_traj1_list)\n",
    "print(n_traj2_list)"
   ]
  },
  {
   "cell_type": "code",
   "execution_count": 6,
   "id": "d19a02bd",
   "metadata": {},
   "outputs": [
    {
     "name": "stdout",
     "output_type": "stream",
     "text": [
      "[5, 4, 4, 5, 12, 15, 13]\n",
      "[5, 15, 8, 11, 10, 8, 13, 4, 18, 15]\n",
      "[10, 5, 4, 17, 10, 9, 11, 18, 11, 13]\n",
      "[5, 10, 11, 10, 4]\n",
      "[12, 5, 4, 5]\n",
      "[5, 8, 4, 17, 10, 8, 15, 20, 12, 11]\n",
      "[5, 9, 10]\n",
      "[10, 5, 5, 6]\n",
      "[15, 10, 6, 4, 4]\n",
      "[11, 5, 6, 13, 13]\n"
     ]
    }
   ],
   "source": [
    "filename=\"clus_Pd5.log\"\n",
    "\n",
    "parent_calls_list = []\n",
    "with open(filename, 'r') as fh:\n",
    "    for line in fh:\n",
    "        if line.startswith(\"Parent\"):\n",
    "            line = line.strip()\n",
    "            words = line.split(':')\n",
    "            words[1] = words[1].lstrip()\n",
    "            parent_calls_list.append(words[1])\n",
    "#print(parent_calls_list)\n",
    "#print((parent_calls_list[0]))\n",
    "\n",
    "item_split = []\n",
    "for item in parent_calls_list:\n",
    "    print( item)\n",
    "    item_split.append(item.split(\",\"))\n",
    "#print(item_split)\n",
    "\n",
    "#print(item_split[0])\n"
   ]
  },
  {
   "cell_type": "code",
   "execution_count": 7,
   "id": "7fc02ce7",
   "metadata": {},
   "outputs": [
    {
     "name": "stdout",
     "output_type": "stream",
     "text": [
      "[[5, 4, 4, 5, 12, 15, 13], [5, 15, 8, 11, 10, 8, 13, 4, 18, 15], [10, 5, 4, 17, 10, 9, 11, 18, 11, 13], [5, 10, 11, 10, 4], [12, 5, 4, 5], [5, 8, 4, 17, 10, 8, 15, 20, 12, 11], [5, 9, 10], [10, 5, 5, 6], [15, 10, 6, 4, 4], [11, 5, 6, 13, 13]]\n",
      "10\n",
      "[7, 10, 10, 5, 4, 10, 3, 4, 5, 5]\n",
      "63\n"
     ]
    }
   ],
   "source": [
    "new_vasp_calls = []\n",
    "len_new_vasp_calls = []\n",
    "for i in range(len(item_split)):\n",
    "    k=len(item_split[i])\n",
    "    new_int_list = []\n",
    "    \n",
    "    a = list(item_split[i][0].lstrip())\n",
    "    del a[0] \n",
    "    a = int(''.join(a))\n",
    "    new_int_list.append(a)\n",
    "    #print(a)\n",
    "    for k in range(1,(len(item_split[i])-1)):\n",
    "        b = int(item_split[i][k])\n",
    "        new_int_list.append(b)\n",
    "        #print(b)  \n",
    "    c = list(item_split[i][-1].lstrip())\n",
    "    del c[-1]\n",
    "    c = int(''.join(c))\n",
    "    new_int_list.append(c)\n",
    "    #print(c)\n",
    "    #print(new_int_list)\n",
    "    len_new_list = len(new_int_list)\n",
    "    new_vasp_calls.append(new_int_list)\n",
    "    len_new_vasp_calls.append(len_new_list)\n",
    "print(new_vasp_calls)\n",
    "print(len(new_vasp_calls))\n",
    "print(len_new_vasp_calls)\n",
    "print(sum(len_new_vasp_calls))"
   ]
  },
  {
   "cell_type": "code",
   "execution_count": 8,
   "id": "70de20cb",
   "metadata": {},
   "outputs": [
    {
     "name": "stdout",
     "output_type": "stream",
     "text": [
      "32\n",
      "[(0, 0), (0, 1), (0, 2), (0, 3), (1, 0), (1, 3), (1, 4), (1, 7), (2, 0), (2, 1), (2, 2), (2, 3), (2, 5), (3, 0), (3, 1), (3, 4), (4, 1), (4, 2), (4, 3), (5, 0), (5, 1), (5, 2), (6, 0), (7, 1), (7, 2), (7, 3), (8, 2), (8, 3), (8, 4), (9, 1), (9, 2), (9, 4)]\n"
     ]
    }
   ],
   "source": [
    "print(len(similar_clus))\n",
    "print(similar_clus)"
   ]
  },
  {
   "cell_type": "code",
   "execution_count": 9,
   "id": "39dff7ea",
   "metadata": {},
   "outputs": [
    {
     "name": "stdout",
     "output_type": "stream",
     "text": [
      "[7, 3, 3, 3, 32, 54, 60, 7, 19, 18, 47, 49, 39, 39, 3, 45, 66, 71, 7, 3, 83, 47, 37, 7, 41, 16, 17, 7, 44, 32, 18, 3, 44, 7, 3, 3, 6, 48, 3, 36, 31, 101, 9, 60, 43, 17, 7, 38, 47, 29, 7, 3, 3, 54, 17, 6, 3, 3, 52, 3, 6, 46, 65]\n",
      "\n",
      "\n",
      "[[7, 3, 3, 3, 32, 54, 60], [7, 19, 18, 47, 49, 39, 39, 3, 45, 66], [71, 7, 3, 83, 47, 37, 7, 41, 16, 17], [7, 44, 32, 18, 3], [44, 7, 3, 3], [6, 48, 3, 36, 31, 101, 9, 60, 43, 17], [7, 38, 47], [29, 7, 3, 3], [54, 17, 6, 3, 3], [52, 3, 6, 46, 65]]\n"
     ]
    }
   ],
   "source": [
    "file_vasp=\"results_all.log\"\n",
    "\n",
    "vasp_calls = []\n",
    "vasp_calls_list = []\n",
    "with open(file_vasp, 'r') as fh:\n",
    "    total_images = []\n",
    "    for line in fh:       \n",
    "        if \"VASP Calls\" in line:\n",
    "            line = line.strip()\n",
    "            words = line.split(':')\n",
    "            words[1] = int(words[1].lstrip())\n",
    "            vasp_calls.append(words[1])\n",
    "        if \"Total images in the trajectory\" in line:\n",
    "            line = line.strip()\n",
    "            img_num = line.split(':')\n",
    "            img_num[1] = int(img_num[1].lstrip())\n",
    "            total_images.append(img_num[1])\n",
    "\n",
    "print(vasp_calls)\n",
    "#print(len(vasp_calls))\n",
    "#print(total_images)\n",
    "#print(len(total_images))\n",
    "#print(sum(total_images))\n",
    "print('\\n')\n",
    "\n",
    "kk = 0\n",
    "for i in total_images:\n",
    "    traj_calls = []\n",
    "    for j in range(kk, kk+i):\n",
    "        traj_calls.append(vasp_calls[j])\n",
    "    vasp_calls_list.append(traj_calls)\n",
    "    kk = kk + i\n",
    "\n",
    "print(vasp_calls_list)"
   ]
  },
  {
   "cell_type": "code",
   "execution_count": 10,
   "id": "1331a3c5",
   "metadata": {},
   "outputs": [
    {
     "name": "stdout",
     "output_type": "stream",
     "text": [
      "[[5, 4, 4, 5, 12, 15, 13], [5, 15, 8, 11, 10, 8, 13, 4, 18, 15], [10, 5, 4, 17, 10, 9, 11, 18, 11, 13], [5, 10, 11, 10, 4], [12, 5, 4, 5], [5, 8, 4, 17, 10, 8, 15, 20, 12, 11], [5, 9, 10], [10, 5, 5, 6], [15, 10, 6, 4, 4], [11, 5, 6, 13, 13]]\n"
     ]
    }
   ],
   "source": [
    "print(new_vasp_calls)"
   ]
  },
  {
   "cell_type": "code",
   "execution_count": 11,
   "id": "25923871",
   "metadata": {},
   "outputs": [
    {
     "name": "stdout",
     "output_type": "stream",
     "text": [
      "[(0, 0), (0, 1), (0, 2), (0, 3), (1, 0), (1, 3), (1, 4), (1, 7), (2, 0), (2, 1), (2, 2), (2, 3), (2, 5), (3, 0), (3, 1), (3, 4), (4, 1), (4, 2), (4, 3), (5, 0), (5, 1), (5, 2), (6, 0), (7, 1), (7, 2), (7, 3), (8, 2), (8, 3), (8, 4), (9, 1), (9, 2), (9, 4)]\n"
     ]
    }
   ],
   "source": [
    "print(similar_clus)"
   ]
  },
  {
   "cell_type": "code",
   "execution_count": 12,
   "id": "335b6961",
   "metadata": {},
   "outputs": [
    {
     "name": "stdout",
     "output_type": "stream",
     "text": [
      "[5, 4, 4, 5, 5, 11, 10, 4, 10, 5, 4, 17, 9, 5, 10, 4, 5, 4, 5, 5, 8, 4, 5, 5, 5, 6, 6, 4, 4, 5, 6, 13]\n",
      "202\n",
      "[7, 3, 3, 3, 7, 47, 49, 3, 71, 7, 3, 83, 37, 7, 44, 3, 7, 3, 3, 6, 48, 3, 7, 7, 3, 3, 6, 3, 3, 3, 6, 65]\n",
      "553\n",
      "[2, -1, -1, -2, 2, 36, 39, -1, 61, 2, -1, 66, 28, 2, 34, -1, 2, -1, -2, 1, 40, -1, 2, 2, -2, -3, 0, -1, -1, -2, 0, 52]\n",
      "351\n",
      "32\n"
     ]
    }
   ],
   "source": [
    "same_clus_almlp = []\n",
    "same_clus_vasp = []\n",
    "same_clus_diff = []\n",
    "for i in range(len(similar_clus)):\n",
    "    p = similar_clus[i][0]\n",
    "    q = similar_clus[i][1]\n",
    "    \n",
    "    r = new_vasp_calls[p][q] #clus_XXX.log AL\n",
    "    same_clus_almlp.append(r)\n",
    "    s = vasp_calls_list[p][q] #results.log DFT\n",
    "    same_clus_vasp.append(s)\n",
    "    \n",
    "    same_clus_diff.append(s-r)\n",
    "    #print(r, s, s-r)\n",
    "print(same_clus_almlp)\n",
    "print(sum(same_clus_almlp))\n",
    "print(same_clus_vasp)\n",
    "print(sum(same_clus_vasp))\n",
    "print(same_clus_diff)\n",
    "print(sum(same_clus_diff))\n",
    "print(len(same_clus_diff))"
   ]
  },
  {
   "cell_type": "code",
   "execution_count": 13,
   "id": "e40d9d03",
   "metadata": {},
   "outputs": [
    {
     "name": "stderr",
     "output_type": "stream",
     "text": [
      "/opt/conda/lib/python3.8/site-packages/seaborn/distributions.py:2551: FutureWarning: `distplot` is a deprecated function and will be removed in a future version. Please adapt your code to use either `displot` (a figure-level function with similar flexibility) or `histplot` (an axes-level function for histograms).\n",
      "  warnings.warn(msg, FutureWarning)\n"
     ]
    },
    {
     "data": {
      "text/plain": [
       "<AxesSubplot:ylabel='Density'>"
      ]
     },
     "execution_count": 13,
     "metadata": {},
     "output_type": "execute_result"
    },
    {
     "data": {
      "image/png": "[encoded data removed]",
      "text/plain": [
       "<Figure size 432x288 with 1 Axes>"
      ]
     },
     "metadata": {
      "needs_background": "light"
     },
     "output_type": "display_data"
    }
   ],
   "source": [
    "import seaborn as sns\n",
    "sns.distplot(similar_clus_diff_dist)"
   ]
  },
  {
   "cell_type": "code",
   "execution_count": 14,
   "id": "f9e4ce49",
   "metadata": {},
   "outputs": [
    {
     "name": "stderr",
     "output_type": "stream",
     "text": [
      "/opt/conda/lib/python3.8/site-packages/seaborn/distributions.py:2551: FutureWarning: `distplot` is a deprecated function and will be removed in a future version. Please adapt your code to use either `displot` (a figure-level function with similar flexibility) or `histplot` (an axes-level function for histograms).\n",
      "  warnings.warn(msg, FutureWarning)\n"
     ]
    },
    {
     "data": {
      "text/plain": [
       "<AxesSubplot:ylabel='Density'>"
      ]
     },
     "execution_count": 14,
     "metadata": {},
     "output_type": "execute_result"
    },
    {
     "data": {
      "image/png": "[encoded data removed]",
      "text/plain": [
       "<Figure size 432x288 with 1 Axes>"
      ]
     },
     "metadata": {
      "needs_background": "light"
     },
     "output_type": "display_data"
    }
   ],
   "source": [
    "sns.distplot(similar_clus_ene_list)"
   ]
  },
  {
   "cell_type": "code",
   "execution_count": 15,
   "id": "7debaf5a",
   "metadata": {},
   "outputs": [
    {
     "name": "stdout",
     "output_type": "stream",
     "text": [
      "[-0.0859791699999981, -0.00828065000000322, -0.003238079999999144, -0.002660720000001504, -0.0014893600000007723, -0.0013537600000006478, -0.0012564499999996315, -0.0010094000000009373, -0.0007960500000017134, -0.000759750000000281, -0.0007287799999993183, -0.0006592699999998786, -0.0006506599999980267, -0.0006024999999993952, -0.0005013600000012275, -0.0005013600000012275, -0.0004824799999987306, -0.0004613800000008439, -0.0004561699999996449, -0.00038622000000287926, -0.0003854399999987379, -0.0003337300000012533, -0.0003337300000012533, -0.00033031000000249833, -0.0003085899999994979, -0.00023040000000129623, -0.0001601899999990053, -5.446999999847435e-05, 2.187999999847534e-05, 3.2889999999952124e-05, 0.0001105599999995377, 0.00041910999999927867]\n"
     ]
    }
   ],
   "source": [
    "print(sorted(similar_clus_ene_list))\n",
    "#print(non_similar_clus)\n",
    "#print(sorted(non_similar_clus_ene_list))\n",
    "#print(sorted(non_similar_clus_diff_dist))"
   ]
  },
  {
   "cell_type": "code",
   "execution_count": 16,
   "id": "ba4fbb3d",
   "metadata": {},
   "outputs": [
    {
     "name": "stdout",
     "output_type": "stream",
     "text": [
      "[0.0011663372776453684, 0.001236027932390016, 0.0012855545301266246, 0.001285554698988385, 0.0013506415199837818, 0.0013506417387093704, 0.0015590260876774664, 0.0016563638195106734, 0.0018479010033890476, 0.001848245447690715, 0.0019198138191801207, 0.0019876931864885707, 0.002062419817651815, 0.002096748069836529, 0.0022303823474984696, 0.0026714194743849263, 0.002676948429449375, 0.0027088353070542225, 0.0036157247984261788, 0.003935221334593848, 0.004007952839679767, 0.004187482957926321, 0.004254990423922606, 0.004326827472982017, 0.004991401969648344, 0.005030484993418476, 0.0055544897927836704, 0.005788376670268889, 0.006139330196620421, 0.010383816078485495, 0.014307260572657193, 0.015414526007575945]\n"
     ]
    }
   ],
   "source": [
    "print(sorted(similar_clus_diff_dist))"
   ]
  },
  {
   "cell_type": "code",
   "execution_count": null,
   "id": "503e098e",
   "metadata": {},
   "outputs": [],
   "source": []
  }
 ],
 "metadata": {
  "kernelspec": {
   "display_name": "Python 3 (ipykernel)",
   "language": "python",
   "name": "python3"
  },
  "language_info": {
   "codemirror_mode": {
    "name": "ipython",
    "version": 3
   },
   "file_extension": ".py",
   "mimetype": "text/x-python",
   "name": "python",
   "nbconvert_exporter": "python",
   "pygments_lexer": "ipython3",
   "version": "3.8.10"
  }
 },
 "nbformat": 4,
 "nbformat_minor": 5
}
