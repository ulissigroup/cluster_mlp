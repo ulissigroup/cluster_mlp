{
 "cells": [
  {
   "cell_type": "code",
   "execution_count": 1,
   "id": "a0d1a007",
   "metadata": {},
   "outputs": [],
   "source": [
    "from ase.io import read, write, Trajectory\n",
    "import numpy as np"
   ]
  },
  {
   "cell_type": "code",
   "execution_count": 2,
   "id": "ca3fc447",
   "metadata": {},
   "outputs": [],
   "source": [
    "def CoM(clus):\n",
    "    \"\"\"\n",
    "    Support function to set the origin of the cluster at the centre of the mass\n",
    "    \"\"\"\n",
    "    (cx, cy, cz) = clus.get_center_of_mass()\n",
    "    new_xyz = []\n",
    "    for i, a in enumerate(clus):\n",
    "        x, y, z = a.position\n",
    "        x -= cx\n",
    "        y -= cy\n",
    "        z -= cz\n",
    "        new_xyz.append((x, y, z))\n",
    "    clus.set_positions(new_xyz)\n",
    "    return clus"
   ]
  },
  {
   "cell_type": "code",
   "execution_count": 3,
   "id": "ac80b48d",
   "metadata": {},
   "outputs": [],
   "source": [
    "def checkSimilar(clus1, clus2):\n",
    "\n",
    "    \"\"\"Check whether two clusters are similar or not by comparing their moments of inertia\"\"\"\n",
    "    Inertia1 = clus1.get_moments_of_inertia()\n",
    "    Inertia2 = clus2.get_moments_of_inertia()\n",
    "    # print(Inertia1, Inertia2, 'diff: ', Inertia1-Inertia2)\n",
    "\n",
    "    tol = 0.01\n",
    "    if (\n",
    "        Inertia1[0] * (1 - tol) <= Inertia2[0] <= Inertia1[0] * (1 + tol)\n",
    "        and Inertia1[1] * (1 - tol) <= Inertia2[1] <= Inertia1[1] * (1 + tol)\n",
    "        and Inertia1[2] * (1 - tol) <= Inertia2[2] <= Inertia1[2] * (1 + tol)\n",
    "    ):\n",
    "        similar = True\n",
    "    else:\n",
    "        similar = False\n",
    "\n",
    "    return similar"
   ]
  },
  {
   "cell_type": "code",
   "execution_count": 4,
   "id": "ce2e5ce2",
   "metadata": {},
   "outputs": [],
   "source": [
    "ini_gen = 0\n",
    "end_gen = 25"
   ]
  },
  {
   "cell_type": "code",
   "execution_count": 5,
   "id": "25f240e2",
   "metadata": {},
   "outputs": [
    {
     "name": "stdout",
     "output_type": "stream",
     "text": [
      "(0, 0) 0.40976021522686296 -0.4315561499999987 [ 256.14815339 -446.20598201 -203.16886204]\n",
      "(0, 1) 0.5876651749086009 -0.29011904000000044 [ 251.38709801 -340.14447907 -138.2784025 ]\n",
      "(0, 3) 0.04283851684601753 -0.003772479999994971 [-6.39233416 12.29927466 -2.26776449]\n",
      "(0, 4) 0.31639637148417404 -0.1543835499999986 [-145.61404421  215.10051224   47.2375347 ]\n",
      "(0, 5) 0.660055984974841 0.41595131000000407 [-511.07482707  850.45690936  327.75620577]\n",
      "(0, 6) 0.45198085426506796 0.48976118999999585 [-371.78455066  591.7325216   361.69646591]\n",
      "(0, 8) 0.27263407899455405 0.1827412099999961 [-48.03585976 178.90562887 109.81140783]\n",
      "(1, 0) 0.6298140270047203 -0.8967633099999972 [ 226.89703121 -636.72014703 -498.87493619]\n",
      "(1, 1) 0.22602863079665736 0.02882037000000537 [-149.90394005  245.26684736   79.69490131]\n",
      "(1, 2) 0.20775670246815842 -0.1608985999999959 [-76.74208051  54.35716306  43.91555268]\n",
      "(1, 3) 0.31661386879063297 -0.8853609300000045 [ 159.45007347  -78.61196379 -480.13674094]\n",
      "(1, 6) 0.3467512342013503 -0.9337701999999979 [ -46.5397929  -325.73002327 -330.83429119]\n",
      "(1, 7) 0.4065646452855715 0.1169360399999988 [ 215.68962953 -120.6432102   -61.65022905]\n",
      "(2, 1) 0.521647778872168 -0.16435229000000362 [  27.26915903 -119.02773744  230.9002446 ]\n",
      "(2, 4) 0.4960721497216406 0.30768467000000044 [ 264.21179591 -298.23409056   54.19523369]\n",
      "(2, 6) 0.031940735988839036 -0.00983185000000475 [-8.65371436 15.59869011  4.26881476]\n",
      "(2, 9) 0.1538301033210872 -0.16191823000000483 [-75.55539645  25.36781367 -91.90040966]\n",
      "(3, 0) 0.43061622022420126 -0.43323864999999984 [  74.10442687  -11.14366362 -272.61451608]\n",
      "(3, 1) 0.2919252352012901 -0.29139109999999846 [ 248.86697162 -340.0884528  -136.39737932]\n",
      "(3, 8) 0.7099783245142891 0.02745660999999444 [-197.51249165 -169.05534873  125.15799437]\n",
      "(3, 9) 0.5034604432383866 -0.07696099999999717 [  46.53896106 -104.13747745  -75.32814484]\n",
      "(4, 0) 0.26308110501930015 0.11082890999999506 [-202.70963548  113.69076943  114.73035805]\n",
      "(4, 1) 0.03189692524868417 -0.004483120000003282 [-1.36611732  0.23817862 -5.59083847]\n",
      "(4, 2) 0.5684935672670255 -0.04694068000000584 [-108.83906817  145.85280674    0.18239407]\n",
      "(4, 3) 0.37339280108141115 -0.8684549700000019 [  75.113497   -390.86323098 -419.74337515]\n",
      "(4, 5) 0.11171274756645662 -0.2953528000000034 [-45.48230004  -6.86456977  15.71327979]\n",
      "(4, 6) 0.11674090490267464 -0.09470049000000103 [-84.87688281  72.0153575  -14.81535053]\n",
      "(4, 7) 0.5712346855011944 -0.8646058300000021 [ 248.70529875 -710.72667978 -714.10050197]\n",
      "(5, 0) 0.33186873705653896 -0.19071617000000174 [-153.48919917  154.07762314 -143.09984866]\n",
      "(5, 1) 0.3170610197998937 0.3901084000000026 [-79.62893437 267.69413261 234.21930129]\n",
      "(5, 2) 0.4008137586843721 -0.5066008200000027 [ 176.48007831 -397.02416842 -747.91779065]\n",
      "(5, 4) 0.2911085904422251 -0.23374380000000627 [-25.11930231 -33.74825881 -70.32449058]\n",
      "(5, 5) 0.13962043238678565 0.02570387000000096 [  93.13379687 -134.73439834   37.82231372]\n",
      "(5, 6) 0.39457324769539787 -0.8660251999999957 [-248.65763302 -140.41368089 -152.25870932]\n",
      "(6, 0) 0.16407933981995756 -0.08551165000000083 [-181.5965166   254.64266934 -261.21729664]\n",
      "(6, 4) 0.027211584841247766 -0.003337680000001342 [  6.15887614   7.82626346 -25.70578561]\n",
      "(6, 6) 0.3555128238232929 -0.38986865999999765 [ 147.84856829 -292.57437668 -245.40357318]\n",
      "(6, 7) 0.6033641289138655 0.3271251399999997 [-21.20051674  44.78585303  34.19860837]\n",
      "(7, 0) 0.2307898425250833 -0.022988330000003998 [-142.6588935   443.60229594   73.58127856]\n",
      "(7, 1) 0.28945978837688563 -0.3192877999999979 [-160.05130558  -24.65666991   50.59623541]\n",
      "(7, 4) 0.5022755198267644 0.07623691999999949 [ 342.21283986 -142.92757331  172.4028919 ]\n",
      "(7, 5) 0.5389874328502229 0.21347191999999637 [-253.33756351  337.51932094  -21.08225888]\n",
      "(7, 6) 0.29093862911495466 -0.29077450999999854 [ 251.64934944 -336.43251497 -132.7087944 ]\n",
      "(7, 7) 0.49439878583224933 -0.3604119499999996 [  -6.86209275  -43.36870844 -172.51521161]\n",
      "(8, 0) 0.7733642426195894 0.6816075999999995 [-409.66550129  777.16642534  471.83408453]\n",
      "(8, 6) 0.5405314016292209 -0.05860640000000217 [ -21.98581136  -71.66950845 -381.255465  ]\n",
      "(8, 7) 0.16179078770809904 -0.013452440000001786 [ 19.83226571  86.56906314 106.16630347]\n",
      "(8, 9) 0.6309969426040958 -0.9621276600000002 [ 183.57339405 -562.72340985 -469.82205158]\n",
      "(9, 0) 0.3863100564717967 0.2484332300000034 [-312.1395294   410.31146536   52.0047375 ]\n",
      "(9, 1) 0.3257750507822723 0.055612990000000195 [-259.02234604  271.11661671  207.51670335]\n",
      "(9, 4) 0.24452750374560012 -0.08653355999999945 [ 293.13175089 -351.61469957 -182.18532542]\n",
      "(9, 6) 0.19483792871836478 -0.25365484999999666 [ 180.76365245 -237.83786083 -165.21891097]\n",
      "(9, 7) 0.21466548246943326 0.023321680000002232 [  10.52575955 -168.89937513  167.44669528]\n",
      "(9, 8) 0.6964608929617293 0.1519010399999985 [-129.71546154  300.01450219  188.12284481]\n",
      "(9, 9) 1.285162008471894 15.375861700000002 [ 354.91788224 2260.21754303 3455.56778675]\n",
      "(10, 1) 0.39736957959409047 0.15740137999999604 [-103.54520654  -23.00713891  119.19819959]\n",
      "(10, 4) 0.31877785558446203 -0.7063743900000006 [ -26.99585181 -278.79518445 -336.84088466]\n",
      "(10, 7) 0.13407120630667133 -0.11617451000000045 [-210.70259308  125.94653875   46.14767511]\n",
      "(11, 2) 0.45164494576738384 0.20814964000000202 [-35.05181945  98.65563311 125.51227814]\n",
      "(11, 5) 0.45936283270442446 0.022998460000003718 [  93.0769028    27.2990068  -166.34351609]\n",
      "(11, 6) 0.2907698109716748 -0.02297955000000229 [-85.58374479 -34.27182958 162.13431642]\n",
      "(11, 8) 0.540019697573021 -0.07095721999999682 [-68.30086227  51.66635458  -5.20855931]\n",
      "(12, 0) 0.23253277622429547 -0.17642431000000158 [-175.2905263    67.36816337 -257.69219884]\n",
      "(12, 2) 0.4767046186531523 -0.4158872599999981 [  20.63653117 -204.66713524 -178.32722552]\n",
      "(12, 3) 0.39672894314393736 -0.24835522000000054 [ 178.49306981 -235.72600438 -162.84757286]\n",
      "(12, 4) 0.24557690128932666 -0.6387695299999976 [ 143.96873767 -368.14075453 -314.56682584]\n",
      "(12, 7) 0.4241134402677531 0.24041644000000417 [-382.64014617  199.28065714  392.14071081]\n",
      "(13, 0) 0.26582174374998474 0.11161157000000088 [-209.81917897  118.70463126  117.01309409]\n",
      "(13, 2) 0.6077649433724026 0.25825548999999626 [-146.8677541   195.74362947   -8.49653156]\n",
      "(13, 3) 0.6045819887818823 0.002240039999996668 [-250.83071229  158.049355    193.80529068]\n",
      "(14, 1) 0.2848186302883888 0.42003646999999944 [-213.74313537  308.44944908  441.27301156]\n",
      "(14, 2) 0.28812823624561257 -0.2270605299999957 [ -62.03036352  -29.52922569 -113.62253379]\n",
      "(14, 3) 0.3547050451756899 -0.40142391000000543 [ 172.15991863 -229.93757284   24.09022184]\n",
      "(14, 5) 0.5204995484564257 -0.07640401999999824 [  41.90048154 -105.15750429  -80.60714438]\n",
      "(14, 7) 0.410588178442882 -0.02984116999999742 [ 153.15661802 -246.95707767  -74.139849  ]\n",
      "(14, 9) 0.24293386944309264 -0.28143565999999964 [ 215.87379238 -326.30708636  -77.93543421]\n",
      "(15, 0) 0.46628444004849706 0.24598141999999967 [-181.47020948  249.69428164  171.28839712]\n",
      "(15, 1) 0.5125108182124881 -0.0018032300000001555 [-3.72230906  9.11328943 -2.41130491]\n",
      "(15, 2) 0.7938642824568806 0.29666700000000645 [-231.89788663  558.37250794  296.76797565]\n",
      "(15, 3) 0.8357031629453441 -0.4693181799999948 [ 200.33890637 -154.15229038 -292.91860221]\n",
      "(15, 5) 0.15882258635349142 -0.014216339999997274 [ 17.6798455   83.74985945 106.86109976]\n",
      "(15, 6) 0.26115342229294297 0.24856525999999945 [ 89.25408149  23.94082771 -92.20291577]\n",
      "(15, 7) 0.4557378417181758 -1.426002920000002 [ 424.34318774 -701.84824949 -821.82418306]\n",
      "(15, 9) 0.02336966608707007 -0.001127749999994876 [-4.94699676  3.90682628  0.36869033]\n",
      "(16, 0) 0.25762054237031207 0.02219204000000019 [-167.8312803   104.24481772    8.14821707]\n",
      "(16, 2) 0.3316367046707755 -0.0014731799999978534 [ 0.14588005 -3.17638189  0.06774433]\n",
      "(16, 4) 0.39160626051456277 -0.219357549999998 [ 348.84888715 -354.74932995 -240.72576585]\n",
      "(16, 5) 0.46740759792004316 -0.21362570000000147 [ 200.96622699 -234.08291901  -59.45459448]\n",
      "(16, 7) 0.19356384926411138 -0.24698171000000002 [ 178.01276029 -232.52272905 -162.92394196]\n",
      "(17, 0) 0.38059224617502174 -0.03703844000000345 [-189.04404837   71.1624011   124.77508549]\n",
      "(17, 1) 0.3468419950603973 -0.5953820800000003 [ -56.86623659  -42.35431824 -345.52858663]\n",
      "(17, 2) 0.41065568241231615 -0.16387097000000495 [-75.24222061  31.32133106 -90.60220988]\n",
      "(17, 3) 0.7999028145704823 1.9204733600000026 [-208.85090993  757.80558611  406.41068151]\n",
      "(17, 4) 0.2561566976323671 -0.2328904800000018 [-23.20299397 -34.8455742  -70.81684951]\n",
      "(17, 5) 0.30386787202005205 -0.5316573699999978 [ 340.2695882    98.56052582 -113.65148871]\n",
      "(17, 7) 0.4298157036712269 -0.4805076300000053 [ 140.81231891 -282.11252235 -205.62288327]\n",
      "(18, 0) 0.22038818765531018 0.0014996800000020016 [-3.05137994  7.24746274 -4.81791095]\n",
      "(18, 1) 0.3374013049001755 -0.4763921999999994 [  30.22019406 -223.32824293 -194.30431159]\n",
      "(18, 2) 0.13397195929642183 -0.09396970000000238 [-121.27348904  -15.36260608  102.96859293]\n",
      "(18, 5) 0.3683424240320932 -0.5838600800000009 [ 156.69451244 -373.59726857 -565.59538639]\n",
      "(18, 7) 0.4312972752235675 -0.26045350999999783 [  93.39510428 -282.06806582 -188.58957639]\n",
      "(18, 8) 0.2672149708855198 -0.2192667800000052 [ 49.05782309  -8.19621646 -16.40757089]\n",
      "(19, 1) 0.2217992173790585 0.07923062999999786 [ -53.0430845  -133.561752     41.93685851]\n",
      "(19, 2) 0.8379160502908318 -0.5484758200000002 [ 243.597028   -483.4019507  -388.34270701]\n",
      "(19, 5) 0.23313562076482408 -0.17866760000000426 [-175.47178185   73.9948084  -243.04093033]\n",
      "(19, 7) 0.3067577349433683 -0.45847888000000125 [ 298.83355713 -336.98102466 -218.36937969]\n",
      "(19, 8) 0.2503840127722452 -0.4934811800000034 [-170.51242418  116.80165946  -48.81278013]\n",
      "(20, 1) 0.17822611905527663 -0.3848032300000028 [ 223.12941522   86.08229761 -163.44425539]\n",
      "(20, 6) 0.03226984530705543 -0.005651049999997326 [ 17.93817233   1.45033554 -33.39687595]\n",
      "(20, 7) 0.2918712594716575 -0.2275710699999962 [ -61.47713489  -32.95713496 -117.30501967]\n",
      "(20, 9) 0.5959015259331764 0.818218040000005 [-186.67575598  539.30618927  421.38164906]\n"
     ]
    },
    {
     "name": "stdout",
     "output_type": "stream",
     "text": [
      "(21, 0) 0.20177489825292094 0.09314123000000052 [ -94.27083616    7.70262542 -144.07075521]\n",
      "(21, 1) 0.22687900553733548 -0.45873583000000195 [  90.57188453 -204.26957241 -119.7373981 ]\n",
      "(21, 3) 0.2934250704328863 -0.7053190299999983 [ -21.22647793 -299.19674809 -345.9359457 ]\n",
      "(21, 4) 0.026793561497556934 -0.0027532099999945103 [-0.77153399  8.36442959 -0.93846082]\n",
      "(21, 5) 0.24199412228526535 -0.1334250899999958 [ -40.89252742  -63.79836134 -191.02182241]\n",
      "(21, 6) 0.313105364145999 -0.338551080000002 [ 146.20325713 -143.28948153 -228.92873822]\n",
      "(21, 7) 0.25728979790577594 -0.053783969999997794 [-284.31178772  534.34506089  226.44151317]\n",
      "(21, 9) 0.2870825225156924 -0.39896291999999534 [ 170.4106477  -230.29058913   19.66601118]\n",
      "(22, 2) 0.4750164764296519 -0.01834374999999966 [-208.33015826  129.53912723  -18.65514279]\n",
      "(22, 5) 0.21908518128318757 -0.2730903499999968 [ 155.85408054 -375.37574285 -326.58860025]\n",
      "(23, 0) 0.6165326711053275 -0.37537694999999616 [ 227.45007885 -315.64499067 -155.52635886]\n",
      "(23, 2) 0.18877676510694225 0.0875332899999961 [ -4.97382548 186.04973203 -18.46636609]\n",
      "(23, 4) 0.4304459394986558 -0.0011013999999960333 [ -2.30297309   0.84203693 -10.19783059]\n",
      "(23, 5) 0.5978693792454984 -0.502919250000005 [ 355.23022306 -525.39314806 -473.28087022]\n",
      "(23, 6) 0.37528251708968335 -0.04659165999999715 [-106.6517934   139.89642042   -3.92871511]\n",
      "(23, 7) 0.47613720952711885 -0.4138901500000003 [  24.59572877 -210.18477792 -182.2305278 ]\n",
      "(24, 0) 0.27957115084839856 0.15054146000000657 [-248.90269925  211.00801077   52.16310046]\n",
      "(24, 1) 0.5028573750559818 0.3695604099999983 [-353.38471743  307.41469289   94.96720008]\n",
      "(24, 3) 0.301502511389907 -0.11566709999999603 [ 159.50275016 -206.62703371 -552.36570174]\n",
      "(24, 6) 0.6402374997747995 -0.4422004099999981 [ 224.04037977  -44.53355029 -310.55304912]\n",
      "131\n",
      "105\n",
      "236\n",
      "[10, 9, 10, 10, 9, 10, 9, 8, 10, 10, 8, 9, 10, 8, 10, 10, 10, 8, 10, 10, 10, 10, 10, 9, 9]\n",
      "[10, 9, 10, 10, 9, 10, 9, 8, 10, 10, 8, 9, 10, 8, 10, 10, 10, 8, 10, 10, 10, 10, 10, 9, 9]\n"
     ]
    }
   ],
   "source": [
    "ene_tol = 0.02\n",
    "dist_tol = 0.02\n",
    "\n",
    "num_check_similar = 0\n",
    "diff_dist_abs_sum_list = []\n",
    "\n",
    "non_similar_clus = []\n",
    "similar_clus = []\n",
    "non_similar_clus_ene_list = []\n",
    "similar_clus_ene_list = []\n",
    "non_similar_clus_diff_dist = []\n",
    "similar_clus_diff_dist = []\n",
    "\n",
    "n_traj1_list = []\n",
    "n_traj2_list = []\n",
    "\n",
    "for k in range(ini_gen, end_gen):\n",
    "    file1  = 'mut_after_relax_gen'+str(k+1)+'.traj'\n",
    "    file2  = 'vasp_mut_after_relax_gen'+str(k+1)+'.traj'\n",
    "\n",
    "    traj1 = Trajectory(file1)\n",
    "    traj2 = Trajectory(file2)\n",
    "    \n",
    "    n_traj1 = len(traj1)\n",
    "    n_traj2 = len(traj2)\n",
    "    n_traj1_list.append(n_traj1)\n",
    "    n_traj2_list.append(n_traj2)\n",
    "    \n",
    "    for i in range(len(traj1)):\n",
    "        num_check_similar = num_check_similar + 1\n",
    "        clus1 = traj1[i]\n",
    "        clus2 = traj2[i]\n",
    "        \n",
    "        ene1 = clus1.get_potential_energy()\n",
    "        ene2 = clus2.get_potential_energy()\n",
    "        diff_ene = ene1 - ene2\n",
    "        \n",
    "        dist1 = clus1.get_all_distances() \n",
    "        dist2 = clus2.get_all_distances()\n",
    "        diff_dist = dist1 - dist2\n",
    "        diff_dist_abs = np.absolute(diff_dist)\n",
    "        diff_dist_avg = np.sum(diff_dist_abs) / len(diff_dist)**2\n",
    "        \n",
    "        inertia1 = clus1.get_moments_of_inertia()\n",
    "        inertia2 = clus2.get_moments_of_inertia()\n",
    "        diff_inertia = inertia1 - inertia2\n",
    "              \n",
    "        if checkSimilar(clus1, clus2) == True:\n",
    "            #if (diff_dist_avg > dist_tol) or (abs(diff_ene) > ene_tol):\n",
    "            if diff_dist_avg > dist_tol:\n",
    "                #if abs(diff_ene) > ene_tol:\n",
    "                non_similar_clus.append((k,i))\n",
    "                non_similar_clus_ene_list.append(diff_ene)\n",
    "                non_similar_clus_diff_dist.append(diff_dist_avg)\n",
    "                print((k, i),diff_dist_avg, diff_ene, diff_inertia )\n",
    "                #else:\n",
    "                    #similar_clus.append((k,i))\n",
    "                    #similar_clus_ene_list.append(diff_ene)\n",
    "                    #similar_clus_diff_dist.append(diff_dist_avg)\n",
    "                    #print((k, i),diff_dist_avg, diff_ene, diff_inertia )  \n",
    "                    \n",
    "            \n",
    "            else:\n",
    "                if abs(diff_ene) < ene_tol:\n",
    "                    similar_clus.append((k,i))\n",
    "                    similar_clus_ene_list.append(diff_ene)\n",
    "                    similar_clus_diff_dist.append(diff_dist_avg)\n",
    "                    #print((k, i),diff_dist_avg, diff_ene, diff_inertia )  \n",
    "                else:\n",
    "                    non_similar_clus.append((k,i))\n",
    "                    non_similar_clus_ene_list.append(diff_ene)\n",
    "                    non_similar_clus_diff_dist.append(diff_dist_avg)\n",
    "                    print((k, i),diff_dist_avg, diff_ene, diff_inertia )\n",
    "                \n",
    "        else:\n",
    "            if diff_dist_avg < dist_tol:\n",
    "                if abs(diff_ene) < ene_tol:\n",
    "                    similar_clus.append((k,i))\n",
    "                    similar_clus_ene_list.append(diff_ene)\n",
    "                    similar_clus_diff_dist.append(diff_dist_avg)\n",
    "                    #print((k, i),diff_dist_avg, diff_ene, diff_inertia )\n",
    "                else: \n",
    "                    non_similar_clus.append((k,i))\n",
    "                    non_similar_clus_ene_list.append(diff_ene)\n",
    "                    non_similar_clus_diff_dist.append(diff_dist_avg)\n",
    "                    print((k, i),diff_dist_avg, diff_ene, diff_inertia )\n",
    "            else:\n",
    "                non_similar_clus.append((k,i))\n",
    "                non_similar_clus_ene_list.append(diff_ene)\n",
    "                non_similar_clus_diff_dist.append(diff_dist_avg)\n",
    "                print((k, i),diff_dist_avg, diff_ene, diff_inertia )\n",
    "\n",
    "print(len(non_similar_clus))\n",
    "print(len(similar_clus))\n",
    "print(num_check_similar)\n",
    "\n",
    "#print(sorted(non_similar_clus_ene_list))\n",
    "#print(non_similar_clus)\n",
    "#print(sorted(non_similar_clus_ene_list))\n",
    "#print(sorted(non_similar_clus_diff_dist))\n",
    "\n",
    "print(n_traj1_list)\n",
    "print(n_traj2_list)"
   ]
  },
  {
   "cell_type": "code",
   "execution_count": 6,
   "id": "d19a02bd",
   "metadata": {},
   "outputs": [
    {
     "name": "stdout",
     "output_type": "stream",
     "text": [
      "[16, 16, 9, 8, 11, 18, 11, 10, 11, 11]\n",
      "[14, 12, 10, 15, 4, 10, 12, 27, 6]\n",
      "[6, 13, 13, 5, 16, 6, 9, 7, 14, 13]\n",
      "[16, 14, 11, 8, 11, 11, 9, 6, 16, 14]\n",
      "[7, 11, 14, 16, 6, 11, 14, 23, 11]\n",
      "[13, 29, 13, 7, 13, 11, 13, 13, 9, 5]\n",
      "[10, 9, 12, 7, 12, 9, 10, 16, 9]\n",
      "[10, 12, 6, 8, 11, 10, 14, 16]\n",
      "[29, 10, 6, 6, 5, 9, 12, 10, 12, 17]\n",
      "[11, 19, 8, 6, 12, 6, 16, 13, 19, 5]\n",
      "[6, 14, 7, 6, 12, 9, 9, 13]\n",
      "[9, 11, 15, 8, 14, 17, 11, 5, 15]\n",
      "[12, 10, 13, 12, 18, 12, 5, 16, 10, 9]\n",
      "[11, 6, 13, 17, 6, 6, 5, 11]\n",
      "[6, 25, 9, 13, 12, 20, 10, 12, 11, 14]\n",
      "[15, 11, 24, 18, 18, 11, 11, 16, 9, 9]\n",
      "[13, 11, 17, 6, 15, 20, 9, 11, 5, 5]\n",
      "[16, 12, 18, 13, 11, 9, 6, 15]\n",
      "[15, 15, 10, 10, 5, 17, 5, 11, 9, 13]\n",
      "[8, 11, 15, 9, 10, 12, 7, 14, 12, 13]\n",
      "[5, 12, 7, 7, 8, 5, 13, 8, 9, 20]\n",
      "[10, 15, 12, 10, 11, 16, 13, 10, 10, 10]\n",
      "[11, 10, 20, 14, 8, 8, 5, 8, 5, 12]\n",
      "[26, 9, 8, 7, 11, 25, 12, 14, 10]\n",
      "[15, 16, 12, 10, 6, 6, 18, 8, 13]\n"
     ]
    }
   ],
   "source": [
    "filename=\"clus_Ni10.log\"\n",
    "\n",
    "parent_calls_list = []\n",
    "with open(filename, 'r') as fh:\n",
    "    for line in fh:\n",
    "        if line.startswith(\"Parent\"):\n",
    "            line = line.strip()\n",
    "            words = line.split(':')\n",
    "            words[1] = words[1].lstrip()\n",
    "            parent_calls_list.append(words[1])\n",
    "#print(parent_calls_list)\n",
    "#print((parent_calls_list[0]))\n",
    "\n",
    "item_split = []\n",
    "for item in parent_calls_list:\n",
    "    print( item)\n",
    "    item_split.append(item.split(\",\"))\n",
    "#print(item_split)\n",
    "\n",
    "#print(item_split[0])\n"
   ]
  },
  {
   "cell_type": "code",
   "execution_count": 7,
   "id": "7fc02ce7",
   "metadata": {},
   "outputs": [
    {
     "name": "stdout",
     "output_type": "stream",
     "text": [
      "[[16, 16, 9, 8, 11, 18, 11, 10, 11, 11], [14, 12, 10, 15, 4, 10, 12, 27, 6], [6, 13, 13, 5, 16, 6, 9, 7, 14, 13], [16, 14, 11, 8, 11, 11, 9, 6, 16, 14], [7, 11, 14, 16, 6, 11, 14, 23, 11], [13, 29, 13, 7, 13, 11, 13, 13, 9, 5], [10, 9, 12, 7, 12, 9, 10, 16, 9], [10, 12, 6, 8, 11, 10, 14, 16], [29, 10, 6, 6, 5, 9, 12, 10, 12, 17], [11, 19, 8, 6, 12, 6, 16, 13, 19, 5], [6, 14, 7, 6, 12, 9, 9, 13], [9, 11, 15, 8, 14, 17, 11, 5, 15], [12, 10, 13, 12, 18, 12, 5, 16, 10, 9], [11, 6, 13, 17, 6, 6, 5, 11], [6, 25, 9, 13, 12, 20, 10, 12, 11, 14], [15, 11, 24, 18, 18, 11, 11, 16, 9, 9], [13, 11, 17, 6, 15, 20, 9, 11, 5, 5], [16, 12, 18, 13, 11, 9, 6, 15], [15, 15, 10, 10, 5, 17, 5, 11, 9, 13], [8, 11, 15, 9, 10, 12, 7, 14, 12, 13], [5, 12, 7, 7, 8, 5, 13, 8, 9, 20], [10, 15, 12, 10, 11, 16, 13, 10, 10, 10], [11, 10, 20, 14, 8, 8, 5, 8, 5, 12], [26, 9, 8, 7, 11, 25, 12, 14, 10], [15, 16, 12, 10, 6, 6, 18, 8, 13]]\n",
      "25\n",
      "[10, 9, 10, 10, 9, 10, 9, 8, 10, 10, 8, 9, 10, 8, 10, 10, 10, 8, 10, 10, 10, 10, 10, 9, 9]\n",
      "236\n"
     ]
    }
   ],
   "source": [
    "new_vasp_calls = []\n",
    "len_new_vasp_calls = []\n",
    "for i in range(len(item_split)):\n",
    "    k=len(item_split[i])\n",
    "    new_int_list = []\n",
    "    \n",
    "    a = list(item_split[i][0].lstrip())\n",
    "    del a[0] \n",
    "    a = int(''.join(a))\n",
    "    new_int_list.append(a)\n",
    "    #print(a)\n",
    "    for k in range(1,(len(item_split[i])-1)):\n",
    "        b = int(item_split[i][k])\n",
    "        new_int_list.append(b)\n",
    "        #print(b)  \n",
    "    c = list(item_split[i][-1].lstrip())\n",
    "    del c[-1]\n",
    "    c = int(''.join(c))\n",
    "    new_int_list.append(c)\n",
    "    #print(c)\n",
    "    #print(new_int_list)\n",
    "    len_new_list = len(new_int_list)\n",
    "    new_vasp_calls.append(new_int_list)\n",
    "    len_new_vasp_calls.append(len_new_list)\n",
    "print(new_vasp_calls)\n",
    "print(len(new_vasp_calls))\n",
    "print(len_new_vasp_calls)\n",
    "print(sum(len_new_vasp_calls))"
   ]
  },
  {
   "cell_type": "code",
   "execution_count": 8,
   "id": "70de20cb",
   "metadata": {},
   "outputs": [
    {
     "name": "stdout",
     "output_type": "stream",
     "text": [
      "105\n",
      "[(0, 2), (0, 7), (0, 9), (1, 4), (1, 5), (1, 8), (2, 0), (2, 2), (2, 3), (2, 5), (2, 7), (2, 8), (3, 2), (3, 3), (3, 4), (3, 5), (3, 6), (3, 7), (4, 4), (4, 8), (5, 3), (5, 7), (5, 8), (5, 9), (6, 1), (6, 2), (6, 3), (6, 5), (6, 8), (7, 2), (7, 3), (8, 1), (8, 2), (8, 3), (8, 4), (8, 5), (8, 8), (9, 2), (9, 3), (9, 5), (10, 0), (10, 2), (10, 3), (10, 5), (10, 6), (11, 0), (11, 1), (11, 3), (11, 4), (11, 7), (12, 1), (12, 5), (12, 6), (12, 8), (12, 9), (13, 1), (13, 4), (13, 5), (13, 6), (13, 7), (14, 0), (14, 4), (14, 6), (14, 8), (15, 4), (15, 8), (16, 1), (16, 3), (16, 6), (16, 8), (16, 9), (17, 6), (18, 3), (18, 4), (18, 6), (18, 9), (19, 0), (19, 3), (19, 4), (19, 6), (19, 9), (20, 0), (20, 2), (20, 3), (20, 4), (20, 5), (20, 8), (21, 2), (21, 8), (22, 0), (22, 1), (22, 3), (22, 4), (22, 6), (22, 7), (22, 8), (22, 9), (23, 1), (23, 3), (23, 8), (24, 2), (24, 4), (24, 5), (24, 7), (24, 8)]\n"
     ]
    }
   ],
   "source": [
    "print(len(similar_clus))\n",
    "print(similar_clus)"
   ]
  },
  {
   "cell_type": "code",
   "execution_count": 9,
   "id": "39dff7ea",
   "metadata": {},
   "outputs": [
    {
     "name": "stdout",
     "output_type": "stream",
     "text": [
      "[11, 9, 7, 13, 19, 39, 35, 11, 13, 15, 21, 48, 15, 32, 11, 16, 11, 15, 10, 10, 19, 13, 9, 16, 11, 7, 15, 18, 16, 9, 9, 11, 11, 13, 13, 16, 13, 41, 17, 11, 15, 15, 17, 11, 20, 38, 48, 15, 16, 17, 19, 11, 11, 40, 15, 11, 11, 5, 16, 54, 13, 9, 19, 55, 15, 13, 11, 16, 13, 13, 15, 15, 17, 9, 15, 15, 16, 11, 10, 7, 48, 13, 15, 15, 11, 30, 18, 17, 8, 19, 13, 11, 41, 12, 13, 10, 13, 14, 9, 18, 19, 16, 22, 11, 20, 68, 15, 13, 39, 16, 13, 15, 17, 13, 11, 11, 15, 23, 5, 52, 16, 13, 13, 11, 30, 13, 12, 12, 11, 15, 11, 59, 15, 16, 13, 13, 13, 47, 13, 16, 15, 15, 11, 17, 15, 13, 13, 13, 32, 33, 21, 13, 15, 11, 15, 9, 17, 12, 7, 7, 15, 18, 11, 17, 13, 33, 7, 16, 13, 17, 20, 17, 10, 13, 7, 15, 13, 13, 16, 11, 14, 51, 13, 13, 11, 17, 18, 9, 5, 15, 11, 13, 15, 7, 20, 15, 49, 15, 13, 15, 33, 22, 13, 13, 15, 13, 15, 15, 11, 13, 50, 15, 11, 18, 13, 13, 12, 13, 11, 35, 13, 11, 15, 9, 51, 11, 15, 19, 15, 13, 19, 9, 9, 11, 15, 24]\n",
      "\n",
      "\n",
      "[[11, 9, 7, 13, 19, 39, 35, 11, 13, 15], [21, 48, 15, 32, 11, 16, 11, 15, 10], [10, 19, 13, 9, 16, 11, 7, 15, 18, 16], [9, 9, 11, 11, 13, 13, 16, 13, 41, 17], [11, 15, 15, 17, 11, 20, 38, 48, 15], [16, 17, 19, 11, 11, 40, 15, 11, 11, 5], [16, 54, 13, 9, 19, 55, 15, 13, 11], [16, 13, 13, 15, 15, 17, 9, 15], [15, 16, 11, 10, 7, 48, 13, 15, 15, 11], [30, 18, 17, 8, 19, 13, 11, 41, 12, 13], [10, 13, 14, 9, 18, 19, 16, 22], [11, 20, 68, 15, 13, 39, 16, 13, 15], [17, 13, 11, 11, 15, 23, 5, 52, 16, 13], [13, 11, 30, 13, 12, 12, 11, 15], [11, 59, 15, 16, 13, 13, 13, 47, 13, 16], [15, 15, 11, 17, 15, 13, 13, 13, 32, 33], [21, 13, 15, 11, 15, 9, 17, 12, 7, 7], [15, 18, 11, 17, 13, 33, 7, 16], [13, 17, 20, 17, 10, 13, 7, 15, 13, 13], [16, 11, 14, 51, 13, 13, 11, 17, 18, 9], [5, 15, 11, 13, 15, 7, 20, 15, 49, 15], [13, 15, 33, 22, 13, 13, 15, 13, 15, 15], [11, 13, 50, 15, 11, 18, 13, 13, 12, 13], [11, 35, 13, 11, 15, 9, 51, 11, 15], [19, 15, 13, 19, 9, 9, 11, 15, 24]]\n"
     ]
    }
   ],
   "source": [
    "file_vasp=\"results_all.log\"\n",
    "\n",
    "vasp_calls = []\n",
    "vasp_calls_list = []\n",
    "with open(file_vasp, 'r') as fh:\n",
    "    total_images = []\n",
    "    for line in fh:       \n",
    "        if \"VASP Calls\" in line:\n",
    "            line = line.strip()\n",
    "            words = line.split(':')\n",
    "            words[1] = int(words[1].lstrip())\n",
    "            vasp_calls.append(words[1])\n",
    "        if \"Total images in the trajectory\" in line:\n",
    "            line = line.strip()\n",
    "            img_num = line.split(':')\n",
    "            img_num[1] = int(img_num[1].lstrip())\n",
    "            total_images.append(img_num[1])\n",
    "\n",
    "print(vasp_calls)\n",
    "#print(len(vasp_calls))\n",
    "#print(total_images)\n",
    "#print(len(total_images))\n",
    "#print(sum(total_images))\n",
    "print('\\n')\n",
    "\n",
    "kk = 0\n",
    "for i in total_images:\n",
    "    traj_calls = []\n",
    "    for j in range(kk, kk+i):\n",
    "        traj_calls.append(vasp_calls[j])\n",
    "    vasp_calls_list.append(traj_calls)\n",
    "    kk = kk + i\n",
    "\n",
    "print(vasp_calls_list)"
   ]
  },
  {
   "cell_type": "code",
   "execution_count": 10,
   "id": "1331a3c5",
   "metadata": {},
   "outputs": [
    {
     "name": "stdout",
     "output_type": "stream",
     "text": [
      "[[16, 16, 9, 8, 11, 18, 11, 10, 11, 11], [14, 12, 10, 15, 4, 10, 12, 27, 6], [6, 13, 13, 5, 16, 6, 9, 7, 14, 13], [16, 14, 11, 8, 11, 11, 9, 6, 16, 14], [7, 11, 14, 16, 6, 11, 14, 23, 11], [13, 29, 13, 7, 13, 11, 13, 13, 9, 5], [10, 9, 12, 7, 12, 9, 10, 16, 9], [10, 12, 6, 8, 11, 10, 14, 16], [29, 10, 6, 6, 5, 9, 12, 10, 12, 17], [11, 19, 8, 6, 12, 6, 16, 13, 19, 5], [6, 14, 7, 6, 12, 9, 9, 13], [9, 11, 15, 8, 14, 17, 11, 5, 15], [12, 10, 13, 12, 18, 12, 5, 16, 10, 9], [11, 6, 13, 17, 6, 6, 5, 11], [6, 25, 9, 13, 12, 20, 10, 12, 11, 14], [15, 11, 24, 18, 18, 11, 11, 16, 9, 9], [13, 11, 17, 6, 15, 20, 9, 11, 5, 5], [16, 12, 18, 13, 11, 9, 6, 15], [15, 15, 10, 10, 5, 17, 5, 11, 9, 13], [8, 11, 15, 9, 10, 12, 7, 14, 12, 13], [5, 12, 7, 7, 8, 5, 13, 8, 9, 20], [10, 15, 12, 10, 11, 16, 13, 10, 10, 10], [11, 10, 20, 14, 8, 8, 5, 8, 5, 12], [26, 9, 8, 7, 11, 25, 12, 14, 10], [15, 16, 12, 10, 6, 6, 18, 8, 13]]\n"
     ]
    }
   ],
   "source": [
    "print(new_vasp_calls)"
   ]
  },
  {
   "cell_type": "code",
   "execution_count": 11,
   "id": "25923871",
   "metadata": {},
   "outputs": [
    {
     "name": "stdout",
     "output_type": "stream",
     "text": [
      "[(0, 2), (0, 7), (0, 9), (1, 4), (1, 5), (1, 8), (2, 0), (2, 2), (2, 3), (2, 5), (2, 7), (2, 8), (3, 2), (3, 3), (3, 4), (3, 5), (3, 6), (3, 7), (4, 4), (4, 8), (5, 3), (5, 7), (5, 8), (5, 9), (6, 1), (6, 2), (6, 3), (6, 5), (6, 8), (7, 2), (7, 3), (8, 1), (8, 2), (8, 3), (8, 4), (8, 5), (8, 8), (9, 2), (9, 3), (9, 5), (10, 0), (10, 2), (10, 3), (10, 5), (10, 6), (11, 0), (11, 1), (11, 3), (11, 4), (11, 7), (12, 1), (12, 5), (12, 6), (12, 8), (12, 9), (13, 1), (13, 4), (13, 5), (13, 6), (13, 7), (14, 0), (14, 4), (14, 6), (14, 8), (15, 4), (15, 8), (16, 1), (16, 3), (16, 6), (16, 8), (16, 9), (17, 6), (18, 3), (18, 4), (18, 6), (18, 9), (19, 0), (19, 3), (19, 4), (19, 6), (19, 9), (20, 0), (20, 2), (20, 3), (20, 4), (20, 5), (20, 8), (21, 2), (21, 8), (22, 0), (22, 1), (22, 3), (22, 4), (22, 6), (22, 7), (22, 8), (22, 9), (23, 1), (23, 3), (23, 8), (24, 2), (24, 4), (24, 5), (24, 7), (24, 8)]\n"
     ]
    }
   ],
   "source": [
    "print(similar_clus)"
   ]
  },
  {
   "cell_type": "code",
   "execution_count": 12,
   "id": "335b6961",
   "metadata": {},
   "outputs": [
    {
     "name": "stdout",
     "output_type": "stream",
     "text": [
      "[9, 10, 11, 4, 10, 6, 6, 13, 5, 6, 7, 14, 11, 8, 11, 11, 9, 6, 6, 11, 7, 13, 9, 5, 9, 12, 7, 9, 9, 6, 8, 10, 6, 6, 5, 9, 12, 8, 6, 6, 6, 7, 6, 9, 9, 9, 11, 8, 14, 5, 10, 12, 5, 10, 9, 6, 6, 6, 5, 11, 6, 12, 10, 11, 18, 9, 11, 6, 9, 5, 5, 6, 10, 5, 5, 13, 8, 9, 10, 7, 13, 5, 7, 7, 8, 5, 9, 12, 10, 11, 10, 14, 8, 5, 8, 5, 12, 9, 7, 10, 12, 6, 6, 8, 13]\n",
      "895\n",
      "[7, 11, 15, 11, 16, 10, 10, 13, 9, 11, 15, 18, 11, 11, 13, 13, 16, 13, 11, 15, 11, 11, 11, 5, 54, 13, 9, 55, 11, 13, 15, 16, 11, 10, 7, 48, 15, 17, 8, 13, 10, 14, 9, 19, 16, 11, 20, 15, 13, 13, 13, 23, 5, 16, 13, 11, 12, 12, 11, 15, 11, 13, 13, 13, 15, 32, 13, 11, 17, 7, 7, 7, 17, 10, 7, 13, 16, 51, 13, 11, 9, 5, 11, 13, 15, 7, 49, 33, 15, 11, 13, 15, 11, 13, 13, 12, 13, 35, 11, 15, 13, 9, 9, 15, 24]\n",
      "1559\n",
      "[-2, 1, 4, 7, 6, 4, 4, 0, 4, 5, 8, 4, 0, 3, 2, 2, 7, 7, 5, 4, 4, -2, 2, 0, 45, 1, 2, 46, 2, 7, 7, 6, 5, 4, 2, 39, 3, 9, 2, 7, 4, 7, 3, 10, 7, 2, 9, 7, -1, 8, 3, 11, 0, 6, 4, 5, 6, 6, 6, 4, 5, 1, 3, 2, -3, 23, 2, 5, 8, 2, 2, 1, 7, 5, 2, 0, 8, 42, 3, 4, -4, 0, 4, 6, 7, 2, 40, 21, 5, 0, 3, 1, 3, 8, 5, 7, 1, 26, 4, 5, 1, 3, 3, 7, 11]\n",
      "664\n",
      "105\n"
     ]
    }
   ],
   "source": [
    "same_clus_almlp = []\n",
    "same_clus_vasp = []\n",
    "same_clus_diff = []\n",
    "for i in range(len(similar_clus)):\n",
    "    p = similar_clus[i][0]\n",
    "    q = similar_clus[i][1]\n",
    "    \n",
    "    r = new_vasp_calls[p][q] #clus_XXX.log AL\n",
    "    same_clus_almlp.append(r)\n",
    "    s = vasp_calls_list[p][q] #results.log DFT\n",
    "    same_clus_vasp.append(s)\n",
    "    \n",
    "    same_clus_diff.append(s-r)\n",
    "    #print(r, s, s-r)\n",
    "print(same_clus_almlp)\n",
    "print(sum(same_clus_almlp))\n",
    "print(same_clus_vasp)\n",
    "print(sum(same_clus_vasp))\n",
    "print(same_clus_diff)\n",
    "print(sum(same_clus_diff))\n",
    "print(len(same_clus_diff))"
   ]
  },
  {
   "cell_type": "code",
   "execution_count": 13,
   "id": "e40d9d03",
   "metadata": {},
   "outputs": [
    {
     "data": {
      "text/plain": [
       "<AxesSubplot:ylabel='Count'>"
      ]
     },
     "execution_count": 13,
     "metadata": {},
     "output_type": "execute_result"
    },
    {
     "data": {
      "image/png": "[encoded data removed]",
      "text/plain": [
       "<Figure size 432x288 with 1 Axes>"
      ]
     },
     "metadata": {
      "needs_background": "light"
     },
     "output_type": "display_data"
    }
   ],
   "source": [
    "import seaborn as sns\n",
    "sns.histplot(similar_clus_diff_dist, kde=True)"
   ]
  },
  {
   "cell_type": "code",
   "execution_count": 14,
   "id": "f9e4ce49",
   "metadata": {},
   "outputs": [
    {
     "data": {
      "text/plain": [
       "<AxesSubplot:ylabel='Count'>"
      ]
     },
     "execution_count": 14,
     "metadata": {},
     "output_type": "execute_result"
    },
    {
     "data": {
      "image/png": "[encoded data removed]",
      "text/plain": [
       "<Figure size 432x288 with 1 Axes>"
      ]
     },
     "metadata": {
      "needs_background": "light"
     },
     "output_type": "display_data"
    }
   ],
   "source": [
    "sns.histplot(similar_clus_ene_list, kde=True)"
   ]
  },
  {
   "cell_type": "code",
   "execution_count": 15,
   "id": "7debaf5a",
   "metadata": {},
   "outputs": [
    {
     "name": "stdout",
     "output_type": "stream",
     "text": [
      "[-0.00932793000000487, -0.006421830000000739, -0.00554044000000431, -0.005302219999997249, -0.004755729999999403, -0.004035809999997753, -0.003994039999994925, -0.003538900000002343, -0.003527949999998725, -0.0034821899999997186, -0.00340334999999925, -0.003333739999995089, -0.0031780200000000036, -0.0030757199999982276, -0.0030757199999982276, -0.0030757099999974002, -0.002807110000006219, -0.002558890000003089, -0.0022707600000018147, -0.002211800000004871, -0.0022004400000028568, -0.002149289999998416, -0.0019850699999963695, -0.00196654999999879, -0.0017609399999969355, -0.0015181500000025494, -0.0015100799999956394, -0.0008720099999948161, -0.0008177499999959537, -0.0007140199999966512, -0.0007122399999985873, -0.000694519999996146, -0.0006315799999967453, -0.0006119899999958989, -0.0006027399999979366, -0.0004595300000005409, -0.0004383099999998308, -0.0003817899999987162, -0.00036593999999467997, -0.0003627099999974348, -0.0003337899999991123, -0.00028653000000389284, -0.0002800399999998149, -0.0002707200000031662, -0.00021705999999710457, -0.00016567999999494987, -0.0001109099999965224, -9.809000000160495e-05, -9.782000000058133e-05, -8.153000000277189e-05, -7.647000000332582e-05, 2.007000000503467e-05, 2.635999999966998e-05, 3.3690000002195575e-05, 4.865999999736914e-05, 6.161999999676482e-05, 7.950000000533919e-05, 8.876999999785085e-05, 9.614999999740803e-05, 0.00012547000000040498, 0.00012727000000012367, 0.00017815999999726273, 0.00019171000000284266, 0.00023119000000093592, 0.00024111999999831824, 0.0002501600000002213, 0.000300979999998674, 0.0003374399999955813, 0.0003775699999977178, 0.00040741000000110716, 0.00042023000000313004, 0.000423650000001885, 0.0004372099999940815, 0.0004812599999937106, 0.0005399400000030141, 0.0005434999999991419, 0.0006388400000005845, 0.0006540700000030597, 0.0006891299999978173, 0.0007465799999977207, 0.000747969999999043, 0.0007772399999979029, 0.0007879099999996697, 0.0008869600000025457, 0.0009258500000015601, 0.0009483599999953185, 0.000968909999997436, 0.0009851699999998687, 0.0011387400000018033, 0.0012459999999947513, 0.0012472399999978734, 0.0013330299999978479, 0.0014261900000036576, 0.0017677100000028645, 0.002086500000004321, 0.0021070800000018153, 0.0023053900000036265, 0.00254615000000058, 0.0032162400000004254, 0.0033587799999992285, 0.0033944300000001704, 0.0034000799999986953, 0.0034460800000033487, 0.004783860000003415, 0.018503980000005527]\n"
     ]
    }
   ],
   "source": [
    "print(sorted(similar_clus_ene_list))\n",
    "#print(non_similar_clus)\n",
    "#print(sorted(non_similar_clus_ene_list))\n",
    "#print(sorted(non_similar_clus_diff_dist))"
   ]
  },
  {
   "cell_type": "code",
   "execution_count": 16,
   "id": "ba4fbb3d",
   "metadata": {},
   "outputs": [
    {
     "name": "stdout",
     "output_type": "stream",
     "text": [
      "[0.0009217962498548094, 0.0012894117101090164, 0.0013499977168256638, 0.0017244001294377488, 0.0017854480678385265, 0.0017957298310384662, 0.0018385329502875526, 0.00213431610620054, 0.002243541663472275, 0.0023316348402625396, 0.002337270599945693, 0.002540908336009826, 0.002730848308947076, 0.0027377435075876377, 0.002961702124361869, 0.0029962440277597224, 0.0030716322697446597, 0.0030766794199052062, 0.0031387535881288553, 0.0031482041611806365, 0.0033822070623934055, 0.003393682040522217, 0.0035736642974085343, 0.0036822950049904524, 0.003717485562086349, 0.00372764932344956, 0.0037530477606470126, 0.0038388463131244863, 0.003941720027235398, 0.003982964514948711, 0.0040618882416612314, 0.004117752164436359, 0.0042330753043227, 0.004259826734059065, 0.004269228782528467, 0.00437423039045556, 0.004421586006760494, 0.004429493805479429, 0.004504967980780581, 0.004561919785393939, 0.004565457427719544, 0.004699972845655696, 0.004716407767879715, 0.004727169287275155, 0.004728753409280992, 0.00476683430643595, 0.004841713216074135, 0.004850010661733677, 0.004953020119409972, 0.004994446154142311, 0.00510064094140942, 0.005219321121112949, 0.005336322551663395, 0.00542682235943869, 0.005481881963431734, 0.005646074196723445, 0.0056488914954119455, 0.005689640139348109, 0.0057321851972371544, 0.005813162753791401, 0.005829401240100562, 0.005936907737835959, 0.005945503827962701, 0.005951145736721539, 0.0059735676224137, 0.005988118558741151, 0.006076547373210204, 0.006076585935474173, 0.006076587198751202, 0.006087714984279406, 0.006259182580897322, 0.006319043324374762, 0.006437756702911059, 0.0065085796449032875, 0.006722227438962811, 0.00686221918507206, 0.006950667067424519, 0.0070195928402971754, 0.007042763018419107, 0.007090154487618534, 0.00722368735563828, 0.007228769125215795, 0.007320361649038531, 0.0074952338606047155, 0.007560595758106272, 0.0075830676359275985, 0.007726219822011809, 0.008106713011623521, 0.00829504722508898, 0.008304724213183103, 0.008443891818820753, 0.008498289323783785, 0.00864873273171476, 0.009033535575265593, 0.009062571566060154, 0.009656486485913022, 0.009984645684962743, 0.010018388433065404, 0.010076144615983145, 0.01149098669244773, 0.013139147146446772, 0.013333883438870346, 0.013347331779484382, 0.01531335340058928, 0.015534350305307339]\n"
     ]
    }
   ],
   "source": [
    "print(sorted(similar_clus_diff_dist))"
   ]
  },
  {
   "cell_type": "code",
   "execution_count": 17,
   "id": "503e098e",
   "metadata": {},
   "outputs": [],
   "source": [
    "import pickle\n",
    "with open ('Ni10_similar_clus_diff_dist.pkl', 'wb') as fh:\n",
    "    pickle.dump(similar_clus_diff_dist, fh)\n",
    "with open ('Ni10_similar_clus_ene_list.pkl', 'wb') as fh:\n",
    "    pickle.dump(similar_clus_ene_list, fh)"
   ]
  }
 ],
 "metadata": {
  "kernelspec": {
   "display_name": "Python 3 (ipykernel)",
   "language": "python",
   "name": "python3"
  },
  "language_info": {
   "codemirror_mode": {
    "name": "ipython",
    "version": 3
   },
   "file_extension": ".py",
   "mimetype": "text/x-python",
   "name": "python",
   "nbconvert_exporter": "python",
   "pygments_lexer": "ipython3",
   "version": "3.8.10"
  }
 },
 "nbformat": 4,
 "nbformat_minor": 5
}
